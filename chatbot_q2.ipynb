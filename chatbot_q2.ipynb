{
  "cells": [
    {
      "cell_type": "markdown",
      "metadata": {
        "id": "view-in-github",
        "colab_type": "text"
      },
      "source": [
        "<a href=\"https://colab.research.google.com/github/nikhildinesharora/HPML_Chatbot/blob/main/chatbot_q2.ipynb\" target=\"_parent\"><img src=\"https://colab.research.google.com/assets/colab-badge.svg\" alt=\"Open In Colab\"/></a>"
      ]
    },
    {
      "cell_type": "markdown",
      "source": [
        "Nikhil Arora\n",
        "\n",
        "na4063"
      ],
      "metadata": {
        "id": "4PelslH1F6a3"
      }
    },
    {
      "cell_type": "code",
      "source": [
        "!pip install wandb -q\n",
        "import wandb\n",
        "wandb.login()"
      ],
      "metadata": {
        "colab": {
          "base_uri": "https://localhost:8080/"
        },
        "id": "etReVFbocQM8",
        "outputId": "f13b4e2c-ae23-409b-a725-43d0afecd229"
      },
      "execution_count": 1,
      "outputs": [
        {
          "output_type": "stream",
          "name": "stderr",
          "text": [
            "\u001b[34m\u001b[1mwandb\u001b[0m: Currently logged in as: \u001b[33mnikhildinesharora\u001b[0m (\u001b[33mnikhildinesharora-nyu\u001b[0m) to \u001b[32mhttps://api.wandb.ai\u001b[0m. Use \u001b[1m`wandb login --relogin`\u001b[0m to force relogin\n"
          ]
        },
        {
          "output_type": "execute_result",
          "data": {
            "text/plain": [
              "True"
            ]
          },
          "metadata": {},
          "execution_count": 1
        }
      ]
    },
    {
      "cell_type": "code",
      "source": [
        "from google.colab import drive\n",
        "drive.mount('/content/drive')"
      ],
      "metadata": {
        "colab": {
          "base_uri": "https://localhost:8080/"
        },
        "id": "01-jn1vcaGsr",
        "outputId": "6fb14313-4f98-4860-ba3a-6f9c5e6a19dc"
      },
      "execution_count": 2,
      "outputs": [
        {
          "output_type": "stream",
          "name": "stdout",
          "text": [
            "Drive already mounted at /content/drive; to attempt to forcibly remount, call drive.mount(\"/content/drive\", force_remount=True).\n"
          ]
        }
      ]
    },
    {
      "cell_type": "markdown",
      "metadata": {
        "id": "b6Mj51eOVF-C"
      },
      "source": [
        "Chatbot Tutorial\n",
        "================\n",
        "\n",
        "**Author:** [Matthew Inkawhich](https://github.com/MatthewInkawhich)\n"
      ]
    },
    {
      "cell_type": "markdown",
      "metadata": {
        "id": "E6LFBFq_VF-F"
      },
      "source": [
        "In this tutorial, we explore a fun and interesting use-case of recurrent\n",
        "sequence-to-sequence models. We will train a simple chatbot using movie\n",
        "scripts from the [Cornell Movie-Dialogs\n",
        "Corpus](https://www.cs.cornell.edu/~cristian/Cornell_Movie-Dialogs_Corpus.html).\n",
        "\n",
        "Conversational models are a hot topic in artificial intelligence\n",
        "research. Chatbots can be found in a variety of settings, including\n",
        "customer service applications and online helpdesks. These bots are often\n",
        "powered by retrieval-based models, which output predefined responses to\n",
        "questions of certain forms. In a highly restricted domain like a\n",
        "company's IT helpdesk, these models may be sufficient, however, they are\n",
        "not robust enough for more general use-cases. Teaching a machine to\n",
        "carry out a meaningful conversation with a human in multiple domains is\n",
        "a research question that is far from solved. Recently, the deep learning\n",
        "boom has allowed for powerful generative models like Google's [Neural\n",
        "Conversational Model](https://arxiv.org/abs/1506.05869), which marks a\n",
        "large step towards multi-domain generative conversational models. In\n",
        "this tutorial, we will implement this kind of model in PyTorch.\n",
        "\n",
        "![](https://pytorch.org/tutorials/_static/img/chatbot/bot.png){.align-center}\n",
        "\n",
        "``` {.python}\n",
        "> hello?\n",
        "Bot: hello .\n",
        "> where am I?\n",
        "Bot: you re in a hospital .\n",
        "> who are you?\n",
        "Bot: i m a lawyer .\n",
        "> how are you doing?\n",
        "Bot: i m fine .\n",
        "> are you my friend?\n",
        "Bot: no .\n",
        "> you're under arrest\n",
        "Bot: i m trying to help you !\n",
        "> i'm just kidding\n",
        "Bot: i m sorry .\n",
        "> where are you from?\n",
        "Bot: san francisco .\n",
        "> it's time for me to leave\n",
        "Bot: i know .\n",
        "> goodbye\n",
        "Bot: goodbye .\n",
        "```\n",
        "\n",
        "**Tutorial Highlights**\n",
        "\n",
        "-   Handle loading and preprocessing of [Cornell Movie-Dialogs\n",
        "    Corpus](https://www.cs.cornell.edu/~cristian/Cornell_Movie-Dialogs_Corpus.html)\n",
        "    dataset\n",
        "-   Implement a sequence-to-sequence model with [Luong attention\n",
        "    mechanism(s)](https://arxiv.org/abs/1508.04025)\n",
        "-   Jointly train encoder and decoder models using mini-batches\n",
        "-   Implement greedy-search decoding module\n",
        "-   Interact with trained chatbot\n",
        "\n",
        "**Acknowledgments**\n",
        "\n",
        "This tutorial borrows code from the following sources:\n",
        "\n",
        "1)  Yuan-Kuei Wu's pytorch-chatbot implementation:\n",
        "    <https://github.com/ywk991112/pytorch-chatbot>\n",
        "2)  Sean Robertson's practical-pytorch seq2seq-translation example:\n",
        "    <https://github.com/spro/practical-pytorch/tree/master/seq2seq-translation>\n",
        "3)  FloydHub Cornell Movie Corpus preprocessing code:\n",
        "    <https://github.com/floydhub/textutil-preprocess-cornell-movie-corpus>\n"
      ]
    },
    {
      "cell_type": "markdown",
      "metadata": {
        "id": "86BxNAU7VF-G"
      },
      "source": [
        "Preparations\n",
        "============\n",
        "\n",
        "To get started,\n",
        "[download](https://zissou.infosci.cornell.edu/convokit/datasets/movie-corpus/movie-corpus.zip)\n",
        "the Movie-Dialogs Corpus zip file.\n"
      ]
    },
    {
      "cell_type": "code",
      "execution_count": 3,
      "metadata": {
        "colab": {
          "base_uri": "https://localhost:8080/"
        },
        "id": "f0v6IFy1VF-H",
        "outputId": "6a44bcfe-3119-4a7d-c45d-e34176cfeae4"
      },
      "outputs": [
        {
          "output_type": "stream",
          "name": "stdout",
          "text": [
            "Using cuda device\n"
          ]
        }
      ],
      "source": [
        "# and put in a ``data/`` directory under the current directory.\n",
        "#\n",
        "# After that, let’s import some necessities.\n",
        "#\n",
        "\n",
        "import torch\n",
        "from torch.jit import script, trace\n",
        "import torch.nn as nn\n",
        "from torch import optim\n",
        "import torch.nn.functional as F\n",
        "import csv\n",
        "import random\n",
        "import re\n",
        "import os\n",
        "import unicodedata\n",
        "import codecs\n",
        "from io import open\n",
        "import itertools\n",
        "import math\n",
        "import json\n",
        "\n",
        "device = \"cuda\" if torch.cuda.is_available() else \"cpu\"\n",
        "print(f\"Using {device} device\")\n",
        "\n"
      ]
    },
    {
      "cell_type": "markdown",
      "metadata": {
        "id": "_DUcUE3kVF-I"
      },
      "source": [
        "Load & Preprocess Data\n",
        "======================\n",
        "\n",
        "The next step is to reformat our data file and load the data into\n",
        "structures that we can work with.\n",
        "\n",
        "The [Cornell Movie-Dialogs\n",
        "Corpus](https://www.cs.cornell.edu/~cristian/Cornell_Movie-Dialogs_Corpus.html)\n",
        "is a rich dataset of movie character dialog:\n",
        "\n",
        "-   220,579 conversational exchanges between 10,292 pairs of movie\n",
        "    characters\n",
        "-   9,035 characters from 617 movies\n",
        "-   304,713 total utterances\n",
        "\n",
        "This dataset is large and diverse, and there is a great variation of\n",
        "language formality, time periods, sentiment, etc. Our hope is that this\n",
        "diversity makes our model robust to many forms of inputs and queries.\n",
        "\n",
        "First, we'll take a look at some lines of our datafile to see the\n",
        "original format.\n"
      ]
    },
    {
      "cell_type": "code",
      "execution_count": 4,
      "metadata": {
        "colab": {
          "base_uri": "https://localhost:8080/"
        },
        "id": "CpQGxcaSVF-J",
        "outputId": "f2a8dc33-9eb0-495e-9b94-f844abd9a1dd"
      },
      "outputs": [
        {
          "output_type": "stream",
          "name": "stdout",
          "text": [
            "b'{\"id\": \"L1045\", \"conversation_id\": \"L1044\", \"text\": \"They do not!\", \"speaker\": \"u0\", \"meta\": {\"movie_id\": \"m0\", \"parsed\": [{\"rt\": 1, \"toks\": [{\"tok\": \"They\", \"tag\": \"PRP\", \"dep\": \"nsubj\", \"up\": 1, \"dn\": []}, {\"tok\": \"do\", \"tag\": \"VBP\", \"dep\": \"ROOT\", \"dn\": [0, 2, 3]}, {\"tok\": \"not\", \"tag\": \"RB\", \"dep\": \"neg\", \"up\": 1, \"dn\": []}, {\"tok\": \"!\", \"tag\": \".\", \"dep\": \"punct\", \"up\": 1, \"dn\": []}]}]}, \"reply-to\": \"L1044\", \"timestamp\": null, \"vectors\": []}\\n'\n",
            "b'{\"id\": \"L1044\", \"conversation_id\": \"L1044\", \"text\": \"They do to!\", \"speaker\": \"u2\", \"meta\": {\"movie_id\": \"m0\", \"parsed\": [{\"rt\": 1, \"toks\": [{\"tok\": \"They\", \"tag\": \"PRP\", \"dep\": \"nsubj\", \"up\": 1, \"dn\": []}, {\"tok\": \"do\", \"tag\": \"VBP\", \"dep\": \"ROOT\", \"dn\": [0, 2, 3]}, {\"tok\": \"to\", \"tag\": \"TO\", \"dep\": \"dobj\", \"up\": 1, \"dn\": []}, {\"tok\": \"!\", \"tag\": \".\", \"dep\": \"punct\", \"up\": 1, \"dn\": []}]}]}, \"reply-to\": null, \"timestamp\": null, \"vectors\": []}\\n'\n",
            "b'{\"id\": \"L985\", \"conversation_id\": \"L984\", \"text\": \"I hope so.\", \"speaker\": \"u0\", \"meta\": {\"movie_id\": \"m0\", \"parsed\": [{\"rt\": 1, \"toks\": [{\"tok\": \"I\", \"tag\": \"PRP\", \"dep\": \"nsubj\", \"up\": 1, \"dn\": []}, {\"tok\": \"hope\", \"tag\": \"VBP\", \"dep\": \"ROOT\", \"dn\": [0, 2, 3]}, {\"tok\": \"so\", \"tag\": \"RB\", \"dep\": \"advmod\", \"up\": 1, \"dn\": []}, {\"tok\": \".\", \"tag\": \".\", \"dep\": \"punct\", \"up\": 1, \"dn\": []}]}]}, \"reply-to\": \"L984\", \"timestamp\": null, \"vectors\": []}\\n'\n",
            "b'{\"id\": \"L984\", \"conversation_id\": \"L984\", \"text\": \"She okay?\", \"speaker\": \"u2\", \"meta\": {\"movie_id\": \"m0\", \"parsed\": [{\"rt\": 1, \"toks\": [{\"tok\": \"She\", \"tag\": \"PRP\", \"dep\": \"nsubj\", \"up\": 1, \"dn\": []}, {\"tok\": \"okay\", \"tag\": \"RB\", \"dep\": \"ROOT\", \"dn\": [0, 2]}, {\"tok\": \"?\", \"tag\": \".\", \"dep\": \"punct\", \"up\": 1, \"dn\": []}]}]}, \"reply-to\": null, \"timestamp\": null, \"vectors\": []}\\n'\n",
            "b'{\"id\": \"L925\", \"conversation_id\": \"L924\", \"text\": \"Let\\'s go.\", \"speaker\": \"u0\", \"meta\": {\"movie_id\": \"m0\", \"parsed\": [{\"rt\": 0, \"toks\": [{\"tok\": \"Let\", \"tag\": \"VB\", \"dep\": \"ROOT\", \"dn\": [2, 3]}, {\"tok\": \"\\'s\", \"tag\": \"PRP\", \"dep\": \"nsubj\", \"up\": 2, \"dn\": []}, {\"tok\": \"go\", \"tag\": \"VB\", \"dep\": \"ccomp\", \"up\": 0, \"dn\": [1]}, {\"tok\": \".\", \"tag\": \".\", \"dep\": \"punct\", \"up\": 0, \"dn\": []}]}]}, \"reply-to\": \"L924\", \"timestamp\": null, \"vectors\": []}\\n'\n",
            "b'{\"id\": \"L924\", \"conversation_id\": \"L924\", \"text\": \"Wow\", \"speaker\": \"u2\", \"meta\": {\"movie_id\": \"m0\", \"parsed\": [{\"rt\": 0, \"toks\": [{\"tok\": \"Wow\", \"tag\": \"UH\", \"dep\": \"ROOT\", \"dn\": []}]}]}, \"reply-to\": null, \"timestamp\": null, \"vectors\": []}\\n'\n",
            "b'{\"id\": \"L872\", \"conversation_id\": \"L870\", \"text\": \"Okay -- you\\'re gonna need to learn how to lie.\", \"speaker\": \"u0\", \"meta\": {\"movie_id\": \"m0\", \"parsed\": [{\"rt\": 4, \"toks\": [{\"tok\": \"Okay\", \"tag\": \"UH\", \"dep\": \"intj\", \"up\": 4, \"dn\": []}, {\"tok\": \"--\", \"tag\": \":\", \"dep\": \"punct\", \"up\": 4, \"dn\": []}, {\"tok\": \"you\", \"tag\": \"PRP\", \"dep\": \"nsubj\", \"up\": 4, \"dn\": []}, {\"tok\": \"\\'re\", \"tag\": \"VBP\", \"dep\": \"aux\", \"up\": 4, \"dn\": []}, {\"tok\": \"gon\", \"tag\": \"VBG\", \"dep\": \"ROOT\", \"dn\": [0, 1, 2, 3, 6, 12]}, {\"tok\": \"na\", \"tag\": \"TO\", \"dep\": \"aux\", \"up\": 6, \"dn\": []}, {\"tok\": \"need\", \"tag\": \"VB\", \"dep\": \"xcomp\", \"up\": 4, \"dn\": [5, 8]}, {\"tok\": \"to\", \"tag\": \"TO\", \"dep\": \"aux\", \"up\": 8, \"dn\": []}, {\"tok\": \"learn\", \"tag\": \"VB\", \"dep\": \"xcomp\", \"up\": 6, \"dn\": [7, 11]}, {\"tok\": \"how\", \"tag\": \"WRB\", \"dep\": \"advmod\", \"up\": 11, \"dn\": []}, {\"tok\": \"to\", \"tag\": \"TO\", \"dep\": \"aux\", \"up\": 11, \"dn\": []}, {\"tok\": \"lie\", \"tag\": \"VB\", \"dep\": \"xcomp\", \"up\": 8, \"dn\": [9, 10]}, {\"tok\": \".\", \"tag\": \".\", \"dep\": \"punct\", \"up\": 4, \"dn\": []}]}]}, \"reply-to\": \"L871\", \"timestamp\": null, \"vectors\": []}\\n'\n",
            "b'{\"id\": \"L871\", \"conversation_id\": \"L870\", \"text\": \"No\", \"speaker\": \"u2\", \"meta\": {\"movie_id\": \"m0\", \"parsed\": [{\"rt\": 0, \"toks\": [{\"tok\": \"No\", \"tag\": \"UH\", \"dep\": \"ROOT\", \"dn\": []}]}]}, \"reply-to\": \"L870\", \"timestamp\": null, \"vectors\": []}\\n'\n",
            "b'{\"id\": \"L870\", \"conversation_id\": \"L870\", \"text\": \"I\\'m kidding.  You know how sometimes you just become this \\\\\"persona\\\\\"?  And you don\\'t know how to quit?\", \"speaker\": \"u0\", \"meta\": {\"movie_id\": \"m0\", \"parsed\": [{\"rt\": 2, \"toks\": [{\"tok\": \"I\", \"tag\": \"PRP\", \"dep\": \"nsubj\", \"up\": 2, \"dn\": []}, {\"tok\": \"\\'m\", \"tag\": \"VBP\", \"dep\": \"aux\", \"up\": 2, \"dn\": []}, {\"tok\": \"kidding\", \"tag\": \"VBG\", \"dep\": \"ROOT\", \"dn\": [0, 1, 3]}, {\"tok\": \".\", \"tag\": \".\", \"dep\": \"punct\", \"up\": 2, \"dn\": [4]}, {\"tok\": \" \", \"tag\": \"_SP\", \"dep\": \"\", \"up\": 3, \"dn\": []}]}, {\"rt\": 1, \"toks\": [{\"tok\": \"You\", \"tag\": \"PRP\", \"dep\": \"nsubj\", \"up\": 1, \"dn\": []}, {\"tok\": \"know\", \"tag\": \"VBP\", \"dep\": \"ROOT\", \"dn\": [0, 6, 11]}, {\"tok\": \"how\", \"tag\": \"WRB\", \"dep\": \"advmod\", \"up\": 3, \"dn\": []}, {\"tok\": \"sometimes\", \"tag\": \"RB\", \"dep\": \"advmod\", \"up\": 6, \"dn\": [2]}, {\"tok\": \"you\", \"tag\": \"PRP\", \"dep\": \"nsubj\", \"up\": 6, \"dn\": []}, {\"tok\": \"just\", \"tag\": \"RB\", \"dep\": \"advmod\", \"up\": 6, \"dn\": []}, {\"tok\": \"become\", \"tag\": \"VBP\", \"dep\": \"ccomp\", \"up\": 1, \"dn\": [3, 4, 5, 9]}, {\"tok\": \"this\", \"tag\": \"DT\", \"dep\": \"det\", \"up\": 9, \"dn\": []}, {\"tok\": \"\\\\\"\", \"tag\": \"``\", \"dep\": \"punct\", \"up\": 9, \"dn\": []}, {\"tok\": \"persona\", \"tag\": \"NN\", \"dep\": \"attr\", \"up\": 6, \"dn\": [7, 8, 10]}, {\"tok\": \"\\\\\"\", \"tag\": \"\\'\\'\", \"dep\": \"punct\", \"up\": 9, \"dn\": []}, {\"tok\": \"?\", \"tag\": \".\", \"dep\": \"punct\", \"up\": 1, \"dn\": [12]}, {\"tok\": \" \", \"tag\": \"_SP\", \"dep\": \"\", \"up\": 11, \"dn\": []}]}, {\"rt\": 4, \"toks\": [{\"tok\": \"And\", \"tag\": \"CC\", \"dep\": \"cc\", \"up\": 4, \"dn\": []}, {\"tok\": \"you\", \"tag\": \"PRP\", \"dep\": \"nsubj\", \"up\": 4, \"dn\": []}, {\"tok\": \"do\", \"tag\": \"VBP\", \"dep\": \"aux\", \"up\": 4, \"dn\": []}, {\"tok\": \"n\\'t\", \"tag\": \"RB\", \"dep\": \"neg\", \"up\": 4, \"dn\": []}, {\"tok\": \"know\", \"tag\": \"VB\", \"dep\": \"ROOT\", \"dn\": [0, 1, 2, 3, 7, 8]}, {\"tok\": \"how\", \"tag\": \"WRB\", \"dep\": \"advmod\", \"up\": 7, \"dn\": []}, {\"tok\": \"to\", \"tag\": \"TO\", \"dep\": \"aux\", \"up\": 7, \"dn\": []}, {\"tok\": \"quit\", \"tag\": \"VB\", \"dep\": \"xcomp\", \"up\": 4, \"dn\": [5, 6]}, {\"tok\": \"?\", \"tag\": \".\", \"dep\": \"punct\", \"up\": 4, \"dn\": []}]}]}, \"reply-to\": null, \"timestamp\": null, \"vectors\": []}\\n'\n",
            "b'{\"id\": \"L869\", \"conversation_id\": \"L866\", \"text\": \"Like my fear of wearing pastels?\", \"speaker\": \"u0\", \"meta\": {\"movie_id\": \"m0\", \"parsed\": [{\"rt\": 0, \"toks\": [{\"tok\": \"Like\", \"tag\": \"IN\", \"dep\": \"ROOT\", \"dn\": [2, 6]}, {\"tok\": \"my\", \"tag\": \"PRP$\", \"dep\": \"poss\", \"up\": 2, \"dn\": []}, {\"tok\": \"fear\", \"tag\": \"NN\", \"dep\": \"pobj\", \"up\": 0, \"dn\": [1, 3]}, {\"tok\": \"of\", \"tag\": \"IN\", \"dep\": \"prep\", \"up\": 2, \"dn\": [4]}, {\"tok\": \"wearing\", \"tag\": \"VBG\", \"dep\": \"pcomp\", \"up\": 3, \"dn\": [5]}, {\"tok\": \"pastels\", \"tag\": \"NNS\", \"dep\": \"dobj\", \"up\": 4, \"dn\": []}, {\"tok\": \"?\", \"tag\": \".\", \"dep\": \"punct\", \"up\": 0, \"dn\": []}]}]}, \"reply-to\": \"L868\", \"timestamp\": null, \"vectors\": []}\\n'\n"
          ]
        }
      ],
      "source": [
        "corpus_name = \"movie-corpus\"\n",
        "corpus = os.path.join(\"/content/drive/MyDrive\", corpus_name)\n",
        "\n",
        "def printLines(file, n=10):\n",
        "    with open(file, 'rb') as datafile:\n",
        "        lines = datafile.readlines()\n",
        "    for line in lines[:n]:\n",
        "        print(line)\n",
        "\n",
        "printLines(os.path.join(corpus, \"utterances.jsonl\"))"
      ]
    },
    {
      "cell_type": "markdown",
      "metadata": {
        "id": "M9lpoyueVF-K"
      },
      "source": [
        "Create formatted data file\n",
        "==========================\n",
        "\n",
        "For convenience, we\\'ll create a nicely formatted data file in which\n",
        "each line contains a tab-separated *query sentence* and a *response\n",
        "sentence* pair.\n",
        "\n",
        "The following functions facilitate the parsing of the raw\n",
        "`utterances.jsonl` data file.\n",
        "\n",
        "-   `loadLinesAndConversations` splits each line of the file into a\n",
        "    dictionary of lines with fields: `lineID`, `characterID`, and text\n",
        "    and then groups them into conversations with fields:\n",
        "    `conversationID`, `movieID`, and lines.\n",
        "-   `extractSentencePairs` extracts pairs of sentences from\n",
        "    conversations\n"
      ]
    },
    {
      "cell_type": "code",
      "execution_count": 5,
      "metadata": {
        "id": "G2DFD3RyVF-L"
      },
      "outputs": [],
      "source": [
        "# Splits each line of the file to create lines and conversations\n",
        "def loadLinesAndConversations(fileName):\n",
        "    lines = {}\n",
        "    conversations = {}\n",
        "    with open(fileName, 'r', encoding='iso-8859-1') as f:\n",
        "        for line in f:\n",
        "            lineJson = json.loads(line)\n",
        "            # Extract fields for line object\n",
        "            lineObj = {}\n",
        "            lineObj[\"lineID\"] = lineJson[\"id\"]\n",
        "            lineObj[\"characterID\"] = lineJson[\"speaker\"]\n",
        "            lineObj[\"text\"] = lineJson[\"text\"]\n",
        "            lines[lineObj['lineID']] = lineObj\n",
        "\n",
        "            # Extract fields for conversation object\n",
        "            if lineJson[\"conversation_id\"] not in conversations:\n",
        "                convObj = {}\n",
        "                convObj[\"conversationID\"] = lineJson[\"conversation_id\"]\n",
        "                convObj[\"movieID\"] = lineJson[\"meta\"][\"movie_id\"]\n",
        "                convObj[\"lines\"] = [lineObj]\n",
        "            else:\n",
        "                convObj = conversations[lineJson[\"conversation_id\"]]\n",
        "                convObj[\"lines\"].insert(0, lineObj)\n",
        "            conversations[convObj[\"conversationID\"]] = convObj\n",
        "\n",
        "    return lines, conversations\n",
        "\n",
        "\n",
        "# Extracts pairs of sentences from conversations\n",
        "def extractSentencePairs(conversations):\n",
        "    qa_pairs = []\n",
        "    for conversation in conversations.values():\n",
        "        # Iterate over all the lines of the conversation\n",
        "        for i in range(len(conversation[\"lines\"]) - 1):  # We ignore the last line (no answer for it)\n",
        "            inputLine = conversation[\"lines\"][i][\"text\"].strip()\n",
        "            targetLine = conversation[\"lines\"][i+1][\"text\"].strip()\n",
        "            # Filter wrong samples (if one of the lists is empty)\n",
        "            if inputLine and targetLine:\n",
        "                qa_pairs.append([inputLine, targetLine])\n",
        "    return qa_pairs"
      ]
    },
    {
      "cell_type": "markdown",
      "metadata": {
        "id": "D59xikF_VF-L"
      },
      "source": [
        "Now we'll call these functions and create the file. We'll call it\n",
        "`formatted_movie_lines.txt`.\n"
      ]
    },
    {
      "cell_type": "code",
      "execution_count": 6,
      "metadata": {
        "colab": {
          "base_uri": "https://localhost:8080/"
        },
        "id": "L0huyMj6VF-M",
        "outputId": "5ca9ca28-91c6-4ed3-d060-076b2d464c7d"
      },
      "outputs": [
        {
          "output_type": "stream",
          "name": "stdout",
          "text": [
            "\n",
            "Processing corpus into lines and conversations...\n",
            "\n",
            "Writing newly formatted file...\n",
            "\n",
            "Sample lines from file:\n",
            "b'They do to!\\tThey do not!\\n'\n",
            "b'She okay?\\tI hope so.\\n'\n",
            "b\"Wow\\tLet's go.\\n\"\n",
            "b'\"I\\'m kidding.  You know how sometimes you just become this \"\"persona\"\"?  And you don\\'t know how to quit?\"\\tNo\\n'\n",
            "b\"No\\tOkay -- you're gonna need to learn how to lie.\\n\"\n",
            "b\"I figured you'd get to the good stuff eventually.\\tWhat good stuff?\\n\"\n",
            "b'What good stuff?\\t\"The \"\"real you\"\".\"\\n'\n",
            "b'\"The \"\"real you\"\".\"\\tLike my fear of wearing pastels?\\n'\n",
            "b'do you listen to this crap?\\tWhat crap?\\n'\n",
            "b\"What crap?\\tMe.  This endless ...blonde babble. I'm like, boring myself.\\n\"\n"
          ]
        }
      ],
      "source": [
        "# Define path to new file\n",
        "datafile = os.path.join(corpus, \"formatted_movie_lines.txt\")\n",
        "\n",
        "delimiter = '\\t'\n",
        "# Unescape the delimiter\n",
        "delimiter = str(codecs.decode(delimiter, \"unicode_escape\"))\n",
        "\n",
        "# Initialize lines dict and conversations dict\n",
        "lines = {}\n",
        "conversations = {}\n",
        "# Load lines and conversations\n",
        "print(\"\\nProcessing corpus into lines and conversations...\")\n",
        "lines, conversations = loadLinesAndConversations(os.path.join(corpus, \"utterances.jsonl\"))\n",
        "\n",
        "# Write new csv file\n",
        "print(\"\\nWriting newly formatted file...\")\n",
        "with open(datafile, 'w', encoding='utf-8') as outputfile:\n",
        "    writer = csv.writer(outputfile, delimiter=delimiter, lineterminator='\\n')\n",
        "    for pair in extractSentencePairs(conversations):\n",
        "        writer.writerow(pair)\n",
        "\n",
        "# Print a sample of lines\n",
        "print(\"\\nSample lines from file:\")\n",
        "printLines(datafile)"
      ]
    },
    {
      "cell_type": "markdown",
      "metadata": {
        "id": "-Cr-dymRVF-N"
      },
      "source": [
        "Load and trim data\n",
        "==================\n",
        "\n",
        "Our next order of business is to create a vocabulary and load\n",
        "query/response sentence pairs into memory.\n",
        "\n",
        "Note that we are dealing with sequences of **words**, which do not have\n",
        "an implicit mapping to a discrete numerical space. Thus, we must create\n",
        "one by mapping each unique word that we encounter in our dataset to an\n",
        "index value.\n",
        "\n",
        "For this we define a `Voc` class, which keeps a mapping from words to\n",
        "indexes, a reverse mapping of indexes to words, a count of each word and\n",
        "a total word count. The class provides methods for adding a word to the\n",
        "vocabulary (`addWord`), adding all words in a sentence (`addSentence`)\n",
        "and trimming infrequently seen words (`trim`). More on trimming later.\n"
      ]
    },
    {
      "cell_type": "code",
      "execution_count": 7,
      "metadata": {
        "id": "rszfQTgFVF-N"
      },
      "outputs": [],
      "source": [
        "# Default word tokens\n",
        "PAD_token = 0  # Used for padding short sentences\n",
        "SOS_token = 1  # Start-of-sentence token\n",
        "EOS_token = 2  # End-of-sentence token\n",
        "\n",
        "class Voc:\n",
        "    def __init__(self, name):\n",
        "        self.name = name\n",
        "        self.trimmed = False\n",
        "        self.word2index = {}\n",
        "        self.word2count = {}\n",
        "        self.index2word = {PAD_token: \"PAD\", SOS_token: \"SOS\", EOS_token: \"EOS\"}\n",
        "        self.num_words = 3  # Count SOS, EOS, PAD\n",
        "\n",
        "    def addSentence(self, sentence):\n",
        "        for word in sentence.split(' '):\n",
        "            self.addWord(word)\n",
        "\n",
        "    def addWord(self, word):\n",
        "        if word not in self.word2index:\n",
        "            self.word2index[word] = self.num_words\n",
        "            self.word2count[word] = 1\n",
        "            self.index2word[self.num_words] = word\n",
        "            self.num_words += 1\n",
        "        else:\n",
        "            self.word2count[word] += 1\n",
        "\n",
        "    # Remove words below a certain count threshold\n",
        "    def trim(self, min_count):\n",
        "        if self.trimmed:\n",
        "            return\n",
        "        self.trimmed = True\n",
        "\n",
        "        keep_words = []\n",
        "\n",
        "        for k, v in self.word2count.items():\n",
        "            if v >= min_count:\n",
        "                keep_words.append(k)\n",
        "\n",
        "        print('keep_words {} / {} = {:.4f}'.format(\n",
        "            len(keep_words), len(self.word2index), len(keep_words) / len(self.word2index)\n",
        "        ))\n",
        "\n",
        "        # Reinitialize dictionaries\n",
        "        self.word2index = {}\n",
        "        self.word2count = {}\n",
        "        self.index2word = {PAD_token: \"PAD\", SOS_token: \"SOS\", EOS_token: \"EOS\"}\n",
        "        self.num_words = 3 # Count default tokens\n",
        "\n",
        "        for word in keep_words:\n",
        "            self.addWord(word)"
      ]
    },
    {
      "cell_type": "markdown",
      "metadata": {
        "id": "3QuHIkCTVF-O"
      },
      "source": [
        "Now we can assemble our vocabulary and query/response sentence pairs.\n",
        "Before we are ready to use this data, we must perform some\n",
        "preprocessing.\n",
        "\n",
        "First, we must convert the Unicode strings to ASCII using\n",
        "`unicodeToAscii`. Next, we should convert all letters to lowercase and\n",
        "trim all non-letter characters except for basic punctuation\n",
        "(`normalizeString`). Finally, to aid in training convergence, we will\n",
        "filter out sentences with length greater than the `MAX_LENGTH` threshold\n",
        "(`filterPairs`).\n"
      ]
    },
    {
      "cell_type": "code",
      "execution_count": 8,
      "metadata": {
        "colab": {
          "base_uri": "https://localhost:8080/"
        },
        "id": "2uYp44Q8VF-O",
        "outputId": "34da7113-9794-4911-bb00-0879b03a9929"
      },
      "outputs": [
        {
          "output_type": "stream",
          "name": "stdout",
          "text": [
            "Start preparing training data ...\n",
            "Reading lines...\n",
            "Read 221282 sentence pairs\n",
            "Trimmed to 64313 sentence pairs\n",
            "Counting words...\n",
            "Counted words: 18082\n",
            "\n",
            "pairs:\n",
            "['they do to !', 'they do not !']\n",
            "['she okay ?', 'i hope so .']\n",
            "['wow', 'let s go .']\n",
            "['what good stuff ?', 'the real you .']\n",
            "['the real you .', 'like my fear of wearing pastels ?']\n",
            "['do you listen to this crap ?', 'what crap ?']\n",
            "['well no . . .', 'then that s all you had to say .']\n",
            "['then that s all you had to say .', 'but']\n",
            "['but', 'you always been this selfish ?']\n",
            "['have fun tonight ?', 'tons']\n"
          ]
        }
      ],
      "source": [
        "MAX_LENGTH = 10  # Maximum sentence length to consider\n",
        "\n",
        "# Turn a Unicode string to plain ASCII, thanks to\n",
        "# https://stackoverflow.com/a/518232/2809427\n",
        "def unicodeToAscii(s):\n",
        "    return ''.join(\n",
        "        c for c in unicodedata.normalize('NFD', s)\n",
        "        if unicodedata.category(c) != 'Mn'\n",
        "    )\n",
        "\n",
        "# Lowercase, trim, and remove non-letter characters\n",
        "def normalizeString(s):\n",
        "    s = unicodeToAscii(s.lower().strip())\n",
        "    s = re.sub(r\"([.!?])\", r\" \\1\", s)\n",
        "    s = re.sub(r\"[^a-zA-Z.!?]+\", r\" \", s)\n",
        "    s = re.sub(r\"\\s+\", r\" \", s).strip()\n",
        "    return s\n",
        "\n",
        "# Read query/response pairs and return a voc object\n",
        "def readVocs(datafile, corpus_name):\n",
        "    print(\"Reading lines...\")\n",
        "    # Read the file and split into lines\n",
        "    lines = open(datafile, encoding='utf-8').\\\n",
        "        read().strip().split('\\n')\n",
        "    # Split every line into pairs and normalize\n",
        "    pairs = [[normalizeString(s) for s in l.split('\\t')] for l in lines]\n",
        "    voc = Voc(corpus_name)\n",
        "    return voc, pairs\n",
        "\n",
        "# Returns True if both sentences in a pair 'p' are under the MAX_LENGTH threshold\n",
        "def filterPair(p):\n",
        "    # Input sequences need to preserve the last word for EOS token\n",
        "    return len(p[0].split(' ')) < MAX_LENGTH and len(p[1].split(' ')) < MAX_LENGTH\n",
        "\n",
        "# Filter pairs using the ``filterPair`` condition\n",
        "def filterPairs(pairs):\n",
        "    return [pair for pair in pairs if filterPair(pair)]\n",
        "\n",
        "# Using the functions defined above, return a populated voc object and pairs list\n",
        "def loadPrepareData(corpus, corpus_name, datafile, save_dir):\n",
        "    print(\"Start preparing training data ...\")\n",
        "    voc, pairs = readVocs(datafile, corpus_name)\n",
        "    print(\"Read {!s} sentence pairs\".format(len(pairs)))\n",
        "    pairs = filterPairs(pairs)\n",
        "    print(\"Trimmed to {!s} sentence pairs\".format(len(pairs)))\n",
        "    print(\"Counting words...\")\n",
        "    for pair in pairs:\n",
        "        voc.addSentence(pair[0])\n",
        "        voc.addSentence(pair[1])\n",
        "    print(\"Counted words:\", voc.num_words)\n",
        "    return voc, pairs\n",
        "\n",
        "\n",
        "# Load/Assemble voc and pairs\n",
        "save_dir = os.path.join(\"data\", \"save\")\n",
        "voc, pairs = loadPrepareData(corpus, corpus_name, datafile, save_dir)\n",
        "# Print some pairs to validate\n",
        "print(\"\\npairs:\")\n",
        "for pair in pairs[:10]:\n",
        "    print(pair)"
      ]
    },
    {
      "cell_type": "markdown",
      "metadata": {
        "id": "XApW00MrVF-P"
      },
      "source": [
        "Another tactic that is beneficial to achieving faster convergence during\n",
        "training is trimming rarely used words out of our vocabulary. Decreasing\n",
        "the feature space will also soften the difficulty of the function that\n",
        "the model must learn to approximate. We will do this as a two-step\n",
        "process:\n",
        "\n",
        "1)  Trim words used under `MIN_COUNT` threshold using the `voc.trim`\n",
        "    function.\n",
        "2)  Filter out pairs with trimmed words.\n"
      ]
    },
    {
      "cell_type": "code",
      "execution_count": 9,
      "metadata": {
        "colab": {
          "base_uri": "https://localhost:8080/"
        },
        "id": "FGWJhQUfVF-Q",
        "outputId": "d1a3e782-414f-4170-ce85-dcd33c79f428"
      },
      "outputs": [
        {
          "output_type": "stream",
          "name": "stdout",
          "text": [
            "keep_words 7833 / 18079 = 0.4333\n",
            "Trimmed from 64313 pairs to 53131, 0.8261 of total\n"
          ]
        }
      ],
      "source": [
        "MIN_COUNT = 3    # Minimum word count threshold for trimming\n",
        "\n",
        "def trimRareWords(voc, pairs, MIN_COUNT):\n",
        "    # Trim words used under the MIN_COUNT from the voc\n",
        "    voc.trim(MIN_COUNT)\n",
        "    # Filter out pairs with trimmed words\n",
        "    keep_pairs = []\n",
        "    for pair in pairs:\n",
        "        input_sentence = pair[0]\n",
        "        output_sentence = pair[1]\n",
        "        keep_input = True\n",
        "        keep_output = True\n",
        "        # Check input sentence\n",
        "        for word in input_sentence.split(' '):\n",
        "            if word not in voc.word2index:\n",
        "                keep_input = False\n",
        "                break\n",
        "        # Check output sentence\n",
        "        for word in output_sentence.split(' '):\n",
        "            if word not in voc.word2index:\n",
        "                keep_output = False\n",
        "                break\n",
        "\n",
        "        # Only keep pairs that do not contain trimmed word(s) in their input or output sentence\n",
        "        if keep_input and keep_output:\n",
        "            keep_pairs.append(pair)\n",
        "\n",
        "    print(\"Trimmed from {} pairs to {}, {:.4f} of total\".format(len(pairs), len(keep_pairs), len(keep_pairs) / len(pairs)))\n",
        "    return keep_pairs\n",
        "\n",
        "\n",
        "# Trim voc and pairs\n",
        "pairs = trimRareWords(voc, pairs, MIN_COUNT)"
      ]
    },
    {
      "cell_type": "markdown",
      "metadata": {
        "id": "TcrHtHJKVF-Q"
      },
      "source": [
        "Prepare Data for Models\n",
        "=======================\n",
        "\n",
        "Although we have put a great deal of effort into preparing and massaging\n",
        "our data into a nice vocabulary object and list of sentence pairs, our\n",
        "models will ultimately expect numerical torch tensors as inputs. One way\n",
        "to prepare the processed data for the models can be found in the\n",
        "[seq2seq translation\n",
        "tutorial](https://pytorch.org/tutorials/intermediate/seq2seq_translation_tutorial.html).\n",
        "In that tutorial, we use a batch size of 1, meaning that all we have to\n",
        "do is convert the words in our sentence pairs to their corresponding\n",
        "indexes from the vocabulary and feed this to the models.\n",
        "\n",
        "However, if you're interested in speeding up training and/or would like\n",
        "to leverage GPU parallelization capabilities, you will need to train\n",
        "with mini-batches.\n",
        "\n",
        "Using mini-batches also means that we must be mindful of the variation\n",
        "of sentence length in our batches. To accommodate sentences of different\n",
        "sizes in the same batch, we will make our batched input tensor of shape\n",
        "*(max\\_length, batch\\_size)*, where sentences shorter than the\n",
        "*max\\_length* are zero padded after an *EOS\\_token*.\n",
        "\n",
        "If we simply convert our English sentences to tensors by converting\n",
        "words to their indexes(`indexesFromSentence`) and zero-pad, our tensor\n",
        "would have shape *(batch\\_size, max\\_length)* and indexing the first\n",
        "dimension would return a full sequence across all time-steps. However,\n",
        "we need to be able to index our batch along time, and across all\n",
        "sequences in the batch. Therefore, we transpose our input batch shape to\n",
        "*(max\\_length, batch\\_size)*, so that indexing across the first\n",
        "dimension returns a time step across all sentences in the batch. We\n",
        "handle this transpose implicitly in the `zeroPadding` function.\n",
        "\n",
        "![](https://pytorch.org/tutorials/_static/img/chatbot/seq2seq_batches.png){.align-center}\n",
        "\n",
        "The `inputVar` function handles the process of converting sentences to\n",
        "tensor, ultimately creating a correctly shaped zero-padded tensor. It\n",
        "also returns a tensor of `lengths` for each of the sequences in the\n",
        "batch which will be passed to our decoder later.\n",
        "\n",
        "The `outputVar` function performs a similar function to `inputVar`, but\n",
        "instead of returning a `lengths` tensor, it returns a binary mask tensor\n",
        "and a maximum target sentence length. The binary mask tensor has the\n",
        "same shape as the output target tensor, but every element that is a\n",
        "*PAD\\_token* is 0 and all others are 1.\n",
        "\n",
        "`batch2TrainData` simply takes a bunch of pairs and returns the input\n",
        "and target tensors using the aforementioned functions.\n"
      ]
    },
    {
      "cell_type": "code",
      "execution_count": 10,
      "metadata": {
        "colab": {
          "base_uri": "https://localhost:8080/"
        },
        "id": "VcmZySo5VF-Q",
        "outputId": "56a02609-83f9-48ae-ff44-7bfdd2b75d6f"
      },
      "outputs": [
        {
          "output_type": "stream",
          "name": "stdout",
          "text": [
            "input_variable: tensor([[  77,   50,   36,  782,  128],\n",
            "        [  24,   38,   17, 4917, 2951],\n",
            "        [ 231,   62,  347,   14,    2],\n",
            "        [  22, 2227,   14,    2,    0],\n",
            "        [ 374, 1381,    2,    0,    0],\n",
            "        [  58,   14,    0,    0,    0],\n",
            "        [  10,    2,    0,    0,    0],\n",
            "        [   2,    0,    0,    0,    0]])\n",
            "lengths: tensor([8, 7, 5, 4, 3])\n",
            "target_variable: tensor([[  33,  162,  223, 2570,   30],\n",
            "        [  85, 1150,  111,   14,    5],\n",
            "        [3958,  388,   24,   14,   72],\n",
            "        [   5, 1032,  211,   14,   14],\n",
            "        [  72,   14,   10,    2,    2],\n",
            "        [   2,    2,    2,    0,    0]])\n",
            "mask: tensor([[ True,  True,  True,  True,  True],\n",
            "        [ True,  True,  True,  True,  True],\n",
            "        [ True,  True,  True,  True,  True],\n",
            "        [ True,  True,  True,  True,  True],\n",
            "        [ True,  True,  True,  True,  True],\n",
            "        [ True,  True,  True, False, False]])\n",
            "max_target_len: 6\n"
          ]
        }
      ],
      "source": [
        "def indexesFromSentence(voc, sentence):\n",
        "    return [voc.word2index[word] for word in sentence.split(' ')] + [EOS_token]\n",
        "\n",
        "\n",
        "def zeroPadding(l, fillvalue=PAD_token):\n",
        "    return list(itertools.zip_longest(*l, fillvalue=fillvalue))\n",
        "\n",
        "def binaryMatrix(l, value=PAD_token):\n",
        "    m = []\n",
        "    for i, seq in enumerate(l):\n",
        "        m.append([])\n",
        "        for token in seq:\n",
        "            if token == PAD_token:\n",
        "                m[i].append(0)\n",
        "            else:\n",
        "                m[i].append(1)\n",
        "    return m\n",
        "\n",
        "# Returns padded input sequence tensor and lengths\n",
        "def inputVar(l, voc):\n",
        "    indexes_batch = [indexesFromSentence(voc, sentence) for sentence in l]\n",
        "    lengths = torch.tensor([len(indexes) for indexes in indexes_batch])\n",
        "    padList = zeroPadding(indexes_batch)\n",
        "    padVar = torch.LongTensor(padList)\n",
        "    return padVar, lengths\n",
        "\n",
        "# Returns padded target sequence tensor, padding mask, and max target length\n",
        "def outputVar(l, voc):\n",
        "    indexes_batch = [indexesFromSentence(voc, sentence) for sentence in l]\n",
        "    max_target_len = max([len(indexes) for indexes in indexes_batch])\n",
        "    padList = zeroPadding(indexes_batch)\n",
        "    mask = binaryMatrix(padList)\n",
        "    mask = torch.BoolTensor(mask)\n",
        "    padVar = torch.LongTensor(padList)\n",
        "    return padVar, mask, max_target_len\n",
        "\n",
        "# Returns all items for a given batch of pairs\n",
        "def batch2TrainData(voc, pair_batch):\n",
        "    pair_batch.sort(key=lambda x: len(x[0].split(\" \")), reverse=True)\n",
        "    input_batch, output_batch = [], []\n",
        "    for pair in pair_batch:\n",
        "        input_batch.append(pair[0])\n",
        "        output_batch.append(pair[1])\n",
        "    inp, lengths = inputVar(input_batch, voc)\n",
        "    output, mask, max_target_len = outputVar(output_batch, voc)\n",
        "    return inp, lengths, output, mask, max_target_len\n",
        "\n",
        "\n",
        "# Example for validation\n",
        "small_batch_size = 5\n",
        "batches = batch2TrainData(voc, [random.choice(pairs) for _ in range(small_batch_size)])\n",
        "input_variable, lengths, target_variable, mask, max_target_len = batches\n",
        "\n",
        "print(\"input_variable:\", input_variable)\n",
        "print(\"lengths:\", lengths)\n",
        "print(\"target_variable:\", target_variable)\n",
        "print(\"mask:\", mask)\n",
        "print(\"max_target_len:\", max_target_len)"
      ]
    },
    {
      "cell_type": "markdown",
      "metadata": {
        "id": "G8v8ilZuVF-R"
      },
      "source": [
        "Define Models\n",
        "=============\n",
        "\n",
        "Seq2Seq Model\n",
        "-------------\n",
        "\n",
        "The brains of our chatbot is a sequence-to-sequence (seq2seq) model. The\n",
        "goal of a seq2seq model is to take a variable-length sequence as an\n",
        "input, and return a variable-length sequence as an output using a\n",
        "fixed-sized model.\n",
        "\n",
        "[Sutskever et al.](https://arxiv.org/abs/1409.3215) discovered that by\n",
        "using two separate recurrent neural nets together, we can accomplish\n",
        "this task. One RNN acts as an **encoder**, which encodes a variable\n",
        "length input sequence to a fixed-length context vector. In theory, this\n",
        "context vector (the final hidden layer of the RNN) will contain semantic\n",
        "information about the query sentence that is input to the bot. The\n",
        "second RNN is a **decoder**, which takes an input word and the context\n",
        "vector, and returns a guess for the next word in the sequence and a\n",
        "hidden state to use in the next iteration.\n",
        "\n",
        "![](https://pytorch.org/tutorials/_static/img/chatbot/seq2seq_ts.png){.align-center}\n",
        "\n",
        "Image source:\n",
        "<https://jeddy92.github.io/JEddy92.github.io/ts_seq2seq_intro/>\n"
      ]
    },
    {
      "cell_type": "markdown",
      "metadata": {
        "id": "8N9zmAIMVF-R"
      },
      "source": [
        "Encoder\n",
        "=======\n",
        "\n",
        "The encoder RNN iterates through the input sentence one token\n",
        "(e.g. word) at a time, at each time step outputting an \"output\" vector\n",
        "and a \"hidden state\" vector. The hidden state vector is then passed to\n",
        "the next time step, while the output vector is recorded. The encoder\n",
        "transforms the context it saw at each point in the sequence into a set\n",
        "of points in a high-dimensional space, which the decoder will use to\n",
        "generate a meaningful output for the given task.\n",
        "\n",
        "At the heart of our encoder is a multi-layered Gated Recurrent Unit,\n",
        "invented by [Cho et al.](https://arxiv.org/pdf/1406.1078v3.pdf) in 2014.\n",
        "We will use a bidirectional variant of the GRU, meaning that there are\n",
        "essentially two independent RNNs: one that is fed the input sequence in\n",
        "normal sequential order, and one that is fed the input sequence in\n",
        "reverse order. The outputs of each network are summed at each time step.\n",
        "Using a bidirectional GRU will give us the advantage of encoding both\n",
        "past and future contexts.\n",
        "\n",
        "Bidirectional RNN:\n",
        "\n",
        "![](https://pytorch.org/tutorials/_static/img/chatbot/RNN-bidirectional.png){.align-center\n",
        "width=\"70.0%\"}\n",
        "\n",
        "Image source: <https://colah.github.io/posts/2015-09-NN-Types-FP/>\n",
        "\n",
        "Note that an `embedding` layer is used to encode our word indices in an\n",
        "arbitrarily sized feature space. For our models, this layer will map\n",
        "each word to a feature space of size *hidden\\_size*. When trained, these\n",
        "values should encode semantic similarity between similar meaning words.\n",
        "\n",
        "Finally, if passing a padded batch of sequences to an RNN module, we\n",
        "must pack and unpack padding around the RNN pass using\n",
        "`nn.utils.rnn.pack_padded_sequence` and\n",
        "`nn.utils.rnn.pad_packed_sequence` respectively.\n",
        "\n",
        "**Computation Graph:**\n",
        "\n",
        "> 1)  Convert word indexes to embeddings.\n",
        "> 2)  Pack padded batch of sequences for RNN module.\n",
        "> 3)  Forward pass through GRU.\n",
        "> 4)  Unpack padding.\n",
        "> 5)  Sum bidirectional GRU outputs.\n",
        "> 6)  Return output and final hidden state.\n",
        "\n",
        "**Inputs:**\n",
        "\n",
        "-   `input_seq`: batch of input sentences; shape=*(max\\_length,\n",
        "    batch\\_size)*\n",
        "-   `input_lengths`: list of sentence lengths corresponding to each\n",
        "    sentence in the batch; shape=*(batch\\_size)*\n",
        "-   `hidden`: hidden state; shape=*(n\\_layers x num\\_directions,\n",
        "    batch\\_size, hidden\\_size)*\n",
        "\n",
        "**Outputs:**\n",
        "\n",
        "-   `outputs`: output features from the last hidden layer of the GRU\n",
        "    (sum of bidirectional outputs); shape=*(max\\_length, batch\\_size,\n",
        "    hidden\\_size)*\n",
        "-   `hidden`: updated hidden state from GRU; shape=*(n\\_layers x\n",
        "    num\\_directions, batch\\_size, hidden\\_size)*\n"
      ]
    },
    {
      "cell_type": "code",
      "execution_count": 11,
      "metadata": {
        "id": "ESQEIak-VF-S"
      },
      "outputs": [],
      "source": [
        "class EncoderRNN(nn.Module):\n",
        "    def __init__(self, hidden_size, embedding, n_layers=1, dropout=0):\n",
        "        super(EncoderRNN, self).__init__()\n",
        "        self.n_layers = int(n_layers)   # ✅ ensure integer\n",
        "        self.hidden_size = hidden_size\n",
        "        self.embedding = embedding\n",
        "\n",
        "        # Initialize bidirectional GRU\n",
        "        self.gru = nn.GRU(\n",
        "            hidden_size,\n",
        "            hidden_size,\n",
        "            self.n_layers,\n",
        "            dropout=(0 if self.n_layers == 1 else dropout),\n",
        "            bidirectional=True\n",
        "        )\n",
        "\n",
        "    def forward(self, input_seq, input_lengths, hidden=None):\n",
        "        # Convert word indexes to embeddings\n",
        "        embedded = self.embedding(input_seq)\n",
        "        # Pack padded batch of sequences for RNN module\n",
        "        packed = nn.utils.rnn.pack_padded_sequence(embedded, input_lengths)\n",
        "        # Forward pass through GRU\n",
        "        outputs, hidden = self.gru(packed, hidden)\n",
        "        # Unpack padding\n",
        "        outputs, _ = nn.utils.rnn.pad_packed_sequence(outputs)\n",
        "        # Sum bidirectional GRU outputs\n",
        "        outputs = outputs[:, :, :self.hidden_size] + outputs[:, :, self.hidden_size:]\n",
        "        return outputs, hidden"
      ]
    },
    {
      "cell_type": "markdown",
      "metadata": {
        "id": "ba0kiewqVF-S"
      },
      "source": [
        "Decoder\n",
        "=======\n",
        "\n",
        "The decoder RNN generates the response sentence in a token-by-token\n",
        "fashion. It uses the encoder's context vectors, and internal hidden\n",
        "states to generate the next word in the sequence. It continues\n",
        "generating words until it outputs an *EOS\\_token*, representing the end\n",
        "of the sentence. A common problem with a vanilla seq2seq decoder is that\n",
        "if we rely solely on the context vector to encode the entire input\n",
        "sequence's meaning, it is likely that we will have information loss.\n",
        "This is especially the case when dealing with long input sequences,\n",
        "greatly limiting the capability of our decoder.\n",
        "\n",
        "To combat this, [Bahdanau et al.](https://arxiv.org/abs/1409.0473)\n",
        "created an \"attention mechanism\" that allows the decoder to pay\n",
        "attention to certain parts of the input sequence, rather than using the\n",
        "entire fixed context at every step.\n",
        "\n",
        "At a high level, attention is calculated using the decoder's current\n",
        "hidden state and the encoder's outputs. The output attention weights\n",
        "have the same shape as the input sequence, allowing us to multiply them\n",
        "by the encoder outputs, giving us a weighted sum which indicates the\n",
        "parts of encoder output to pay attention to. [Sean\n",
        "Robertson's](https://github.com/spro) figure describes this very well:\n",
        "\n",
        "![](https://pytorch.org/tutorials/_static/img/chatbot/attn2.png){.align-center}\n",
        "\n",
        "[Luong et al.](https://arxiv.org/abs/1508.04025) improved upon Bahdanau\n",
        "et al.'s groundwork by creating \"Global attention\". The key difference\n",
        "is that with \"Global attention\", we consider all of the encoder's hidden\n",
        "states, as opposed to Bahdanau et al.'s \"Local attention\", which only\n",
        "considers the encoder's hidden state from the current time step. Another\n",
        "difference is that with \"Global attention\", we calculate attention\n",
        "weights, or energies, using the hidden state of the decoder from the\n",
        "current time step only. Bahdanau et al.'s attention calculation requires\n",
        "knowledge of the decoder's state from the previous time step. Also,\n",
        "Luong et al. provides various methods to calculate the attention\n",
        "energies between the encoder output and decoder output which are called\n",
        "\"score functions\":\n",
        "\n",
        "![](https://pytorch.org/tutorials/_static/img/chatbot/scores.png){.align-center\n",
        "width=\"60.0%\"}\n",
        "\n",
        "where $h_t$ = current target decoder state and $\\bar{h}_s$ = all encoder\n",
        "states.\n",
        "\n",
        "Overall, the Global attention mechanism can be summarized by the\n",
        "following figure. Note that we will implement the \"Attention Layer\" as a\n",
        "separate `nn.Module` called `Attn`. The output of this module is a\n",
        "softmax normalized weights tensor of shape *(batch\\_size, 1,\n",
        "max\\_length)*.\n",
        "\n",
        "![](https://pytorch.org/tutorials/_static/img/chatbot/global_attn.png){.align-center\n",
        "width=\"60.0%\"}\n"
      ]
    },
    {
      "cell_type": "code",
      "execution_count": 12,
      "metadata": {
        "id": "WrqRDSyyVF-T"
      },
      "outputs": [],
      "source": [
        "# Luong attention layer\n",
        "class Attn(nn.Module):\n",
        "    def __init__(self, method, hidden_size):\n",
        "        super(Attn, self).__init__()\n",
        "        self.method = method\n",
        "        if self.method not in ['dot', 'general', 'concat']:\n",
        "            raise ValueError(self.method, \"is not an appropriate attention method.\")\n",
        "        self.hidden_size = hidden_size\n",
        "        if self.method == 'general':\n",
        "            self.attn = nn.Linear(self.hidden_size, hidden_size)\n",
        "        elif self.method == 'concat':\n",
        "            self.attn = nn.Linear(self.hidden_size * 2, hidden_size)\n",
        "            self.v = nn.Parameter(torch.FloatTensor(hidden_size))\n",
        "\n",
        "    def dot_score(self, hidden, encoder_output):\n",
        "        return torch.sum(hidden * encoder_output, dim=2)\n",
        "\n",
        "    def general_score(self, hidden, encoder_output):\n",
        "        energy = self.attn(encoder_output)\n",
        "        return torch.sum(hidden * energy, dim=2)\n",
        "\n",
        "    def concat_score(self, hidden, encoder_output):\n",
        "        energy = self.attn(torch.cat((hidden.expand(encoder_output.size(0), -1, -1), encoder_output), 2)).tanh()\n",
        "        return torch.sum(self.v * energy, dim=2)\n",
        "\n",
        "    def forward(self, hidden, encoder_outputs):\n",
        "        # Calculate the attention weights (energies) based on the given method\n",
        "        if self.method == 'general':\n",
        "            attn_energies = self.general_score(hidden, encoder_outputs)\n",
        "        elif self.method == 'concat':\n",
        "            attn_energies = self.concat_score(hidden, encoder_outputs)\n",
        "        elif self.method == 'dot':\n",
        "            attn_energies = self.dot_score(hidden, encoder_outputs)\n",
        "\n",
        "        # Transpose max_length and batch_size dimensions\n",
        "        attn_energies = attn_energies.t()\n",
        "\n",
        "        # Return the softmax normalized probability scores (with added dimension)\n",
        "        return F.softmax(attn_energies, dim=1).unsqueeze(1)"
      ]
    },
    {
      "cell_type": "markdown",
      "metadata": {
        "id": "cpaelZieVF-T"
      },
      "source": [
        "Now that we have defined our attention submodule, we can implement the\n",
        "actual decoder model. For the decoder, we will manually feed our batch\n",
        "one time step at a time. This means that our embedded word tensor and\n",
        "GRU output will both have shape *(1, batch\\_size, hidden\\_size)*.\n",
        "\n",
        "**Computation Graph:**\n",
        "\n",
        "> 1)  Get embedding of current input word.\n",
        "> 2)  Forward through unidirectional GRU.\n",
        "> 3)  Calculate attention weights from the current GRU output from (2).\n",
        "> 4)  Multiply attention weights to encoder outputs to get new\n",
        ">     \\\"weighted sum\\\" context vector.\n",
        "> 5)  Concatenate weighted context vector and GRU output using Luong\n",
        ">     eq. 5.\n",
        "> 6)  Predict next word using Luong eq. 6 (without softmax).\n",
        "> 7)  Return output and final hidden state.\n",
        "\n",
        "**Inputs:**\n",
        "\n",
        "-   `input_step`: one time step (one word) of input sequence batch;\n",
        "    shape=*(1, batch\\_size)*\n",
        "-   `last_hidden`: final hidden layer of GRU; shape=*(n\\_layers x\n",
        "    num\\_directions, batch\\_size, hidden\\_size)*\n",
        "-   `encoder_outputs`: encoder model's output; shape=*(max\\_length,\n",
        "    batch\\_size, hidden\\_size)*\n",
        "\n",
        "**Outputs:**\n",
        "\n",
        "-   `output`: softmax normalized tensor giving probabilities of each\n",
        "    word being the correct next word in the decoded sequence;\n",
        "    shape=*(batch\\_size, voc.num\\_words)*\n",
        "-   `hidden`: final hidden state of GRU; shape=*(n\\_layers x\n",
        "    num\\_directions, batch\\_size, hidden\\_size)*\n"
      ]
    },
    {
      "cell_type": "code",
      "execution_count": 13,
      "metadata": {
        "id": "d37VZYi8VF-T"
      },
      "outputs": [],
      "source": [
        "class LuongAttnDecoderRNN(nn.Module):\n",
        "    def __init__(self, attn_model, embedding, hidden_size, output_size, n_layers=1, dropout=0.1):\n",
        "        super(LuongAttnDecoderRNN, self).__init__()\n",
        "\n",
        "        # Keep for reference\n",
        "        self.attn_model = attn_model\n",
        "        self.hidden_size = hidden_size\n",
        "        self.output_size = output_size\n",
        "        self.n_layers = int(n_layers)   # ✅ ensure integer\n",
        "        self.dropout = dropout\n",
        "\n",
        "        # Define layers\n",
        "        self.embedding = embedding\n",
        "        self.embedding_dropout = nn.Dropout(dropout)\n",
        "        self.gru = nn.GRU(\n",
        "            hidden_size,\n",
        "            hidden_size,\n",
        "            self.n_layers,\n",
        "            dropout=(0 if self.n_layers == 1 else dropout)\n",
        "        )\n",
        "        self.concat = nn.Linear(hidden_size * 2, hidden_size)\n",
        "        self.out = nn.Linear(hidden_size, output_size)\n",
        "        self.attn = Attn(attn_model, hidden_size)\n",
        "\n",
        "    def forward(self, input_step, last_hidden, encoder_outputs):\n",
        "        # One step (word) at a time\n",
        "        embedded = self.embedding(input_step)\n",
        "        embedded = self.embedding_dropout(embedded)\n",
        "\n",
        "        # Forward through unidirectional GRU\n",
        "        rnn_output, hidden = self.gru(embedded, last_hidden)\n",
        "\n",
        "        # Calculate attention weights\n",
        "        attn_weights = self.attn(rnn_output, encoder_outputs)\n",
        "\n",
        "        # Compute context vector\n",
        "        context = attn_weights.bmm(encoder_outputs.transpose(0, 1))\n",
        "\n",
        "        # Concatenate context + GRU output\n",
        "        rnn_output = rnn_output.squeeze(0)\n",
        "        context = context.squeeze(1)\n",
        "        concat_input = torch.cat((rnn_output, context), 1)\n",
        "        concat_output = torch.tanh(self.concat(concat_input))\n",
        "\n",
        "        # Predict next word\n",
        "        output = self.out(concat_output)\n",
        "        output = F.softmax(output, dim=1)\n",
        "\n",
        "        return output, hidden"
      ]
    },
    {
      "cell_type": "markdown",
      "metadata": {
        "id": "VkE5xb0RVF-U"
      },
      "source": [
        "Define Training Procedure\n",
        "=========================\n",
        "\n",
        "Masked loss\n",
        "-----------\n",
        "\n",
        "Since we are dealing with batches of padded sequences, we cannot simply\n",
        "consider all elements of the tensor when calculating loss. We define\n",
        "`maskNLLLoss` to calculate our loss based on our decoder's output\n",
        "tensor, the target tensor, and a binary mask tensor describing the\n",
        "padding of the target tensor. This loss function calculates the average\n",
        "negative log likelihood of the elements that correspond to a *1* in the\n",
        "mask tensor.\n"
      ]
    },
    {
      "cell_type": "code",
      "execution_count": 14,
      "metadata": {
        "id": "aVx5slyaVF-U"
      },
      "outputs": [],
      "source": [
        "def maskNLLLoss(inp, target, mask):\n",
        "    nTotal = mask.sum()\n",
        "    crossEntropy = -torch.log(torch.gather(inp, 1, target.view(-1, 1)).squeeze(1))\n",
        "    loss = crossEntropy.masked_select(mask).mean()\n",
        "    loss = loss.to(device)\n",
        "    return loss, nTotal.item()"
      ]
    },
    {
      "cell_type": "markdown",
      "metadata": {
        "id": "yJIGhjaSVF-U"
      },
      "source": [
        "Single training iteration\n",
        "=========================\n",
        "\n",
        "The `train` function contains the algorithm for a single training\n",
        "iteration (a single batch of inputs).\n",
        "\n",
        "We will use a couple of clever tricks to aid in convergence:\n",
        "\n",
        "-   The first trick is using **teacher forcing**. This means that at\n",
        "    some probability, set by `teacher_forcing_ratio`, we use the current\n",
        "    target word as the decoder's next input rather than using the\n",
        "    decoder's current guess. This technique acts as training wheels for\n",
        "    the decoder, aiding in more efficient training. However, teacher\n",
        "    forcing can lead to model instability during inference, as the\n",
        "    decoder may not have a sufficient chance to truly craft its own\n",
        "    output sequences during training. Thus, we must be mindful of how we\n",
        "    are setting the `teacher_forcing_ratio`, and not be fooled by fast\n",
        "    convergence.\n",
        "-   The second trick that we implement is **gradient clipping**. This is\n",
        "    a commonly used technique for countering the \"exploding gradient\"\n",
        "    problem. In essence, by clipping or thresholding gradients to a\n",
        "    maximum value, we prevent the gradients from growing exponentially\n",
        "    and either overflow (NaN), or overshoot steep cliffs in the cost\n",
        "    function.\n",
        "\n",
        "![](https://pytorch.org/tutorials/_static/img/chatbot/grad_clip.png){.align-center\n",
        "width=\"60.0%\"}\n",
        "\n",
        "Image source: Goodfellow et al. *Deep Learning*. 2016.\n",
        "<https://www.deeplearningbook.org/>\n",
        "\n",
        "**Sequence of Operations:**\n",
        "\n",
        "> 1)  Forward pass entire input batch through encoder.\n",
        "> 2)  Initialize decoder inputs as SOS\\_token, and hidden state as the\n",
        ">     encoder\\'s final hidden state.\n",
        "> 3)  Forward input batch sequence through decoder one time step at a\n",
        ">     time.\n",
        "> 4)  If teacher forcing: set next decoder input as the current target;\n",
        ">     else: set next decoder input as current decoder output.\n",
        "> 5)  Calculate and accumulate loss.\n",
        "> 6)  Perform backpropagation.\n",
        "> 7)  Clip gradients.\n",
        "> 8)  Update encoder and decoder model parameters.\n"
      ]
    },
    {
      "cell_type": "code",
      "execution_count": 15,
      "metadata": {
        "id": "Z4Jsq5jiVF-V"
      },
      "outputs": [],
      "source": [
        "def train(input_variable, lengths, target_variable, mask, max_target_len, encoder, decoder, embedding,\n",
        "          encoder_optimizer, decoder_optimizer, batch_size, clip, max_length=MAX_LENGTH):\n",
        "\n",
        "    # Zero gradients\n",
        "    encoder_optimizer.zero_grad()\n",
        "    decoder_optimizer.zero_grad()\n",
        "\n",
        "    # Set device options\n",
        "    input_variable = input_variable.to(device)\n",
        "    target_variable = target_variable.to(device)\n",
        "    mask = mask.to(device)\n",
        "    # Lengths for RNN packing should always be on the CPU\n",
        "    lengths = lengths.to(\"cpu\")\n",
        "\n",
        "    # Initialize variables\n",
        "    loss = 0\n",
        "    print_losses = []\n",
        "    n_totals = 0\n",
        "\n",
        "    # Forward pass through encoder\n",
        "    encoder_outputs, encoder_hidden = encoder(input_variable, lengths)\n",
        "\n",
        "    # Create initial decoder input (start with SOS tokens for each sentence)\n",
        "    decoder_input = torch.LongTensor([[SOS_token for _ in range(batch_size)]])\n",
        "    decoder_input = decoder_input.to(device)\n",
        "\n",
        "    # Set initial decoder hidden state to the encoder's final hidden state\n",
        "    decoder_hidden = encoder_hidden[:decoder.n_layers]\n",
        "\n",
        "    # Determine if we are using teacher forcing this iteration\n",
        "    use_teacher_forcing = True if random.random() < teacher_forcing_ratio else False\n",
        "\n",
        "    # Forward batch of sequences through decoder one time step at a time\n",
        "    if use_teacher_forcing:\n",
        "        for t in range(max_target_len):\n",
        "            decoder_output, decoder_hidden = decoder(\n",
        "                decoder_input, decoder_hidden, encoder_outputs\n",
        "            )\n",
        "            # Teacher forcing: next input is current target\n",
        "            decoder_input = target_variable[t].view(1, -1)\n",
        "            # Calculate and accumulate loss\n",
        "            mask_loss, nTotal = maskNLLLoss(decoder_output, target_variable[t], mask[t])\n",
        "            loss += mask_loss\n",
        "            print_losses.append(mask_loss.item() * nTotal)\n",
        "            n_totals += nTotal\n",
        "    else:\n",
        "        for t in range(max_target_len):\n",
        "            decoder_output, decoder_hidden = decoder(\n",
        "                decoder_input, decoder_hidden, encoder_outputs\n",
        "            )\n",
        "            # No teacher forcing: next input is decoder's own current output\n",
        "            _, topi = decoder_output.topk(1)\n",
        "            decoder_input = torch.LongTensor([[topi[i][0] for i in range(batch_size)]])\n",
        "            decoder_input = decoder_input.to(device)\n",
        "            # Calculate and accumulate loss\n",
        "            mask_loss, nTotal = maskNLLLoss(decoder_output, target_variable[t], mask[t])\n",
        "            loss += mask_loss\n",
        "            print_losses.append(mask_loss.item() * nTotal)\n",
        "            n_totals += nTotal\n",
        "\n",
        "    # Perform backpropagation\n",
        "    loss.backward()\n",
        "\n",
        "    # Clip gradients: gradients are modified in place\n",
        "    _ = nn.utils.clip_grad_norm_(encoder.parameters(), clip)\n",
        "    _ = nn.utils.clip_grad_norm_(decoder.parameters(), clip)\n",
        "\n",
        "    # Adjust model weights\n",
        "    encoder_optimizer.step()\n",
        "    decoder_optimizer.step()\n",
        "\n",
        "    return sum(print_losses) / n_totals"
      ]
    },
    {
      "cell_type": "markdown",
      "metadata": {
        "id": "vhZygwbwVF-V"
      },
      "source": [
        "Training iterations\n",
        "===================\n",
        "\n",
        "It is finally time to tie the full training procedure together with the\n",
        "data. The `trainIters` function is responsible for running\n",
        "`n_iterations` of training given the passed models, optimizers, data,\n",
        "etc. This function is quite self explanatory, as we have done the heavy\n",
        "lifting with the `train` function.\n",
        "\n",
        "One thing to note is that when we save our model, we save a tarball\n",
        "containing the encoder and decoder `state_dicts` (parameters), the\n",
        "optimizers' `state_dicts`, the loss, the iteration, etc. Saving the\n",
        "model in this way will give us the ultimate flexibility with the\n",
        "checkpoint. After loading a checkpoint, we will be able to use the model\n",
        "parameters to run inference, or we can continue training right where we\n",
        "left off.\n"
      ]
    },
    {
      "cell_type": "code",
      "execution_count": 16,
      "metadata": {
        "id": "FX_PtqkPVF-V"
      },
      "outputs": [],
      "source": [
        "import os, time, math, random, gc\n",
        "import torch\n",
        "import wandb\n",
        "from nltk.translate.bleu_score import sentence_bleu\n",
        "\n",
        "def evaluate(encoder, decoder, voc, sentence, max_length=10):\n",
        "    \"\"\"Generate an output sequence from an input sentence.\"\"\"\n",
        "    indexes_batch = [indexesFromSentence(voc, sentence)]\n",
        "    lengths = torch.tensor([len(indexes) for indexes in indexes_batch])\n",
        "    input_batch = torch.LongTensor(indexes_batch).transpose(0, 1).to(device)\n",
        "\n",
        "    # Encode input sentence\n",
        "    encoder.eval()\n",
        "    decoder.eval()\n",
        "    with torch.no_grad():\n",
        "        encoder_outputs, encoder_hidden = encoder(input_batch, lengths)\n",
        "        decoder_input = torch.ones(1, 1, device=device, dtype=torch.long) * SOS_token\n",
        "        decoder_hidden = encoder_hidden[:decoder.n_layers]\n",
        "        decoded_words = []\n",
        "        for _ in range(max_length):\n",
        "            decoder_output, decoder_hidden = decoder(decoder_input, decoder_hidden, encoder_outputs)\n",
        "            _, topi = decoder_output.topk(1)\n",
        "            ni = topi[0][0]\n",
        "            if ni == EOS_token:\n",
        "                decoded_words.append('<EOS>')\n",
        "                break\n",
        "            else:\n",
        "                decoded_words.append(voc.index2word[ni.item()])\n",
        "            decoder_input = torch.LongTensor([[ni]]).to(device)\n",
        "    return ' '.join(decoded_words)\n",
        "\n",
        "def evaluate_bleu(encoder, decoder, pairs_sample, voc, sample_size=100):\n",
        "    encoder.eval()\n",
        "    decoder.eval()\n",
        "    scores = []\n",
        "    with torch.no_grad():\n",
        "        sample = random.sample(pairs_sample, min(sample_size, len(pairs_sample)))\n",
        "        for pair in sample:\n",
        "            # Handle both tuple and list formats safely\n",
        "            if isinstance(pair, (list, tuple)):\n",
        "                input_sentence = pair[0]\n",
        "                target_sentence = pair[1]\n",
        "            else:\n",
        "                continue  # skip malformed entry\n",
        "\n",
        "            try:\n",
        "                output_words = evaluate(encoder, decoder, voc, input_sentence)\n",
        "                hypothesis = output_words.split()\n",
        "                reference = [target_sentence.split()]\n",
        "                # BLEU-1 for simplicity\n",
        "                score = sentence_bleu(reference, hypothesis, weights=(1, 0, 0, 0))\n",
        "                scores.append(score)\n",
        "            except Exception as e:\n",
        "                # skip sentences that fail tokenization or decoding\n",
        "                print(f\"[WARN] BLEU eval skipped one pair: {e}\")\n",
        "                continue\n",
        "    encoder.train()\n",
        "    decoder.train()\n",
        "    return sum(scores)/len(scores) if scores else 0.0\n",
        "\n",
        "\n",
        "\n",
        "def perplexity_from_loss(loss):\n",
        "    try:\n",
        "        return math.exp(float(loss))\n",
        "    except:\n",
        "        return float('inf')\n",
        "\n",
        "\n",
        "def trainIters(model_name, voc, pairs, encoder, decoder, encoder_optimizer,\n",
        "               decoder_optimizer, embedding, encoder_n_layers, decoder_n_layers,\n",
        "               save_dir, n_iteration, batch_size, print_every, save_every, clip,\n",
        "               corpus_name, loadFilename, teacher_forcing_ratio=1.0):\n",
        "\n",
        "    print(\"Initializing ...\")\n",
        "    start_iteration = 1\n",
        "    print_loss = 0\n",
        "    best_loss = None\n",
        "\n",
        "    if loadFilename:\n",
        "        checkpoint = torch.load(loadFilename, map_location=device)\n",
        "        start_iteration = checkpoint.get('iteration', 0) + 1\n",
        "\n",
        "    # Preload training batches\n",
        "    training_batches = [\n",
        "        batch2TrainData(voc, [random.choice(pairs) for _ in range(batch_size)])\n",
        "        for _ in range(n_iteration)\n",
        "    ]\n",
        "\n",
        "    # Optional learning rate schedulers\n",
        "    scheduler_enc = torch.optim.lr_scheduler.StepLR(encoder_optimizer, step_size=500, gamma=0.5)\n",
        "    scheduler_dec = torch.optim.lr_scheduler.StepLR(decoder_optimizer, step_size=500, gamma=0.5)\n",
        "\n",
        "    print(\"Training...\")\n",
        "    start_time = time.time()\n",
        "\n",
        "    for iteration in range(start_iteration, n_iteration + 1):\n",
        "        training_batch = training_batches[iteration - 1]\n",
        "        input_variable, lengths, target_variable, mask, max_target_len = training_batch\n",
        "\n",
        "        # Train single batch\n",
        "        loss = train(input_variable, lengths, target_variable, mask, max_target_len,\n",
        "                     encoder, decoder, embedding, encoder_optimizer, decoder_optimizer,\n",
        "                     batch_size, clip)\n",
        "\n",
        "        print_loss += loss\n",
        "        scheduler_enc.step()\n",
        "        scheduler_dec.step()\n",
        "\n",
        "        # Log and print every N iters\n",
        "        if iteration % print_every == 0:\n",
        "            print_loss_avg = print_loss / print_every\n",
        "            print_loss = 0\n",
        "            elapsed = time.time() - start_time\n",
        "            pct = iteration / n_iteration * 100\n",
        "\n",
        "            print(f\"Iteration: {iteration}; Percent complete: {pct:.1f}%; \"\n",
        "                  f\"Average loss: {print_loss_avg:.4f}; Time: {elapsed/60:.1f}m\")\n",
        "\n",
        "            # Log to wandb\n",
        "            wandb.log({\n",
        "                \"iteration\": iteration,\n",
        "                \"avg_loss\": print_loss_avg,\n",
        "                \"lr_encoder\": scheduler_enc.get_last_lr()[0],\n",
        "                \"lr_decoder\": scheduler_dec.get_last_lr()[0]\n",
        "            })\n",
        "\n",
        "            # Save best model\n",
        "            if best_loss is None or print_loss_avg < best_loss:\n",
        "                best_loss = print_loss_avg\n",
        "                directory = os.path.join(save_dir, model_name, corpus_name,\n",
        "                                         f\"{encoder_n_layers}-{decoder_n_layers}_{hidden_size}\")\n",
        "                os.makedirs(directory, exist_ok=True)\n",
        "                torch.save({\n",
        "                    'iteration': iteration,\n",
        "                    'en': encoder.state_dict(),\n",
        "                    'de': decoder.state_dict(),\n",
        "                    'en_opt': encoder_optimizer.state_dict(),\n",
        "                    'de_opt': decoder_optimizer.state_dict(),\n",
        "                    'loss': best_loss,\n",
        "                    'voc_dict': voc.__dict__,\n",
        "                    'embedding': embedding.state_dict()\n",
        "                }, os.path.join(directory, f\"best_model_{iteration}.tar\"))\n",
        "\n",
        "        # Periodic checkpoint\n",
        "        if iteration % save_every == 0:\n",
        "            directory = os.path.join(save_dir, model_name, corpus_name,\n",
        "                                     f\"{encoder_n_layers}-{decoder_n_layers}_{hidden_size}\")\n",
        "            os.makedirs(directory, exist_ok=True)\n",
        "            torch.save({\n",
        "                'iteration': iteration,\n",
        "                'en': encoder.state_dict(),\n",
        "                'de': decoder.state_dict(),\n",
        "                'en_opt': encoder_optimizer.state_dict(),\n",
        "                'de_opt': decoder_optimizer.state_dict(),\n",
        "                'loss': loss,\n",
        "                'voc_dict': voc.__dict__,\n",
        "                'embedding': embedding.state_dict()\n",
        "            }, os.path.join(directory, f\"checkpoint_{iteration}.tar\"))\n",
        "\n",
        "    # Return average loss for sweep metric\n",
        "    return best_loss if best_loss else print_loss_avg\n"
      ]
    },
    {
      "cell_type": "code",
      "source": [
        "# Shared embedding for encoder and decoder\n",
        "hidden_size = 256  # must match the same hidden_size in your model\n",
        "embedding = nn.Embedding(voc.num_words, hidden_size)\n"
      ],
      "metadata": {
        "id": "FHXj86_7uAVI"
      },
      "execution_count": 17,
      "outputs": []
    },
    {
      "cell_type": "code",
      "source": [
        "def train_with_wandb(config=None):\n",
        "    with wandb.init(project=\"hpml-hw3-chatbot\", config=config):\n",
        "        torch.cuda.empty_cache()\n",
        "        gc.collect()\n",
        "\n",
        "        cfg = wandb.config\n",
        "        hidden_size = 256\n",
        "        encoder_n_layers = 2\n",
        "        decoder_n_layers = 2\n",
        "        dropout = 0.1\n",
        "        lr = float(cfg.learning_rate)\n",
        "        clip = float(cfg.clip)\n",
        "        decoder_learning_ratio = float(cfg.decoder_learning_ratio)\n",
        "        optimizer_name = cfg.optimizer\n",
        "        tfr = float(cfg.teacher_forcing_ratio)\n",
        "\n",
        "        print(f\"[INFO] Layers: enc={encoder_n_layers}, dec={decoder_n_layers}, lr={lr}, opt={optimizer_name}\")\n",
        "\n",
        "        # Shared embedding (global so it can be reused later)\n",
        "        global embedding\n",
        "        embedding = nn.Embedding(voc.num_words, hidden_size)\n",
        "\n",
        "        # Models (make them global for later profiling/saving)\n",
        "        global encoder, decoder\n",
        "        encoder = EncoderRNN(hidden_size, embedding, encoder_n_layers, dropout).to(device)\n",
        "        decoder = LuongAttnDecoderRNN(\n",
        "            'dot', embedding, hidden_size, voc.num_words,\n",
        "            decoder_n_layers, dropout\n",
        "        ).to(device)\n",
        "\n",
        "        # Optimizers\n",
        "        if optimizer_name == \"adam\":\n",
        "            encoder_optimizer = torch.optim.Adam(encoder.parameters(), lr=lr)\n",
        "            decoder_optimizer = torch.optim.Adam(decoder.parameters(), lr=lr * decoder_learning_ratio)\n",
        "        else:\n",
        "            encoder_optimizer = torch.optim.SGD(encoder.parameters(), lr=lr, momentum=0.9)\n",
        "            decoder_optimizer = torch.optim.SGD(decoder.parameters(), lr=lr * decoder_learning_ratio, momentum=0.9)\n",
        "\n",
        "        # Directories and constants\n",
        "        model_name = \"cb_model\"\n",
        "        save_dir = os.path.join(\"data\", \"save\")\n",
        "        corpus_name = \"cornell movie-dialogs corpus\"\n",
        "        loadFilename = None\n",
        "        batch_size = 32\n",
        "\n",
        "        # Register teacher forcing ratio globally\n",
        "        global teacher_forcing_ratio\n",
        "        teacher_forcing_ratio = tfr\n",
        "\n",
        "        # Training loop\n",
        "        avg_loss = trainIters(\n",
        "            model_name=model_name,\n",
        "            voc=voc,\n",
        "            pairs=pairs,\n",
        "            encoder=encoder,\n",
        "            decoder=decoder,\n",
        "            encoder_optimizer=encoder_optimizer,\n",
        "            decoder_optimizer=decoder_optimizer,\n",
        "            embedding=embedding,\n",
        "            encoder_n_layers=encoder_n_layers,\n",
        "            decoder_n_layers=decoder_n_layers,\n",
        "            save_dir=save_dir,\n",
        "            n_iteration=1500,        # stable number for sweeps\n",
        "            batch_size=batch_size,\n",
        "            print_every=100,\n",
        "            save_every=500,\n",
        "            clip=clip,\n",
        "            corpus_name=corpus_name,\n",
        "            loadFilename=loadFilename,\n",
        "            teacher_forcing_ratio=tfr\n",
        "        )\n",
        "\n",
        "        # Post-training evaluation\n",
        "        bleu = evaluate_bleu(encoder, decoder, pairs, voc)\n",
        "        ppl = perplexity_from_loss(avg_loss)\n",
        "        wandb.log({\"final_avg_loss\": avg_loss, \"BLEU\": bleu, \"Perplexity\": ppl})\n",
        "        wandb.summary[\"final_loss\"] = avg_loss\n",
        "        wandb.summary[\"BLEU\"] = bleu\n",
        "        wandb.summary[\"Perplexity\"] = ppl\n",
        "\n",
        "        print(f\"[EVAL] BLEU: {bleu:.4f}, Perplexity: {ppl:.2f}\")\n",
        "\n",
        "        # Save best model checkpoint\n",
        "        os.makedirs(\"checkpoints\", exist_ok=True)\n",
        "        model_path = f\"checkpoints/best_model_{wandb.run.name}.pth\"\n",
        "        torch.save({\n",
        "            'encoder_state_dict': encoder.state_dict(),\n",
        "            'decoder_state_dict': decoder.state_dict(),\n",
        "            'embedding_state_dict': embedding.state_dict(),\n",
        "            'voc_dict': voc.__dict__,\n",
        "        }, model_path)\n",
        "        wandb.save(model_path)\n",
        "        print(f\"[SAVED] Model checkpoint saved to {model_path}\")\n",
        "\n",
        "        # Cleanup\n",
        "        torch.cuda.empty_cache()\n",
        "        gc.collect()\n"
      ],
      "metadata": {
        "id": "4jprXiWIdG5z"
      },
      "execution_count": 18,
      "outputs": []
    },
    {
      "cell_type": "code",
      "source": [
        "sweep_config = {\n",
        "    \"method\": \"random\",\n",
        "    \"metric\": {\"name\": \"avg_loss\", \"goal\": \"minimize\"},\n",
        "    \"parameters\": {\n",
        "        \"learning_rate\": {\"values\": [0.0001, 0.00025, 0.0005, 0.001]},\n",
        "        \"optimizer\": {\"values\": [\"adam\", \"sgd\"]},\n",
        "        \"clip\": {\"values\": [0, 25, 50, 100]},\n",
        "        \"teacher_forcing_ratio\": {\"values\": [0.0, 0.5, 1.0]},\n",
        "        \"decoder_learning_ratio\": {\"values\": [1.0, 3.0, 5.0, 10.0]},\n",
        "    },\n",
        "}\n",
        "\n",
        "sweep_id = wandb.sweep(sweep_config, project=\"hpml-hw3-chatbot\")\n",
        "wandb.agent(sweep_id, function=train_with_wandb, count=10)\n"
      ],
      "metadata": {
        "colab": {
          "base_uri": "https://localhost:8080/",
          "height": 1000
        },
        "id": "zDGQOjxTeuVD",
        "outputId": "a29969e0-da48-42df-d873-7aa6c35d9b93"
      },
      "execution_count": 19,
      "outputs": [
        {
          "output_type": "stream",
          "name": "stdout",
          "text": [
            "Create sweep with ID: ze7oudki\n",
            "Sweep URL: https://wandb.ai/nikhildinesharora-nyu/hpml-hw3-chatbot/sweeps/ze7oudki\n"
          ]
        },
        {
          "output_type": "stream",
          "name": "stderr",
          "text": [
            "\u001b[34m\u001b[1mwandb\u001b[0m: Agent Starting Run: mxfr1vl2 with config:\n",
            "\u001b[34m\u001b[1mwandb\u001b[0m: \tclip: 25\n",
            "\u001b[34m\u001b[1mwandb\u001b[0m: \tdecoder_learning_ratio: 10\n",
            "\u001b[34m\u001b[1mwandb\u001b[0m: \tlearning_rate: 0.0005\n",
            "\u001b[34m\u001b[1mwandb\u001b[0m: \toptimizer: sgd\n",
            "\u001b[34m\u001b[1mwandb\u001b[0m: \tteacher_forcing_ratio: 1\n"
          ]
        },
        {
          "output_type": "display_data",
          "data": {
            "text/plain": [
              "<IPython.core.display.HTML object>"
            ],
            "text/html": [
              "Ignoring project 'hpml-hw3-chatbot' when running a sweep."
            ]
          },
          "metadata": {}
        },
        {
          "output_type": "display_data",
          "data": {
            "text/plain": [
              "<IPython.core.display.HTML object>"
            ],
            "text/html": []
          },
          "metadata": {}
        },
        {
          "output_type": "display_data",
          "data": {
            "text/plain": [
              "<IPython.core.display.HTML object>"
            ],
            "text/html": [
              "Tracking run with wandb version 0.22.2"
            ]
          },
          "metadata": {}
        },
        {
          "output_type": "display_data",
          "data": {
            "text/plain": [
              "<IPython.core.display.HTML object>"
            ],
            "text/html": [
              "Run data is saved locally in <code>/content/wandb/run-20251024_232044-mxfr1vl2</code>"
            ]
          },
          "metadata": {}
        },
        {
          "output_type": "display_data",
          "data": {
            "text/plain": [
              "<IPython.core.display.HTML object>"
            ],
            "text/html": [
              "Syncing run <strong><a href='https://wandb.ai/nikhildinesharora-nyu/hpml-hw3-chatbot/runs/mxfr1vl2' target=\"_blank\">polished-sweep-1</a></strong> to <a href='https://wandb.ai/nikhildinesharora-nyu/hpml-hw3-chatbot' target=\"_blank\">Weights & Biases</a> (<a href='https://wandb.me/developer-guide' target=\"_blank\">docs</a>)<br>Sweep page: <a href='https://wandb.ai/nikhildinesharora-nyu/hpml-hw3-chatbot/sweeps/ze7oudki' target=\"_blank\">https://wandb.ai/nikhildinesharora-nyu/hpml-hw3-chatbot/sweeps/ze7oudki</a>"
            ]
          },
          "metadata": {}
        },
        {
          "output_type": "display_data",
          "data": {
            "text/plain": [
              "<IPython.core.display.HTML object>"
            ],
            "text/html": [
              " View project at <a href='https://wandb.ai/nikhildinesharora-nyu/hpml-hw3-chatbot' target=\"_blank\">https://wandb.ai/nikhildinesharora-nyu/hpml-hw3-chatbot</a>"
            ]
          },
          "metadata": {}
        },
        {
          "output_type": "display_data",
          "data": {
            "text/plain": [
              "<IPython.core.display.HTML object>"
            ],
            "text/html": [
              " View sweep at <a href='https://wandb.ai/nikhildinesharora-nyu/hpml-hw3-chatbot/sweeps/ze7oudki' target=\"_blank\">https://wandb.ai/nikhildinesharora-nyu/hpml-hw3-chatbot/sweeps/ze7oudki</a>"
            ]
          },
          "metadata": {}
        },
        {
          "output_type": "display_data",
          "data": {
            "text/plain": [
              "<IPython.core.display.HTML object>"
            ],
            "text/html": [
              " View run at <a href='https://wandb.ai/nikhildinesharora-nyu/hpml-hw3-chatbot/runs/mxfr1vl2' target=\"_blank\">https://wandb.ai/nikhildinesharora-nyu/hpml-hw3-chatbot/runs/mxfr1vl2</a>"
            ]
          },
          "metadata": {}
        },
        {
          "output_type": "stream",
          "name": "stdout",
          "text": [
            "[INFO] Layers: enc=2, dec=2, lr=0.0005, opt=sgd\n",
            "Initializing ...\n",
            "Training...\n",
            "Iteration: 100; Percent complete: 6.7%; Average loss: 6.0431; Time: 0.1m\n",
            "Iteration: 200; Percent complete: 13.3%; Average loss: 4.5974; Time: 0.1m\n",
            "Iteration: 300; Percent complete: 20.0%; Average loss: 4.4360; Time: 0.2m\n",
            "Iteration: 400; Percent complete: 26.7%; Average loss: 4.3200; Time: 0.3m\n",
            "Iteration: 500; Percent complete: 33.3%; Average loss: 4.2247; Time: 0.3m\n",
            "Iteration: 600; Percent complete: 40.0%; Average loss: 4.1498; Time: 0.4m\n",
            "Iteration: 700; Percent complete: 46.7%; Average loss: 4.0974; Time: 0.5m\n",
            "Iteration: 800; Percent complete: 53.3%; Average loss: 4.0695; Time: 0.5m\n",
            "Iteration: 900; Percent complete: 60.0%; Average loss: 4.0286; Time: 0.6m\n",
            "Iteration: 1000; Percent complete: 66.7%; Average loss: 4.0371; Time: 0.7m\n",
            "Iteration: 1100; Percent complete: 73.3%; Average loss: 3.9958; Time: 0.7m\n",
            "Iteration: 1200; Percent complete: 80.0%; Average loss: 3.9738; Time: 0.8m\n",
            "Iteration: 1300; Percent complete: 86.7%; Average loss: 3.9395; Time: 0.9m\n",
            "Iteration: 1400; Percent complete: 93.3%; Average loss: 3.9703; Time: 0.9m\n",
            "Iteration: 1500; Percent complete: 100.0%; Average loss: 3.9242; Time: 1.0m\n"
          ]
        },
        {
          "output_type": "stream",
          "name": "stderr",
          "text": [
            "/usr/local/lib/python3.12/dist-packages/nltk/translate/bleu_score.py:577: UserWarning: \n",
            "The hypothesis contains 0 counts of 3-gram overlaps.\n",
            "Therefore the BLEU score evaluates to 0, independently of\n",
            "how many N-gram overlaps of lower order it contains.\n",
            "Consider using lower n-gram order or use SmoothingFunction()\n",
            "  warnings.warn(_msg)\n",
            "/usr/local/lib/python3.12/dist-packages/nltk/translate/bleu_score.py:577: UserWarning: \n",
            "The hypothesis contains 0 counts of 4-gram overlaps.\n",
            "Therefore the BLEU score evaluates to 0, independently of\n",
            "how many N-gram overlaps of lower order it contains.\n",
            "Consider using lower n-gram order or use SmoothingFunction()\n",
            "  warnings.warn(_msg)\n",
            "/usr/local/lib/python3.12/dist-packages/nltk/translate/bleu_score.py:577: UserWarning: \n",
            "The hypothesis contains 0 counts of 2-gram overlaps.\n",
            "Therefore the BLEU score evaluates to 0, independently of\n",
            "how many N-gram overlaps of lower order it contains.\n",
            "Consider using lower n-gram order or use SmoothingFunction()\n",
            "  warnings.warn(_msg)\n"
          ]
        },
        {
          "output_type": "stream",
          "name": "stdout",
          "text": [
            "[EVAL] BLEU: 0.1591, Perplexity: 50.61\n",
            "[SAVED] Model checkpoint saved to checkpoints/best_model_polished-sweep-1.pth\n"
          ]
        },
        {
          "output_type": "display_data",
          "data": {
            "text/plain": [
              "<IPython.core.display.HTML object>"
            ],
            "text/html": []
          },
          "metadata": {}
        },
        {
          "output_type": "display_data",
          "data": {
            "text/plain": [
              "<IPython.core.display.HTML object>"
            ],
            "text/html": [
              "<br>    <style><br>        .wandb-row {<br>            display: flex;<br>            flex-direction: row;<br>            flex-wrap: wrap;<br>            justify-content: flex-start;<br>            width: 100%;<br>        }<br>        .wandb-col {<br>            display: flex;<br>            flex-direction: column;<br>            flex-basis: 100%;<br>            flex: 1;<br>            padding: 10px;<br>        }<br>    </style><br><div class=\"wandb-row\"><div class=\"wandb-col\"><h3>Run history:</h3><br/><table class=\"wandb\"><tr><td>BLEU</td><td>▁</td></tr><tr><td>Perplexity</td><td>▁</td></tr><tr><td>avg_loss</td><td>█▃▃▂▂▂▂▁▁▁▁▁▁▁▁</td></tr><tr><td>final_avg_loss</td><td>▁</td></tr><tr><td>iteration</td><td>▁▁▂▃▃▃▄▅▅▅▆▇▇▇█</td></tr><tr><td>lr_decoder</td><td>████▄▄▄▄▄▂▂▂▂▂▁</td></tr><tr><td>lr_encoder</td><td>████▄▄▄▄▄▂▂▂▂▂▁</td></tr></table><br/></div><div class=\"wandb-col\"><h3>Run summary:</h3><br/><table class=\"wandb\"><tr><td>BLEU</td><td>0.15908</td></tr><tr><td>Perplexity</td><td>50.61412</td></tr><tr><td>avg_loss</td><td>3.92423</td></tr><tr><td>final_avg_loss</td><td>3.92423</td></tr><tr><td>final_loss</td><td>3.92423</td></tr><tr><td>iteration</td><td>1500</td></tr><tr><td>lr_decoder</td><td>0.00063</td></tr><tr><td>lr_encoder</td><td>6e-05</td></tr></table><br/></div></div>"
            ]
          },
          "metadata": {}
        },
        {
          "output_type": "display_data",
          "data": {
            "text/plain": [
              "<IPython.core.display.HTML object>"
            ],
            "text/html": [
              " View run <strong style=\"color:#cdcd00\">polished-sweep-1</strong> at: <a href='https://wandb.ai/nikhildinesharora-nyu/hpml-hw3-chatbot/runs/mxfr1vl2' target=\"_blank\">https://wandb.ai/nikhildinesharora-nyu/hpml-hw3-chatbot/runs/mxfr1vl2</a><br> View project at: <a href='https://wandb.ai/nikhildinesharora-nyu/hpml-hw3-chatbot' target=\"_blank\">https://wandb.ai/nikhildinesharora-nyu/hpml-hw3-chatbot</a><br>Synced 5 W&B file(s), 0 media file(s), 0 artifact file(s) and 1 other file(s)"
            ]
          },
          "metadata": {}
        },
        {
          "output_type": "display_data",
          "data": {
            "text/plain": [
              "<IPython.core.display.HTML object>"
            ],
            "text/html": [
              "Find logs at: <code>./wandb/run-20251024_232044-mxfr1vl2/logs</code>"
            ]
          },
          "metadata": {}
        },
        {
          "output_type": "stream",
          "name": "stderr",
          "text": [
            "\u001b[34m\u001b[1mwandb\u001b[0m: Sweep Agent: Waiting for job.\n",
            "\u001b[34m\u001b[1mwandb\u001b[0m: Job received.\n",
            "\u001b[34m\u001b[1mwandb\u001b[0m: Agent Starting Run: c69e9223 with config:\n",
            "\u001b[34m\u001b[1mwandb\u001b[0m: \tclip: 25\n",
            "\u001b[34m\u001b[1mwandb\u001b[0m: \tdecoder_learning_ratio: 10\n",
            "\u001b[34m\u001b[1mwandb\u001b[0m: \tlearning_rate: 0.00025\n",
            "\u001b[34m\u001b[1mwandb\u001b[0m: \toptimizer: adam\n",
            "\u001b[34m\u001b[1mwandb\u001b[0m: \tteacher_forcing_ratio: 0\n"
          ]
        },
        {
          "output_type": "display_data",
          "data": {
            "text/plain": [
              "<IPython.core.display.HTML object>"
            ],
            "text/html": [
              "Ignoring project 'hpml-hw3-chatbot' when running a sweep."
            ]
          },
          "metadata": {}
        },
        {
          "output_type": "display_data",
          "data": {
            "text/plain": [
              "<IPython.core.display.HTML object>"
            ],
            "text/html": []
          },
          "metadata": {}
        },
        {
          "output_type": "display_data",
          "data": {
            "text/plain": [
              "<IPython.core.display.HTML object>"
            ],
            "text/html": [
              "Tracking run with wandb version 0.22.2"
            ]
          },
          "metadata": {}
        },
        {
          "output_type": "display_data",
          "data": {
            "text/plain": [
              "<IPython.core.display.HTML object>"
            ],
            "text/html": [
              "Run data is saved locally in <code>/content/wandb/run-20251024_232201-c69e9223</code>"
            ]
          },
          "metadata": {}
        },
        {
          "output_type": "display_data",
          "data": {
            "text/plain": [
              "<IPython.core.display.HTML object>"
            ],
            "text/html": [
              "Syncing run <strong><a href='https://wandb.ai/nikhildinesharora-nyu/hpml-hw3-chatbot/runs/c69e9223' target=\"_blank\">bright-sweep-2</a></strong> to <a href='https://wandb.ai/nikhildinesharora-nyu/hpml-hw3-chatbot' target=\"_blank\">Weights & Biases</a> (<a href='https://wandb.me/developer-guide' target=\"_blank\">docs</a>)<br>Sweep page: <a href='https://wandb.ai/nikhildinesharora-nyu/hpml-hw3-chatbot/sweeps/ze7oudki' target=\"_blank\">https://wandb.ai/nikhildinesharora-nyu/hpml-hw3-chatbot/sweeps/ze7oudki</a>"
            ]
          },
          "metadata": {}
        },
        {
          "output_type": "display_data",
          "data": {
            "text/plain": [
              "<IPython.core.display.HTML object>"
            ],
            "text/html": [
              " View project at <a href='https://wandb.ai/nikhildinesharora-nyu/hpml-hw3-chatbot' target=\"_blank\">https://wandb.ai/nikhildinesharora-nyu/hpml-hw3-chatbot</a>"
            ]
          },
          "metadata": {}
        },
        {
          "output_type": "display_data",
          "data": {
            "text/plain": [
              "<IPython.core.display.HTML object>"
            ],
            "text/html": [
              " View sweep at <a href='https://wandb.ai/nikhildinesharora-nyu/hpml-hw3-chatbot/sweeps/ze7oudki' target=\"_blank\">https://wandb.ai/nikhildinesharora-nyu/hpml-hw3-chatbot/sweeps/ze7oudki</a>"
            ]
          },
          "metadata": {}
        },
        {
          "output_type": "display_data",
          "data": {
            "text/plain": [
              "<IPython.core.display.HTML object>"
            ],
            "text/html": [
              " View run at <a href='https://wandb.ai/nikhildinesharora-nyu/hpml-hw3-chatbot/runs/c69e9223' target=\"_blank\">https://wandb.ai/nikhildinesharora-nyu/hpml-hw3-chatbot/runs/c69e9223</a>"
            ]
          },
          "metadata": {}
        },
        {
          "output_type": "stream",
          "name": "stdout",
          "text": [
            "[INFO] Layers: enc=2, dec=2, lr=0.00025, opt=adam\n",
            "Initializing ...\n",
            "Training...\n",
            "Iteration: 100; Percent complete: 6.7%; Average loss: 5.3398; Time: 0.1m\n",
            "Iteration: 200; Percent complete: 13.3%; Average loss: 5.0686; Time: 0.1m\n",
            "Iteration: 300; Percent complete: 20.0%; Average loss: 4.9526; Time: 0.2m\n",
            "Iteration: 400; Percent complete: 26.7%; Average loss: 4.9290; Time: 0.3m\n",
            "Iteration: 500; Percent complete: 33.3%; Average loss: 4.9128; Time: 0.4m\n",
            "Iteration: 600; Percent complete: 40.0%; Average loss: 4.7969; Time: 0.5m\n",
            "Iteration: 700; Percent complete: 46.7%; Average loss: 4.7530; Time: 0.5m\n",
            "Iteration: 800; Percent complete: 53.3%; Average loss: 4.7252; Time: 0.6m\n",
            "Iteration: 900; Percent complete: 60.0%; Average loss: 4.6850; Time: 0.7m\n",
            "Iteration: 1000; Percent complete: 66.7%; Average loss: 4.7003; Time: 0.8m\n",
            "Iteration: 1100; Percent complete: 73.3%; Average loss: 4.6454; Time: 0.8m\n",
            "Iteration: 1200; Percent complete: 80.0%; Average loss: 4.6037; Time: 0.9m\n",
            "Iteration: 1300; Percent complete: 86.7%; Average loss: 4.6158; Time: 1.0m\n",
            "Iteration: 1400; Percent complete: 93.3%; Average loss: 4.5858; Time: 1.1m\n",
            "Iteration: 1500; Percent complete: 100.0%; Average loss: 4.6200; Time: 1.1m\n",
            "[EVAL] BLEU: 0.1664, Perplexity: 98.08\n",
            "[SAVED] Model checkpoint saved to checkpoints/best_model_bright-sweep-2.pth\n"
          ]
        },
        {
          "output_type": "display_data",
          "data": {
            "text/plain": [
              "<IPython.core.display.HTML object>"
            ],
            "text/html": []
          },
          "metadata": {}
        },
        {
          "output_type": "display_data",
          "data": {
            "text/plain": [
              "<IPython.core.display.HTML object>"
            ],
            "text/html": [
              "<br>    <style><br>        .wandb-row {<br>            display: flex;<br>            flex-direction: row;<br>            flex-wrap: wrap;<br>            justify-content: flex-start;<br>            width: 100%;<br>        }<br>        .wandb-col {<br>            display: flex;<br>            flex-direction: column;<br>            flex-basis: 100%;<br>            flex: 1;<br>            padding: 10px;<br>        }<br>    </style><br><div class=\"wandb-row\"><div class=\"wandb-col\"><h3>Run history:</h3><br/><table class=\"wandb\"><tr><td>BLEU</td><td>▁</td></tr><tr><td>Perplexity</td><td>▁</td></tr><tr><td>avg_loss</td><td>█▅▄▄▄▃▃▂▂▂▂▁▁▁▁</td></tr><tr><td>final_avg_loss</td><td>▁</td></tr><tr><td>iteration</td><td>▁▁▂▃▃▃▄▅▅▅▆▇▇▇█</td></tr><tr><td>lr_decoder</td><td>████▄▄▄▄▄▂▂▂▂▂▁</td></tr><tr><td>lr_encoder</td><td>████▄▄▄▄▄▂▂▂▂▂▁</td></tr></table><br/></div><div class=\"wandb-col\"><h3>Run summary:</h3><br/><table class=\"wandb\"><tr><td>BLEU</td><td>0.16639</td></tr><tr><td>Perplexity</td><td>98.08093</td></tr><tr><td>avg_loss</td><td>4.61995</td></tr><tr><td>final_avg_loss</td><td>4.58579</td></tr><tr><td>final_loss</td><td>4.58579</td></tr><tr><td>iteration</td><td>1500</td></tr><tr><td>lr_decoder</td><td>0.00031</td></tr><tr><td>lr_encoder</td><td>3e-05</td></tr></table><br/></div></div>"
            ]
          },
          "metadata": {}
        },
        {
          "output_type": "display_data",
          "data": {
            "text/plain": [
              "<IPython.core.display.HTML object>"
            ],
            "text/html": [
              " View run <strong style=\"color:#cdcd00\">bright-sweep-2</strong> at: <a href='https://wandb.ai/nikhildinesharora-nyu/hpml-hw3-chatbot/runs/c69e9223' target=\"_blank\">https://wandb.ai/nikhildinesharora-nyu/hpml-hw3-chatbot/runs/c69e9223</a><br> View project at: <a href='https://wandb.ai/nikhildinesharora-nyu/hpml-hw3-chatbot' target=\"_blank\">https://wandb.ai/nikhildinesharora-nyu/hpml-hw3-chatbot</a><br>Synced 5 W&B file(s), 0 media file(s), 0 artifact file(s) and 1 other file(s)"
            ]
          },
          "metadata": {}
        },
        {
          "output_type": "display_data",
          "data": {
            "text/plain": [
              "<IPython.core.display.HTML object>"
            ],
            "text/html": [
              "Find logs at: <code>./wandb/run-20251024_232201-c69e9223/logs</code>"
            ]
          },
          "metadata": {}
        },
        {
          "output_type": "stream",
          "name": "stderr",
          "text": [
            "\u001b[34m\u001b[1mwandb\u001b[0m: Agent Starting Run: kjrr4uhz with config:\n",
            "\u001b[34m\u001b[1mwandb\u001b[0m: \tclip: 25\n",
            "\u001b[34m\u001b[1mwandb\u001b[0m: \tdecoder_learning_ratio: 5\n",
            "\u001b[34m\u001b[1mwandb\u001b[0m: \tlearning_rate: 0.0001\n",
            "\u001b[34m\u001b[1mwandb\u001b[0m: \toptimizer: adam\n",
            "\u001b[34m\u001b[1mwandb\u001b[0m: \tteacher_forcing_ratio: 0\n"
          ]
        },
        {
          "output_type": "display_data",
          "data": {
            "text/plain": [
              "<IPython.core.display.HTML object>"
            ],
            "text/html": [
              "Ignoring project 'hpml-hw3-chatbot' when running a sweep."
            ]
          },
          "metadata": {}
        },
        {
          "output_type": "display_data",
          "data": {
            "text/plain": [
              "<IPython.core.display.HTML object>"
            ],
            "text/html": []
          },
          "metadata": {}
        },
        {
          "output_type": "display_data",
          "data": {
            "text/plain": [
              "<IPython.core.display.HTML object>"
            ],
            "text/html": [
              "Tracking run with wandb version 0.22.2"
            ]
          },
          "metadata": {}
        },
        {
          "output_type": "display_data",
          "data": {
            "text/plain": [
              "<IPython.core.display.HTML object>"
            ],
            "text/html": [
              "Run data is saved locally in <code>/content/wandb/run-20251024_232318-kjrr4uhz</code>"
            ]
          },
          "metadata": {}
        },
        {
          "output_type": "display_data",
          "data": {
            "text/plain": [
              "<IPython.core.display.HTML object>"
            ],
            "text/html": [
              "Syncing run <strong><a href='https://wandb.ai/nikhildinesharora-nyu/hpml-hw3-chatbot/runs/kjrr4uhz' target=\"_blank\">morning-sweep-3</a></strong> to <a href='https://wandb.ai/nikhildinesharora-nyu/hpml-hw3-chatbot' target=\"_blank\">Weights & Biases</a> (<a href='https://wandb.me/developer-guide' target=\"_blank\">docs</a>)<br>Sweep page: <a href='https://wandb.ai/nikhildinesharora-nyu/hpml-hw3-chatbot/sweeps/ze7oudki' target=\"_blank\">https://wandb.ai/nikhildinesharora-nyu/hpml-hw3-chatbot/sweeps/ze7oudki</a>"
            ]
          },
          "metadata": {}
        },
        {
          "output_type": "display_data",
          "data": {
            "text/plain": [
              "<IPython.core.display.HTML object>"
            ],
            "text/html": [
              " View project at <a href='https://wandb.ai/nikhildinesharora-nyu/hpml-hw3-chatbot' target=\"_blank\">https://wandb.ai/nikhildinesharora-nyu/hpml-hw3-chatbot</a>"
            ]
          },
          "metadata": {}
        },
        {
          "output_type": "display_data",
          "data": {
            "text/plain": [
              "<IPython.core.display.HTML object>"
            ],
            "text/html": [
              " View sweep at <a href='https://wandb.ai/nikhildinesharora-nyu/hpml-hw3-chatbot/sweeps/ze7oudki' target=\"_blank\">https://wandb.ai/nikhildinesharora-nyu/hpml-hw3-chatbot/sweeps/ze7oudki</a>"
            ]
          },
          "metadata": {}
        },
        {
          "output_type": "display_data",
          "data": {
            "text/plain": [
              "<IPython.core.display.HTML object>"
            ],
            "text/html": [
              " View run at <a href='https://wandb.ai/nikhildinesharora-nyu/hpml-hw3-chatbot/runs/kjrr4uhz' target=\"_blank\">https://wandb.ai/nikhildinesharora-nyu/hpml-hw3-chatbot/runs/kjrr4uhz</a>"
            ]
          },
          "metadata": {}
        },
        {
          "output_type": "stream",
          "name": "stdout",
          "text": [
            "[INFO] Layers: enc=2, dec=2, lr=0.0001, opt=adam\n",
            "Initializing ...\n",
            "Training...\n",
            "Iteration: 100; Percent complete: 6.7%; Average loss: 5.5782; Time: 0.1m\n",
            "Iteration: 200; Percent complete: 13.3%; Average loss: 4.8235; Time: 0.1m\n",
            "Iteration: 300; Percent complete: 20.0%; Average loss: 4.8287; Time: 0.2m\n",
            "Iteration: 400; Percent complete: 26.7%; Average loss: 4.7777; Time: 0.3m\n",
            "Iteration: 500; Percent complete: 33.3%; Average loss: 4.7057; Time: 0.4m\n",
            "Iteration: 600; Percent complete: 40.0%; Average loss: 4.6780; Time: 0.5m\n",
            "Iteration: 700; Percent complete: 46.7%; Average loss: 4.6551; Time: 0.6m\n",
            "Iteration: 800; Percent complete: 53.3%; Average loss: 4.6639; Time: 0.6m\n",
            "Iteration: 900; Percent complete: 60.0%; Average loss: 4.6579; Time: 0.7m\n",
            "Iteration: 1000; Percent complete: 66.7%; Average loss: 4.6496; Time: 0.8m\n",
            "Iteration: 1100; Percent complete: 73.3%; Average loss: 4.6145; Time: 0.9m\n",
            "Iteration: 1200; Percent complete: 80.0%; Average loss: 4.6046; Time: 0.9m\n",
            "Iteration: 1300; Percent complete: 86.7%; Average loss: 4.6056; Time: 1.0m\n",
            "Iteration: 1400; Percent complete: 93.3%; Average loss: 4.6117; Time: 1.1m\n",
            "Iteration: 1500; Percent complete: 100.0%; Average loss: 4.6019; Time: 1.2m\n",
            "[EVAL] BLEU: 0.1481, Perplexity: 99.67\n",
            "[SAVED] Model checkpoint saved to checkpoints/best_model_morning-sweep-3.pth\n"
          ]
        },
        {
          "output_type": "display_data",
          "data": {
            "text/plain": [
              "<IPython.core.display.HTML object>"
            ],
            "text/html": []
          },
          "metadata": {}
        },
        {
          "output_type": "display_data",
          "data": {
            "text/plain": [
              "<IPython.core.display.HTML object>"
            ],
            "text/html": [
              "<br>    <style><br>        .wandb-row {<br>            display: flex;<br>            flex-direction: row;<br>            flex-wrap: wrap;<br>            justify-content: flex-start;<br>            width: 100%;<br>        }<br>        .wandb-col {<br>            display: flex;<br>            flex-direction: column;<br>            flex-basis: 100%;<br>            flex: 1;<br>            padding: 10px;<br>        }<br>    </style><br><div class=\"wandb-row\"><div class=\"wandb-col\"><h3>Run history:</h3><br/><table class=\"wandb\"><tr><td>BLEU</td><td>▁</td></tr><tr><td>Perplexity</td><td>▁</td></tr><tr><td>avg_loss</td><td>█▃▃▂▂▂▁▁▁▁▁▁▁▁▁</td></tr><tr><td>final_avg_loss</td><td>▁</td></tr><tr><td>iteration</td><td>▁▁▂▃▃▃▄▅▅▅▆▇▇▇█</td></tr><tr><td>lr_decoder</td><td>████▄▄▄▄▄▂▂▂▂▂▁</td></tr><tr><td>lr_encoder</td><td>████▄▄▄▄▄▂▂▂▂▂▁</td></tr></table><br/></div><div class=\"wandb-col\"><h3>Run summary:</h3><br/><table class=\"wandb\"><tr><td>BLEU</td><td>0.1481</td></tr><tr><td>Perplexity</td><td>99.67047</td></tr><tr><td>avg_loss</td><td>4.60187</td></tr><tr><td>final_avg_loss</td><td>4.60187</td></tr><tr><td>final_loss</td><td>4.60187</td></tr><tr><td>iteration</td><td>1500</td></tr><tr><td>lr_decoder</td><td>6e-05</td></tr><tr><td>lr_encoder</td><td>1e-05</td></tr></table><br/></div></div>"
            ]
          },
          "metadata": {}
        },
        {
          "output_type": "display_data",
          "data": {
            "text/plain": [
              "<IPython.core.display.HTML object>"
            ],
            "text/html": [
              " View run <strong style=\"color:#cdcd00\">morning-sweep-3</strong> at: <a href='https://wandb.ai/nikhildinesharora-nyu/hpml-hw3-chatbot/runs/kjrr4uhz' target=\"_blank\">https://wandb.ai/nikhildinesharora-nyu/hpml-hw3-chatbot/runs/kjrr4uhz</a><br> View project at: <a href='https://wandb.ai/nikhildinesharora-nyu/hpml-hw3-chatbot' target=\"_blank\">https://wandb.ai/nikhildinesharora-nyu/hpml-hw3-chatbot</a><br>Synced 5 W&B file(s), 0 media file(s), 0 artifact file(s) and 1 other file(s)"
            ]
          },
          "metadata": {}
        },
        {
          "output_type": "display_data",
          "data": {
            "text/plain": [
              "<IPython.core.display.HTML object>"
            ],
            "text/html": [
              "Find logs at: <code>./wandb/run-20251024_232318-kjrr4uhz/logs</code>"
            ]
          },
          "metadata": {}
        },
        {
          "output_type": "stream",
          "name": "stderr",
          "text": [
            "\u001b[34m\u001b[1mwandb\u001b[0m: Agent Starting Run: nh19339r with config:\n",
            "\u001b[34m\u001b[1mwandb\u001b[0m: \tclip: 25\n",
            "\u001b[34m\u001b[1mwandb\u001b[0m: \tdecoder_learning_ratio: 5\n",
            "\u001b[34m\u001b[1mwandb\u001b[0m: \tlearning_rate: 0.001\n",
            "\u001b[34m\u001b[1mwandb\u001b[0m: \toptimizer: sgd\n",
            "\u001b[34m\u001b[1mwandb\u001b[0m: \tteacher_forcing_ratio: 0.5\n"
          ]
        },
        {
          "output_type": "display_data",
          "data": {
            "text/plain": [
              "<IPython.core.display.HTML object>"
            ],
            "text/html": [
              "Ignoring project 'hpml-hw3-chatbot' when running a sweep."
            ]
          },
          "metadata": {}
        },
        {
          "output_type": "display_data",
          "data": {
            "text/plain": [
              "<IPython.core.display.HTML object>"
            ],
            "text/html": []
          },
          "metadata": {}
        },
        {
          "output_type": "display_data",
          "data": {
            "text/plain": [
              "<IPython.core.display.HTML object>"
            ],
            "text/html": [
              "Tracking run with wandb version 0.22.2"
            ]
          },
          "metadata": {}
        },
        {
          "output_type": "display_data",
          "data": {
            "text/plain": [
              "<IPython.core.display.HTML object>"
            ],
            "text/html": [
              "Run data is saved locally in <code>/content/wandb/run-20251024_232436-nh19339r</code>"
            ]
          },
          "metadata": {}
        },
        {
          "output_type": "display_data",
          "data": {
            "text/plain": [
              "<IPython.core.display.HTML object>"
            ],
            "text/html": [
              "Syncing run <strong><a href='https://wandb.ai/nikhildinesharora-nyu/hpml-hw3-chatbot/runs/nh19339r' target=\"_blank\">radiant-sweep-4</a></strong> to <a href='https://wandb.ai/nikhildinesharora-nyu/hpml-hw3-chatbot' target=\"_blank\">Weights & Biases</a> (<a href='https://wandb.me/developer-guide' target=\"_blank\">docs</a>)<br>Sweep page: <a href='https://wandb.ai/nikhildinesharora-nyu/hpml-hw3-chatbot/sweeps/ze7oudki' target=\"_blank\">https://wandb.ai/nikhildinesharora-nyu/hpml-hw3-chatbot/sweeps/ze7oudki</a>"
            ]
          },
          "metadata": {}
        },
        {
          "output_type": "display_data",
          "data": {
            "text/plain": [
              "<IPython.core.display.HTML object>"
            ],
            "text/html": [
              " View project at <a href='https://wandb.ai/nikhildinesharora-nyu/hpml-hw3-chatbot' target=\"_blank\">https://wandb.ai/nikhildinesharora-nyu/hpml-hw3-chatbot</a>"
            ]
          },
          "metadata": {}
        },
        {
          "output_type": "display_data",
          "data": {
            "text/plain": [
              "<IPython.core.display.HTML object>"
            ],
            "text/html": [
              " View sweep at <a href='https://wandb.ai/nikhildinesharora-nyu/hpml-hw3-chatbot/sweeps/ze7oudki' target=\"_blank\">https://wandb.ai/nikhildinesharora-nyu/hpml-hw3-chatbot/sweeps/ze7oudki</a>"
            ]
          },
          "metadata": {}
        },
        {
          "output_type": "display_data",
          "data": {
            "text/plain": [
              "<IPython.core.display.HTML object>"
            ],
            "text/html": [
              " View run at <a href='https://wandb.ai/nikhildinesharora-nyu/hpml-hw3-chatbot/runs/nh19339r' target=\"_blank\">https://wandb.ai/nikhildinesharora-nyu/hpml-hw3-chatbot/runs/nh19339r</a>"
            ]
          },
          "metadata": {}
        },
        {
          "output_type": "stream",
          "name": "stdout",
          "text": [
            "[INFO] Layers: enc=2, dec=2, lr=0.001, opt=sgd\n",
            "Initializing ...\n",
            "Training...\n",
            "Iteration: 100; Percent complete: 6.7%; Average loss: 6.4094; Time: 0.1m\n",
            "Iteration: 200; Percent complete: 13.3%; Average loss: 4.9491; Time: 0.1m\n",
            "Iteration: 300; Percent complete: 20.0%; Average loss: 4.9569; Time: 0.2m\n",
            "Iteration: 400; Percent complete: 26.7%; Average loss: 4.8295; Time: 0.3m\n",
            "Iteration: 500; Percent complete: 33.3%; Average loss: 4.7012; Time: 0.3m\n",
            "Iteration: 600; Percent complete: 40.0%; Average loss: 4.6329; Time: 0.4m\n",
            "Iteration: 700; Percent complete: 46.7%; Average loss: 4.5553; Time: 0.5m\n",
            "Iteration: 800; Percent complete: 53.3%; Average loss: 4.5720; Time: 0.5m\n",
            "Iteration: 900; Percent complete: 60.0%; Average loss: 4.5177; Time: 0.6m\n",
            "Iteration: 1000; Percent complete: 66.7%; Average loss: 4.4838; Time: 0.7m\n",
            "Iteration: 1100; Percent complete: 73.3%; Average loss: 4.4240; Time: 0.7m\n",
            "Iteration: 1200; Percent complete: 80.0%; Average loss: 4.3860; Time: 0.8m\n",
            "Iteration: 1300; Percent complete: 86.7%; Average loss: 4.4453; Time: 0.9m\n",
            "Iteration: 1400; Percent complete: 93.3%; Average loss: 4.4151; Time: 0.9m\n",
            "Iteration: 1500; Percent complete: 100.0%; Average loss: 4.3639; Time: 1.0m\n",
            "[EVAL] BLEU: 0.1361, Perplexity: 78.56\n",
            "[SAVED] Model checkpoint saved to checkpoints/best_model_radiant-sweep-4.pth\n"
          ]
        },
        {
          "output_type": "display_data",
          "data": {
            "text/plain": [
              "<IPython.core.display.HTML object>"
            ],
            "text/html": []
          },
          "metadata": {}
        },
        {
          "output_type": "display_data",
          "data": {
            "text/plain": [
              "<IPython.core.display.HTML object>"
            ],
            "text/html": [
              "<br>    <style><br>        .wandb-row {<br>            display: flex;<br>            flex-direction: row;<br>            flex-wrap: wrap;<br>            justify-content: flex-start;<br>            width: 100%;<br>        }<br>        .wandb-col {<br>            display: flex;<br>            flex-direction: column;<br>            flex-basis: 100%;<br>            flex: 1;<br>            padding: 10px;<br>        }<br>    </style><br><div class=\"wandb-row\"><div class=\"wandb-col\"><h3>Run history:</h3><br/><table class=\"wandb\"><tr><td>BLEU</td><td>▁</td></tr><tr><td>Perplexity</td><td>▁</td></tr><tr><td>avg_loss</td><td>█▃▃▃▂▂▂▂▂▁▁▁▁▁▁</td></tr><tr><td>final_avg_loss</td><td>▁</td></tr><tr><td>iteration</td><td>▁▁▂▃▃▃▄▅▅▅▆▇▇▇█</td></tr><tr><td>lr_decoder</td><td>████▄▄▄▄▄▂▂▂▂▂▁</td></tr><tr><td>lr_encoder</td><td>████▄▄▄▄▄▂▂▂▂▂▁</td></tr></table><br/></div><div class=\"wandb-col\"><h3>Run summary:</h3><br/><table class=\"wandb\"><tr><td>BLEU</td><td>0.13614</td></tr><tr><td>Perplexity</td><td>78.5601</td></tr><tr><td>avg_loss</td><td>4.36386</td></tr><tr><td>final_avg_loss</td><td>4.36386</td></tr><tr><td>final_loss</td><td>4.36386</td></tr><tr><td>iteration</td><td>1500</td></tr><tr><td>lr_decoder</td><td>0.00063</td></tr><tr><td>lr_encoder</td><td>0.00013</td></tr></table><br/></div></div>"
            ]
          },
          "metadata": {}
        },
        {
          "output_type": "display_data",
          "data": {
            "text/plain": [
              "<IPython.core.display.HTML object>"
            ],
            "text/html": [
              " View run <strong style=\"color:#cdcd00\">radiant-sweep-4</strong> at: <a href='https://wandb.ai/nikhildinesharora-nyu/hpml-hw3-chatbot/runs/nh19339r' target=\"_blank\">https://wandb.ai/nikhildinesharora-nyu/hpml-hw3-chatbot/runs/nh19339r</a><br> View project at: <a href='https://wandb.ai/nikhildinesharora-nyu/hpml-hw3-chatbot' target=\"_blank\">https://wandb.ai/nikhildinesharora-nyu/hpml-hw3-chatbot</a><br>Synced 5 W&B file(s), 0 media file(s), 0 artifact file(s) and 1 other file(s)"
            ]
          },
          "metadata": {}
        },
        {
          "output_type": "display_data",
          "data": {
            "text/plain": [
              "<IPython.core.display.HTML object>"
            ],
            "text/html": [
              "Find logs at: <code>./wandb/run-20251024_232436-nh19339r/logs</code>"
            ]
          },
          "metadata": {}
        },
        {
          "output_type": "stream",
          "name": "stderr",
          "text": [
            "\u001b[34m\u001b[1mwandb\u001b[0m: Agent Starting Run: 83oc3og1 with config:\n",
            "\u001b[34m\u001b[1mwandb\u001b[0m: \tclip: 100\n",
            "\u001b[34m\u001b[1mwandb\u001b[0m: \tdecoder_learning_ratio: 10\n",
            "\u001b[34m\u001b[1mwandb\u001b[0m: \tlearning_rate: 0.001\n",
            "\u001b[34m\u001b[1mwandb\u001b[0m: \toptimizer: sgd\n",
            "\u001b[34m\u001b[1mwandb\u001b[0m: \tteacher_forcing_ratio: 0.5\n"
          ]
        },
        {
          "output_type": "display_data",
          "data": {
            "text/plain": [
              "<IPython.core.display.HTML object>"
            ],
            "text/html": [
              "Ignoring project 'hpml-hw3-chatbot' when running a sweep."
            ]
          },
          "metadata": {}
        },
        {
          "output_type": "display_data",
          "data": {
            "text/plain": [
              "<IPython.core.display.HTML object>"
            ],
            "text/html": []
          },
          "metadata": {}
        },
        {
          "output_type": "display_data",
          "data": {
            "text/plain": [
              "<IPython.core.display.HTML object>"
            ],
            "text/html": [
              "Tracking run with wandb version 0.22.2"
            ]
          },
          "metadata": {}
        },
        {
          "output_type": "display_data",
          "data": {
            "text/plain": [
              "<IPython.core.display.HTML object>"
            ],
            "text/html": [
              "Run data is saved locally in <code>/content/wandb/run-20251024_232543-83oc3og1</code>"
            ]
          },
          "metadata": {}
        },
        {
          "output_type": "display_data",
          "data": {
            "text/plain": [
              "<IPython.core.display.HTML object>"
            ],
            "text/html": [
              "Syncing run <strong><a href='https://wandb.ai/nikhildinesharora-nyu/hpml-hw3-chatbot/runs/83oc3og1' target=\"_blank\">helpful-sweep-5</a></strong> to <a href='https://wandb.ai/nikhildinesharora-nyu/hpml-hw3-chatbot' target=\"_blank\">Weights & Biases</a> (<a href='https://wandb.me/developer-guide' target=\"_blank\">docs</a>)<br>Sweep page: <a href='https://wandb.ai/nikhildinesharora-nyu/hpml-hw3-chatbot/sweeps/ze7oudki' target=\"_blank\">https://wandb.ai/nikhildinesharora-nyu/hpml-hw3-chatbot/sweeps/ze7oudki</a>"
            ]
          },
          "metadata": {}
        },
        {
          "output_type": "display_data",
          "data": {
            "text/plain": [
              "<IPython.core.display.HTML object>"
            ],
            "text/html": [
              " View project at <a href='https://wandb.ai/nikhildinesharora-nyu/hpml-hw3-chatbot' target=\"_blank\">https://wandb.ai/nikhildinesharora-nyu/hpml-hw3-chatbot</a>"
            ]
          },
          "metadata": {}
        },
        {
          "output_type": "display_data",
          "data": {
            "text/plain": [
              "<IPython.core.display.HTML object>"
            ],
            "text/html": [
              " View sweep at <a href='https://wandb.ai/nikhildinesharora-nyu/hpml-hw3-chatbot/sweeps/ze7oudki' target=\"_blank\">https://wandb.ai/nikhildinesharora-nyu/hpml-hw3-chatbot/sweeps/ze7oudki</a>"
            ]
          },
          "metadata": {}
        },
        {
          "output_type": "display_data",
          "data": {
            "text/plain": [
              "<IPython.core.display.HTML object>"
            ],
            "text/html": [
              " View run at <a href='https://wandb.ai/nikhildinesharora-nyu/hpml-hw3-chatbot/runs/83oc3og1' target=\"_blank\">https://wandb.ai/nikhildinesharora-nyu/hpml-hw3-chatbot/runs/83oc3og1</a>"
            ]
          },
          "metadata": {}
        },
        {
          "output_type": "stream",
          "name": "stdout",
          "text": [
            "[INFO] Layers: enc=2, dec=2, lr=0.001, opt=sgd\n",
            "Initializing ...\n",
            "Training...\n",
            "Iteration: 100; Percent complete: 6.7%; Average loss: 6.2222; Time: 0.1m\n",
            "Iteration: 200; Percent complete: 13.3%; Average loss: 5.8079; Time: 0.1m\n",
            "Iteration: 300; Percent complete: 20.0%; Average loss: 5.2092; Time: 0.2m\n",
            "Iteration: 400; Percent complete: 26.7%; Average loss: 4.7620; Time: 0.3m\n",
            "Iteration: 500; Percent complete: 33.3%; Average loss: 4.6330; Time: 0.4m\n",
            "Iteration: 600; Percent complete: 40.0%; Average loss: 4.5833; Time: 0.4m\n",
            "Iteration: 700; Percent complete: 46.7%; Average loss: 4.5747; Time: 0.5m\n",
            "Iteration: 800; Percent complete: 53.3%; Average loss: 4.5468; Time: 0.6m\n",
            "Iteration: 900; Percent complete: 60.0%; Average loss: 4.5213; Time: 0.6m\n",
            "Iteration: 1000; Percent complete: 66.7%; Average loss: 4.5571; Time: 0.7m\n",
            "Iteration: 1100; Percent complete: 73.3%; Average loss: 4.5162; Time: 0.8m\n",
            "Iteration: 1200; Percent complete: 80.0%; Average loss: 4.4865; Time: 0.8m\n",
            "Iteration: 1300; Percent complete: 86.7%; Average loss: 4.4375; Time: 0.9m\n",
            "Iteration: 1400; Percent complete: 93.3%; Average loss: 4.4201; Time: 1.0m\n",
            "Iteration: 1500; Percent complete: 100.0%; Average loss: 4.4589; Time: 1.0m\n",
            "[EVAL] BLEU: 0.1563, Perplexity: 83.10\n",
            "[SAVED] Model checkpoint saved to checkpoints/best_model_helpful-sweep-5.pth\n"
          ]
        },
        {
          "output_type": "display_data",
          "data": {
            "text/plain": [
              "<IPython.core.display.HTML object>"
            ],
            "text/html": []
          },
          "metadata": {}
        },
        {
          "output_type": "display_data",
          "data": {
            "text/plain": [
              "<IPython.core.display.HTML object>"
            ],
            "text/html": [
              "<br>    <style><br>        .wandb-row {<br>            display: flex;<br>            flex-direction: row;<br>            flex-wrap: wrap;<br>            justify-content: flex-start;<br>            width: 100%;<br>        }<br>        .wandb-col {<br>            display: flex;<br>            flex-direction: column;<br>            flex-basis: 100%;<br>            flex: 1;<br>            padding: 10px;<br>        }<br>    </style><br><div class=\"wandb-row\"><div class=\"wandb-col\"><h3>Run history:</h3><br/><table class=\"wandb\"><tr><td>BLEU</td><td>▁</td></tr><tr><td>Perplexity</td><td>▁</td></tr><tr><td>avg_loss</td><td>█▆▄▂▂▂▂▁▁▂▁▁▁▁▁</td></tr><tr><td>final_avg_loss</td><td>▁</td></tr><tr><td>iteration</td><td>▁▁▂▃▃▃▄▅▅▅▆▇▇▇█</td></tr><tr><td>lr_decoder</td><td>████▄▄▄▄▄▂▂▂▂▂▁</td></tr><tr><td>lr_encoder</td><td>████▄▄▄▄▄▂▂▂▂▂▁</td></tr></table><br/></div><div class=\"wandb-col\"><h3>Run summary:</h3><br/><table class=\"wandb\"><tr><td>BLEU</td><td>0.15634</td></tr><tr><td>Perplexity</td><td>83.10119</td></tr><tr><td>avg_loss</td><td>4.45893</td></tr><tr><td>final_avg_loss</td><td>4.42006</td></tr><tr><td>final_loss</td><td>4.42006</td></tr><tr><td>iteration</td><td>1500</td></tr><tr><td>lr_decoder</td><td>0.00125</td></tr><tr><td>lr_encoder</td><td>0.00013</td></tr></table><br/></div></div>"
            ]
          },
          "metadata": {}
        },
        {
          "output_type": "display_data",
          "data": {
            "text/plain": [
              "<IPython.core.display.HTML object>"
            ],
            "text/html": [
              " View run <strong style=\"color:#cdcd00\">helpful-sweep-5</strong> at: <a href='https://wandb.ai/nikhildinesharora-nyu/hpml-hw3-chatbot/runs/83oc3og1' target=\"_blank\">https://wandb.ai/nikhildinesharora-nyu/hpml-hw3-chatbot/runs/83oc3og1</a><br> View project at: <a href='https://wandb.ai/nikhildinesharora-nyu/hpml-hw3-chatbot' target=\"_blank\">https://wandb.ai/nikhildinesharora-nyu/hpml-hw3-chatbot</a><br>Synced 5 W&B file(s), 0 media file(s), 0 artifact file(s) and 1 other file(s)"
            ]
          },
          "metadata": {}
        },
        {
          "output_type": "display_data",
          "data": {
            "text/plain": [
              "<IPython.core.display.HTML object>"
            ],
            "text/html": [
              "Find logs at: <code>./wandb/run-20251024_232543-83oc3og1/logs</code>"
            ]
          },
          "metadata": {}
        },
        {
          "output_type": "stream",
          "name": "stderr",
          "text": [
            "\u001b[34m\u001b[1mwandb\u001b[0m: Agent Starting Run: 61a5p9bm with config:\n",
            "\u001b[34m\u001b[1mwandb\u001b[0m: \tclip: 0\n",
            "\u001b[34m\u001b[1mwandb\u001b[0m: \tdecoder_learning_ratio: 5\n",
            "\u001b[34m\u001b[1mwandb\u001b[0m: \tlearning_rate: 0.00025\n",
            "\u001b[34m\u001b[1mwandb\u001b[0m: \toptimizer: sgd\n",
            "\u001b[34m\u001b[1mwandb\u001b[0m: \tteacher_forcing_ratio: 1\n"
          ]
        },
        {
          "output_type": "display_data",
          "data": {
            "text/plain": [
              "<IPython.core.display.HTML object>"
            ],
            "text/html": [
              "Ignoring project 'hpml-hw3-chatbot' when running a sweep."
            ]
          },
          "metadata": {}
        },
        {
          "output_type": "display_data",
          "data": {
            "text/plain": [
              "<IPython.core.display.HTML object>"
            ],
            "text/html": []
          },
          "metadata": {}
        },
        {
          "output_type": "display_data",
          "data": {
            "text/plain": [
              "<IPython.core.display.HTML object>"
            ],
            "text/html": [
              "Tracking run with wandb version 0.22.2"
            ]
          },
          "metadata": {}
        },
        {
          "output_type": "display_data",
          "data": {
            "text/plain": [
              "<IPython.core.display.HTML object>"
            ],
            "text/html": [
              "Run data is saved locally in <code>/content/wandb/run-20251024_232655-61a5p9bm</code>"
            ]
          },
          "metadata": {}
        },
        {
          "output_type": "display_data",
          "data": {
            "text/plain": [
              "<IPython.core.display.HTML object>"
            ],
            "text/html": [
              "Syncing run <strong><a href='https://wandb.ai/nikhildinesharora-nyu/hpml-hw3-chatbot/runs/61a5p9bm' target=\"_blank\">chocolate-sweep-6</a></strong> to <a href='https://wandb.ai/nikhildinesharora-nyu/hpml-hw3-chatbot' target=\"_blank\">Weights & Biases</a> (<a href='https://wandb.me/developer-guide' target=\"_blank\">docs</a>)<br>Sweep page: <a href='https://wandb.ai/nikhildinesharora-nyu/hpml-hw3-chatbot/sweeps/ze7oudki' target=\"_blank\">https://wandb.ai/nikhildinesharora-nyu/hpml-hw3-chatbot/sweeps/ze7oudki</a>"
            ]
          },
          "metadata": {}
        },
        {
          "output_type": "display_data",
          "data": {
            "text/plain": [
              "<IPython.core.display.HTML object>"
            ],
            "text/html": [
              " View project at <a href='https://wandb.ai/nikhildinesharora-nyu/hpml-hw3-chatbot' target=\"_blank\">https://wandb.ai/nikhildinesharora-nyu/hpml-hw3-chatbot</a>"
            ]
          },
          "metadata": {}
        },
        {
          "output_type": "display_data",
          "data": {
            "text/plain": [
              "<IPython.core.display.HTML object>"
            ],
            "text/html": [
              " View sweep at <a href='https://wandb.ai/nikhildinesharora-nyu/hpml-hw3-chatbot/sweeps/ze7oudki' target=\"_blank\">https://wandb.ai/nikhildinesharora-nyu/hpml-hw3-chatbot/sweeps/ze7oudki</a>"
            ]
          },
          "metadata": {}
        },
        {
          "output_type": "display_data",
          "data": {
            "text/plain": [
              "<IPython.core.display.HTML object>"
            ],
            "text/html": [
              " View run at <a href='https://wandb.ai/nikhildinesharora-nyu/hpml-hw3-chatbot/runs/61a5p9bm' target=\"_blank\">https://wandb.ai/nikhildinesharora-nyu/hpml-hw3-chatbot/runs/61a5p9bm</a>"
            ]
          },
          "metadata": {}
        },
        {
          "output_type": "stream",
          "name": "stdout",
          "text": [
            "[INFO] Layers: enc=2, dec=2, lr=0.00025, opt=sgd\n",
            "Initializing ...\n",
            "Training...\n",
            "Iteration: 100; Percent complete: 6.7%; Average loss: 8.9694; Time: 0.1m\n",
            "Iteration: 200; Percent complete: 13.3%; Average loss: 8.9693; Time: 0.1m\n",
            "Iteration: 300; Percent complete: 20.0%; Average loss: 8.9691; Time: 0.2m\n",
            "Iteration: 400; Percent complete: 26.7%; Average loss: 8.9695; Time: 0.3m\n",
            "Iteration: 500; Percent complete: 33.3%; Average loss: 8.9690; Time: 0.3m\n",
            "Iteration: 600; Percent complete: 40.0%; Average loss: 8.9687; Time: 0.4m\n",
            "Iteration: 700; Percent complete: 46.7%; Average loss: 8.9691; Time: 0.4m\n",
            "Iteration: 800; Percent complete: 53.3%; Average loss: 8.9693; Time: 0.5m\n",
            "Iteration: 900; Percent complete: 60.0%; Average loss: 8.9692; Time: 0.6m\n",
            "Iteration: 1000; Percent complete: 66.7%; Average loss: 8.9691; Time: 0.6m\n",
            "Iteration: 1100; Percent complete: 73.3%; Average loss: 8.9693; Time: 0.7m\n",
            "Iteration: 1200; Percent complete: 80.0%; Average loss: 8.9689; Time: 0.8m\n",
            "Iteration: 1300; Percent complete: 86.7%; Average loss: 8.9688; Time: 0.8m\n",
            "Iteration: 1400; Percent complete: 93.3%; Average loss: 8.9684; Time: 0.9m\n",
            "Iteration: 1500; Percent complete: 100.0%; Average loss: 8.9687; Time: 0.9m\n",
            "[EVAL] BLEU: 0.0010, Perplexity: 7851.28\n",
            "[SAVED] Model checkpoint saved to checkpoints/best_model_chocolate-sweep-6.pth\n"
          ]
        },
        {
          "output_type": "display_data",
          "data": {
            "text/plain": [
              "<IPython.core.display.HTML object>"
            ],
            "text/html": []
          },
          "metadata": {}
        },
        {
          "output_type": "display_data",
          "data": {
            "text/plain": [
              "<IPython.core.display.HTML object>"
            ],
            "text/html": [
              "<br>    <style><br>        .wandb-row {<br>            display: flex;<br>            flex-direction: row;<br>            flex-wrap: wrap;<br>            justify-content: flex-start;<br>            width: 100%;<br>        }<br>        .wandb-col {<br>            display: flex;<br>            flex-direction: column;<br>            flex-basis: 100%;<br>            flex: 1;<br>            padding: 10px;<br>        }<br>    </style><br><div class=\"wandb-row\"><div class=\"wandb-col\"><h3>Run history:</h3><br/><table class=\"wandb\"><tr><td>BLEU</td><td>▁</td></tr><tr><td>Perplexity</td><td>▁</td></tr><tr><td>avg_loss</td><td>▇▇▅█▅▃▅▇▆▆▇▄▃▁▃</td></tr><tr><td>final_avg_loss</td><td>▁</td></tr><tr><td>iteration</td><td>▁▁▂▃▃▃▄▅▅▅▆▇▇▇█</td></tr><tr><td>lr_decoder</td><td>████▄▄▄▄▄▂▂▂▂▂▁</td></tr><tr><td>lr_encoder</td><td>████▄▄▄▄▄▂▂▂▂▂▁</td></tr></table><br/></div><div class=\"wandb-col\"><h3>Run summary:</h3><br/><table class=\"wandb\"><tr><td>BLEU</td><td>0.001</td></tr><tr><td>Perplexity</td><td>7851.28019</td></tr><tr><td>avg_loss</td><td>8.96868</td></tr><tr><td>final_avg_loss</td><td>8.96843</td></tr><tr><td>final_loss</td><td>8.96843</td></tr><tr><td>iteration</td><td>1500</td></tr><tr><td>lr_decoder</td><td>0.00016</td></tr><tr><td>lr_encoder</td><td>3e-05</td></tr></table><br/></div></div>"
            ]
          },
          "metadata": {}
        },
        {
          "output_type": "display_data",
          "data": {
            "text/plain": [
              "<IPython.core.display.HTML object>"
            ],
            "text/html": [
              " View run <strong style=\"color:#cdcd00\">chocolate-sweep-6</strong> at: <a href='https://wandb.ai/nikhildinesharora-nyu/hpml-hw3-chatbot/runs/61a5p9bm' target=\"_blank\">https://wandb.ai/nikhildinesharora-nyu/hpml-hw3-chatbot/runs/61a5p9bm</a><br> View project at: <a href='https://wandb.ai/nikhildinesharora-nyu/hpml-hw3-chatbot' target=\"_blank\">https://wandb.ai/nikhildinesharora-nyu/hpml-hw3-chatbot</a><br>Synced 5 W&B file(s), 0 media file(s), 0 artifact file(s) and 1 other file(s)"
            ]
          },
          "metadata": {}
        },
        {
          "output_type": "display_data",
          "data": {
            "text/plain": [
              "<IPython.core.display.HTML object>"
            ],
            "text/html": [
              "Find logs at: <code>./wandb/run-20251024_232655-61a5p9bm/logs</code>"
            ]
          },
          "metadata": {}
        },
        {
          "output_type": "stream",
          "name": "stderr",
          "text": [
            "\u001b[34m\u001b[1mwandb\u001b[0m: Sweep Agent: Waiting for job.\n",
            "\u001b[34m\u001b[1mwandb\u001b[0m: Job received.\n",
            "\u001b[34m\u001b[1mwandb\u001b[0m: Agent Starting Run: 4apc1ejc with config:\n",
            "\u001b[34m\u001b[1mwandb\u001b[0m: \tclip: 50\n",
            "\u001b[34m\u001b[1mwandb\u001b[0m: \tdecoder_learning_ratio: 1\n",
            "\u001b[34m\u001b[1mwandb\u001b[0m: \tlearning_rate: 0.00025\n",
            "\u001b[34m\u001b[1mwandb\u001b[0m: \toptimizer: sgd\n",
            "\u001b[34m\u001b[1mwandb\u001b[0m: \tteacher_forcing_ratio: 0.5\n"
          ]
        },
        {
          "output_type": "display_data",
          "data": {
            "text/plain": [
              "<IPython.core.display.HTML object>"
            ],
            "text/html": [
              "Ignoring project 'hpml-hw3-chatbot' when running a sweep."
            ]
          },
          "metadata": {}
        },
        {
          "output_type": "display_data",
          "data": {
            "text/plain": [
              "<IPython.core.display.HTML object>"
            ],
            "text/html": []
          },
          "metadata": {}
        },
        {
          "output_type": "display_data",
          "data": {
            "text/plain": [
              "<IPython.core.display.HTML object>"
            ],
            "text/html": [
              "Tracking run with wandb version 0.22.2"
            ]
          },
          "metadata": {}
        },
        {
          "output_type": "display_data",
          "data": {
            "text/plain": [
              "<IPython.core.display.HTML object>"
            ],
            "text/html": [
              "Run data is saved locally in <code>/content/wandb/run-20251024_232807-4apc1ejc</code>"
            ]
          },
          "metadata": {}
        },
        {
          "output_type": "display_data",
          "data": {
            "text/plain": [
              "<IPython.core.display.HTML object>"
            ],
            "text/html": [
              "Syncing run <strong><a href='https://wandb.ai/nikhildinesharora-nyu/hpml-hw3-chatbot/runs/4apc1ejc' target=\"_blank\">super-sweep-7</a></strong> to <a href='https://wandb.ai/nikhildinesharora-nyu/hpml-hw3-chatbot' target=\"_blank\">Weights & Biases</a> (<a href='https://wandb.me/developer-guide' target=\"_blank\">docs</a>)<br>Sweep page: <a href='https://wandb.ai/nikhildinesharora-nyu/hpml-hw3-chatbot/sweeps/ze7oudki' target=\"_blank\">https://wandb.ai/nikhildinesharora-nyu/hpml-hw3-chatbot/sweeps/ze7oudki</a>"
            ]
          },
          "metadata": {}
        },
        {
          "output_type": "display_data",
          "data": {
            "text/plain": [
              "<IPython.core.display.HTML object>"
            ],
            "text/html": [
              " View project at <a href='https://wandb.ai/nikhildinesharora-nyu/hpml-hw3-chatbot' target=\"_blank\">https://wandb.ai/nikhildinesharora-nyu/hpml-hw3-chatbot</a>"
            ]
          },
          "metadata": {}
        },
        {
          "output_type": "display_data",
          "data": {
            "text/plain": [
              "<IPython.core.display.HTML object>"
            ],
            "text/html": [
              " View sweep at <a href='https://wandb.ai/nikhildinesharora-nyu/hpml-hw3-chatbot/sweeps/ze7oudki' target=\"_blank\">https://wandb.ai/nikhildinesharora-nyu/hpml-hw3-chatbot/sweeps/ze7oudki</a>"
            ]
          },
          "metadata": {}
        },
        {
          "output_type": "display_data",
          "data": {
            "text/plain": [
              "<IPython.core.display.HTML object>"
            ],
            "text/html": [
              " View run at <a href='https://wandb.ai/nikhildinesharora-nyu/hpml-hw3-chatbot/runs/4apc1ejc' target=\"_blank\">https://wandb.ai/nikhildinesharora-nyu/hpml-hw3-chatbot/runs/4apc1ejc</a>"
            ]
          },
          "metadata": {}
        },
        {
          "output_type": "stream",
          "name": "stdout",
          "text": [
            "[INFO] Layers: enc=2, dec=2, lr=0.00025, opt=sgd\n",
            "Initializing ...\n",
            "Training...\n",
            "Iteration: 100; Percent complete: 6.7%; Average loss: 8.1269; Time: 0.1m\n",
            "Iteration: 200; Percent complete: 13.3%; Average loss: 6.2937; Time: 0.2m\n",
            "Iteration: 300; Percent complete: 20.0%; Average loss: 5.7154; Time: 0.2m\n",
            "Iteration: 400; Percent complete: 26.7%; Average loss: 5.4692; Time: 0.3m\n",
            "Iteration: 500; Percent complete: 33.3%; Average loss: 5.3135; Time: 0.4m\n",
            "Iteration: 600; Percent complete: 40.0%; Average loss: 5.1912; Time: 0.4m\n",
            "Iteration: 700; Percent complete: 46.7%; Average loss: 5.1417; Time: 0.5m\n",
            "Iteration: 800; Percent complete: 53.3%; Average loss: 5.0762; Time: 0.6m\n",
            "Iteration: 900; Percent complete: 60.0%; Average loss: 5.0608; Time: 0.6m\n",
            "Iteration: 1000; Percent complete: 66.7%; Average loss: 5.0226; Time: 0.7m\n",
            "Iteration: 1100; Percent complete: 73.3%; Average loss: 4.9693; Time: 0.8m\n",
            "Iteration: 1200; Percent complete: 80.0%; Average loss: 4.9817; Time: 0.9m\n",
            "Iteration: 1300; Percent complete: 86.7%; Average loss: 4.9991; Time: 0.9m\n",
            "Iteration: 1400; Percent complete: 93.3%; Average loss: 4.9519; Time: 1.0m\n",
            "Iteration: 1500; Percent complete: 100.0%; Average loss: 4.9360; Time: 1.1m\n",
            "[EVAL] BLEU: 0.1387, Perplexity: 139.21\n",
            "[SAVED] Model checkpoint saved to checkpoints/best_model_super-sweep-7.pth\n"
          ]
        },
        {
          "output_type": "display_data",
          "data": {
            "text/plain": [
              "<IPython.core.display.HTML object>"
            ],
            "text/html": []
          },
          "metadata": {}
        },
        {
          "output_type": "display_data",
          "data": {
            "text/plain": [
              "<IPython.core.display.HTML object>"
            ],
            "text/html": [
              "<br>    <style><br>        .wandb-row {<br>            display: flex;<br>            flex-direction: row;<br>            flex-wrap: wrap;<br>            justify-content: flex-start;<br>            width: 100%;<br>        }<br>        .wandb-col {<br>            display: flex;<br>            flex-direction: column;<br>            flex-basis: 100%;<br>            flex: 1;<br>            padding: 10px;<br>        }<br>    </style><br><div class=\"wandb-row\"><div class=\"wandb-col\"><h3>Run history:</h3><br/><table class=\"wandb\"><tr><td>BLEU</td><td>▁</td></tr><tr><td>Perplexity</td><td>▁</td></tr><tr><td>avg_loss</td><td>█▄▃▂▂▂▁▁▁▁▁▁▁▁▁</td></tr><tr><td>final_avg_loss</td><td>▁</td></tr><tr><td>iteration</td><td>▁▁▂▃▃▃▄▅▅▅▆▇▇▇█</td></tr><tr><td>lr_decoder</td><td>████▄▄▄▄▄▂▂▂▂▂▁</td></tr><tr><td>lr_encoder</td><td>████▄▄▄▄▄▂▂▂▂▂▁</td></tr></table><br/></div><div class=\"wandb-col\"><h3>Run summary:</h3><br/><table class=\"wandb\"><tr><td>BLEU</td><td>0.1387</td></tr><tr><td>Perplexity</td><td>139.2126</td></tr><tr><td>avg_loss</td><td>4.936</td></tr><tr><td>final_avg_loss</td><td>4.936</td></tr><tr><td>final_loss</td><td>4.936</td></tr><tr><td>iteration</td><td>1500</td></tr><tr><td>lr_decoder</td><td>3e-05</td></tr><tr><td>lr_encoder</td><td>3e-05</td></tr></table><br/></div></div>"
            ]
          },
          "metadata": {}
        },
        {
          "output_type": "display_data",
          "data": {
            "text/plain": [
              "<IPython.core.display.HTML object>"
            ],
            "text/html": [
              " View run <strong style=\"color:#cdcd00\">super-sweep-7</strong> at: <a href='https://wandb.ai/nikhildinesharora-nyu/hpml-hw3-chatbot/runs/4apc1ejc' target=\"_blank\">https://wandb.ai/nikhildinesharora-nyu/hpml-hw3-chatbot/runs/4apc1ejc</a><br> View project at: <a href='https://wandb.ai/nikhildinesharora-nyu/hpml-hw3-chatbot' target=\"_blank\">https://wandb.ai/nikhildinesharora-nyu/hpml-hw3-chatbot</a><br>Synced 5 W&B file(s), 0 media file(s), 0 artifact file(s) and 1 other file(s)"
            ]
          },
          "metadata": {}
        },
        {
          "output_type": "display_data",
          "data": {
            "text/plain": [
              "<IPython.core.display.HTML object>"
            ],
            "text/html": [
              "Find logs at: <code>./wandb/run-20251024_232807-4apc1ejc/logs</code>"
            ]
          },
          "metadata": {}
        },
        {
          "output_type": "stream",
          "name": "stderr",
          "text": [
            "\u001b[34m\u001b[1mwandb\u001b[0m: Agent Starting Run: i68d6vzv with config:\n",
            "\u001b[34m\u001b[1mwandb\u001b[0m: \tclip: 50\n",
            "\u001b[34m\u001b[1mwandb\u001b[0m: \tdecoder_learning_ratio: 3\n",
            "\u001b[34m\u001b[1mwandb\u001b[0m: \tlearning_rate: 0.001\n",
            "\u001b[34m\u001b[1mwandb\u001b[0m: \toptimizer: sgd\n",
            "\u001b[34m\u001b[1mwandb\u001b[0m: \tteacher_forcing_ratio: 1\n"
          ]
        },
        {
          "output_type": "display_data",
          "data": {
            "text/plain": [
              "<IPython.core.display.HTML object>"
            ],
            "text/html": [
              "Ignoring project 'hpml-hw3-chatbot' when running a sweep."
            ]
          },
          "metadata": {}
        },
        {
          "output_type": "display_data",
          "data": {
            "text/plain": [
              "<IPython.core.display.HTML object>"
            ],
            "text/html": []
          },
          "metadata": {}
        },
        {
          "output_type": "display_data",
          "data": {
            "text/plain": [
              "<IPython.core.display.HTML object>"
            ],
            "text/html": [
              "Tracking run with wandb version 0.22.2"
            ]
          },
          "metadata": {}
        },
        {
          "output_type": "display_data",
          "data": {
            "text/plain": [
              "<IPython.core.display.HTML object>"
            ],
            "text/html": [
              "Run data is saved locally in <code>/content/wandb/run-20251024_232919-i68d6vzv</code>"
            ]
          },
          "metadata": {}
        },
        {
          "output_type": "display_data",
          "data": {
            "text/plain": [
              "<IPython.core.display.HTML object>"
            ],
            "text/html": [
              "Syncing run <strong><a href='https://wandb.ai/nikhildinesharora-nyu/hpml-hw3-chatbot/runs/i68d6vzv' target=\"_blank\">serene-sweep-8</a></strong> to <a href='https://wandb.ai/nikhildinesharora-nyu/hpml-hw3-chatbot' target=\"_blank\">Weights & Biases</a> (<a href='https://wandb.me/developer-guide' target=\"_blank\">docs</a>)<br>Sweep page: <a href='https://wandb.ai/nikhildinesharora-nyu/hpml-hw3-chatbot/sweeps/ze7oudki' target=\"_blank\">https://wandb.ai/nikhildinesharora-nyu/hpml-hw3-chatbot/sweeps/ze7oudki</a>"
            ]
          },
          "metadata": {}
        },
        {
          "output_type": "display_data",
          "data": {
            "text/plain": [
              "<IPython.core.display.HTML object>"
            ],
            "text/html": [
              " View project at <a href='https://wandb.ai/nikhildinesharora-nyu/hpml-hw3-chatbot' target=\"_blank\">https://wandb.ai/nikhildinesharora-nyu/hpml-hw3-chatbot</a>"
            ]
          },
          "metadata": {}
        },
        {
          "output_type": "display_data",
          "data": {
            "text/plain": [
              "<IPython.core.display.HTML object>"
            ],
            "text/html": [
              " View sweep at <a href='https://wandb.ai/nikhildinesharora-nyu/hpml-hw3-chatbot/sweeps/ze7oudki' target=\"_blank\">https://wandb.ai/nikhildinesharora-nyu/hpml-hw3-chatbot/sweeps/ze7oudki</a>"
            ]
          },
          "metadata": {}
        },
        {
          "output_type": "display_data",
          "data": {
            "text/plain": [
              "<IPython.core.display.HTML object>"
            ],
            "text/html": [
              " View run at <a href='https://wandb.ai/nikhildinesharora-nyu/hpml-hw3-chatbot/runs/i68d6vzv' target=\"_blank\">https://wandb.ai/nikhildinesharora-nyu/hpml-hw3-chatbot/runs/i68d6vzv</a>"
            ]
          },
          "metadata": {}
        },
        {
          "output_type": "stream",
          "name": "stdout",
          "text": [
            "[INFO] Layers: enc=2, dec=2, lr=0.001, opt=sgd\n",
            "Initializing ...\n",
            "Training...\n",
            "Iteration: 100; Percent complete: 6.7%; Average loss: 6.2852; Time: 0.1m\n",
            "Iteration: 200; Percent complete: 13.3%; Average loss: 4.7207; Time: 0.1m\n",
            "Iteration: 300; Percent complete: 20.0%; Average loss: 4.5586; Time: 0.2m\n",
            "Iteration: 400; Percent complete: 26.7%; Average loss: 4.4250; Time: 0.2m\n",
            "Iteration: 500; Percent complete: 33.3%; Average loss: 4.3398; Time: 0.3m\n",
            "Iteration: 600; Percent complete: 40.0%; Average loss: 4.3247; Time: 0.4m\n",
            "Iteration: 700; Percent complete: 46.7%; Average loss: 4.2597; Time: 0.4m\n",
            "Iteration: 800; Percent complete: 53.3%; Average loss: 4.2646; Time: 0.5m\n",
            "Iteration: 900; Percent complete: 60.0%; Average loss: 4.1823; Time: 0.6m\n",
            "Iteration: 1000; Percent complete: 66.7%; Average loss: 4.1593; Time: 0.6m\n",
            "Iteration: 1100; Percent complete: 73.3%; Average loss: 4.1312; Time: 0.7m\n",
            "Iteration: 1200; Percent complete: 80.0%; Average loss: 4.1141; Time: 0.7m\n",
            "Iteration: 1300; Percent complete: 86.7%; Average loss: 4.1153; Time: 0.8m\n",
            "Iteration: 1400; Percent complete: 93.3%; Average loss: 4.1010; Time: 0.9m\n",
            "Iteration: 1500; Percent complete: 100.0%; Average loss: 4.1046; Time: 0.9m\n",
            "[EVAL] BLEU: 0.1085, Perplexity: 60.40\n",
            "[SAVED] Model checkpoint saved to checkpoints/best_model_serene-sweep-8.pth\n"
          ]
        },
        {
          "output_type": "display_data",
          "data": {
            "text/plain": [
              "<IPython.core.display.HTML object>"
            ],
            "text/html": []
          },
          "metadata": {}
        },
        {
          "output_type": "display_data",
          "data": {
            "text/plain": [
              "<IPython.core.display.HTML object>"
            ],
            "text/html": [
              "<br>    <style><br>        .wandb-row {<br>            display: flex;<br>            flex-direction: row;<br>            flex-wrap: wrap;<br>            justify-content: flex-start;<br>            width: 100%;<br>        }<br>        .wandb-col {<br>            display: flex;<br>            flex-direction: column;<br>            flex-basis: 100%;<br>            flex: 1;<br>            padding: 10px;<br>        }<br>    </style><br><div class=\"wandb-row\"><div class=\"wandb-col\"><h3>Run history:</h3><br/><table class=\"wandb\"><tr><td>BLEU</td><td>▁</td></tr><tr><td>Perplexity</td><td>▁</td></tr><tr><td>avg_loss</td><td>█▃▂▂▂▂▂▂▁▁▁▁▁▁▁</td></tr><tr><td>final_avg_loss</td><td>▁</td></tr><tr><td>iteration</td><td>▁▁▂▃▃▃▄▅▅▅▆▇▇▇█</td></tr><tr><td>lr_decoder</td><td>████▄▄▄▄▄▂▂▂▂▂▁</td></tr><tr><td>lr_encoder</td><td>████▄▄▄▄▄▂▂▂▂▂▁</td></tr></table><br/></div><div class=\"wandb-col\"><h3>Run summary:</h3><br/><table class=\"wandb\"><tr><td>BLEU</td><td>0.10849</td></tr><tr><td>Perplexity</td><td>60.40101</td></tr><tr><td>avg_loss</td><td>4.1046</td></tr><tr><td>final_avg_loss</td><td>4.10101</td></tr><tr><td>final_loss</td><td>4.10101</td></tr><tr><td>iteration</td><td>1500</td></tr><tr><td>lr_decoder</td><td>0.00038</td></tr><tr><td>lr_encoder</td><td>0.00013</td></tr></table><br/></div></div>"
            ]
          },
          "metadata": {}
        },
        {
          "output_type": "display_data",
          "data": {
            "text/plain": [
              "<IPython.core.display.HTML object>"
            ],
            "text/html": [
              " View run <strong style=\"color:#cdcd00\">serene-sweep-8</strong> at: <a href='https://wandb.ai/nikhildinesharora-nyu/hpml-hw3-chatbot/runs/i68d6vzv' target=\"_blank\">https://wandb.ai/nikhildinesharora-nyu/hpml-hw3-chatbot/runs/i68d6vzv</a><br> View project at: <a href='https://wandb.ai/nikhildinesharora-nyu/hpml-hw3-chatbot' target=\"_blank\">https://wandb.ai/nikhildinesharora-nyu/hpml-hw3-chatbot</a><br>Synced 5 W&B file(s), 0 media file(s), 0 artifact file(s) and 1 other file(s)"
            ]
          },
          "metadata": {}
        },
        {
          "output_type": "display_data",
          "data": {
            "text/plain": [
              "<IPython.core.display.HTML object>"
            ],
            "text/html": [
              "Find logs at: <code>./wandb/run-20251024_232919-i68d6vzv/logs</code>"
            ]
          },
          "metadata": {}
        },
        {
          "output_type": "stream",
          "name": "stderr",
          "text": [
            "\u001b[34m\u001b[1mwandb\u001b[0m: Agent Starting Run: 3fjx898m with config:\n",
            "\u001b[34m\u001b[1mwandb\u001b[0m: \tclip: 100\n",
            "\u001b[34m\u001b[1mwandb\u001b[0m: \tdecoder_learning_ratio: 1\n",
            "\u001b[34m\u001b[1mwandb\u001b[0m: \tlearning_rate: 0.0005\n",
            "\u001b[34m\u001b[1mwandb\u001b[0m: \toptimizer: sgd\n",
            "\u001b[34m\u001b[1mwandb\u001b[0m: \tteacher_forcing_ratio: 0\n"
          ]
        },
        {
          "output_type": "display_data",
          "data": {
            "text/plain": [
              "<IPython.core.display.HTML object>"
            ],
            "text/html": [
              "Ignoring project 'hpml-hw3-chatbot' when running a sweep."
            ]
          },
          "metadata": {}
        },
        {
          "output_type": "display_data",
          "data": {
            "text/plain": [
              "<IPython.core.display.HTML object>"
            ],
            "text/html": []
          },
          "metadata": {}
        },
        {
          "output_type": "display_data",
          "data": {
            "text/plain": [
              "<IPython.core.display.HTML object>"
            ],
            "text/html": [
              "Tracking run with wandb version 0.22.2"
            ]
          },
          "metadata": {}
        },
        {
          "output_type": "display_data",
          "data": {
            "text/plain": [
              "<IPython.core.display.HTML object>"
            ],
            "text/html": [
              "Run data is saved locally in <code>/content/wandb/run-20251024_233021-3fjx898m</code>"
            ]
          },
          "metadata": {}
        },
        {
          "output_type": "display_data",
          "data": {
            "text/plain": [
              "<IPython.core.display.HTML object>"
            ],
            "text/html": [
              "Syncing run <strong><a href='https://wandb.ai/nikhildinesharora-nyu/hpml-hw3-chatbot/runs/3fjx898m' target=\"_blank\">visionary-sweep-9</a></strong> to <a href='https://wandb.ai/nikhildinesharora-nyu/hpml-hw3-chatbot' target=\"_blank\">Weights & Biases</a> (<a href='https://wandb.me/developer-guide' target=\"_blank\">docs</a>)<br>Sweep page: <a href='https://wandb.ai/nikhildinesharora-nyu/hpml-hw3-chatbot/sweeps/ze7oudki' target=\"_blank\">https://wandb.ai/nikhildinesharora-nyu/hpml-hw3-chatbot/sweeps/ze7oudki</a>"
            ]
          },
          "metadata": {}
        },
        {
          "output_type": "display_data",
          "data": {
            "text/plain": [
              "<IPython.core.display.HTML object>"
            ],
            "text/html": [
              " View project at <a href='https://wandb.ai/nikhildinesharora-nyu/hpml-hw3-chatbot' target=\"_blank\">https://wandb.ai/nikhildinesharora-nyu/hpml-hw3-chatbot</a>"
            ]
          },
          "metadata": {}
        },
        {
          "output_type": "display_data",
          "data": {
            "text/plain": [
              "<IPython.core.display.HTML object>"
            ],
            "text/html": [
              " View sweep at <a href='https://wandb.ai/nikhildinesharora-nyu/hpml-hw3-chatbot/sweeps/ze7oudki' target=\"_blank\">https://wandb.ai/nikhildinesharora-nyu/hpml-hw3-chatbot/sweeps/ze7oudki</a>"
            ]
          },
          "metadata": {}
        },
        {
          "output_type": "display_data",
          "data": {
            "text/plain": [
              "<IPython.core.display.HTML object>"
            ],
            "text/html": [
              " View run at <a href='https://wandb.ai/nikhildinesharora-nyu/hpml-hw3-chatbot/runs/3fjx898m' target=\"_blank\">https://wandb.ai/nikhildinesharora-nyu/hpml-hw3-chatbot/runs/3fjx898m</a>"
            ]
          },
          "metadata": {}
        },
        {
          "output_type": "stream",
          "name": "stdout",
          "text": [
            "[INFO] Layers: enc=2, dec=2, lr=0.0005, opt=sgd\n",
            "Initializing ...\n",
            "Training...\n",
            "Iteration: 100; Percent complete: 6.7%; Average loss: 7.4194; Time: 0.1m\n",
            "Iteration: 200; Percent complete: 13.3%; Average loss: 5.7456; Time: 0.2m\n",
            "Iteration: 300; Percent complete: 20.0%; Average loss: 5.3395; Time: 0.2m\n",
            "Iteration: 400; Percent complete: 26.7%; Average loss: 5.1270; Time: 0.3m\n",
            "Iteration: 500; Percent complete: 33.3%; Average loss: 5.0260; Time: 0.4m\n",
            "Iteration: 600; Percent complete: 40.0%; Average loss: 4.9930; Time: 0.5m\n",
            "Iteration: 700; Percent complete: 46.7%; Average loss: 4.9613; Time: 0.5m\n",
            "Iteration: 800; Percent complete: 53.3%; Average loss: 4.9415; Time: 0.6m\n",
            "Iteration: 900; Percent complete: 60.0%; Average loss: 4.9213; Time: 0.7m\n",
            "Iteration: 1000; Percent complete: 66.7%; Average loss: 4.9109; Time: 0.7m\n",
            "Iteration: 1100; Percent complete: 73.3%; Average loss: 4.9184; Time: 0.8m\n",
            "Iteration: 1200; Percent complete: 80.0%; Average loss: 4.8966; Time: 0.9m\n",
            "Iteration: 1300; Percent complete: 86.7%; Average loss: 4.8460; Time: 1.0m\n",
            "Iteration: 1400; Percent complete: 93.3%; Average loss: 4.9346; Time: 1.0m\n",
            "Iteration: 1500; Percent complete: 100.0%; Average loss: 4.8777; Time: 1.1m\n",
            "[EVAL] BLEU: 0.1637, Perplexity: 127.24\n",
            "[SAVED] Model checkpoint saved to checkpoints/best_model_visionary-sweep-9.pth\n"
          ]
        },
        {
          "output_type": "display_data",
          "data": {
            "text/plain": [
              "<IPython.core.display.HTML object>"
            ],
            "text/html": []
          },
          "metadata": {}
        },
        {
          "output_type": "display_data",
          "data": {
            "text/plain": [
              "<IPython.core.display.HTML object>"
            ],
            "text/html": [
              "<br>    <style><br>        .wandb-row {<br>            display: flex;<br>            flex-direction: row;<br>            flex-wrap: wrap;<br>            justify-content: flex-start;<br>            width: 100%;<br>        }<br>        .wandb-col {<br>            display: flex;<br>            flex-direction: column;<br>            flex-basis: 100%;<br>            flex: 1;<br>            padding: 10px;<br>        }<br>    </style><br><div class=\"wandb-row\"><div class=\"wandb-col\"><h3>Run history:</h3><br/><table class=\"wandb\"><tr><td>BLEU</td><td>▁</td></tr><tr><td>Perplexity</td><td>▁</td></tr><tr><td>avg_loss</td><td>█▃▂▂▁▁▁▁▁▁▁▁▁▁▁</td></tr><tr><td>final_avg_loss</td><td>▁</td></tr><tr><td>iteration</td><td>▁▁▂▃▃▃▄▅▅▅▆▇▇▇█</td></tr><tr><td>lr_decoder</td><td>████▄▄▄▄▄▂▂▂▂▂▁</td></tr><tr><td>lr_encoder</td><td>████▄▄▄▄▄▂▂▂▂▂▁</td></tr></table><br/></div><div class=\"wandb-col\"><h3>Run summary:</h3><br/><table class=\"wandb\"><tr><td>BLEU</td><td>0.16372</td></tr><tr><td>Perplexity</td><td>127.2367</td></tr><tr><td>avg_loss</td><td>4.87774</td></tr><tr><td>final_avg_loss</td><td>4.84605</td></tr><tr><td>final_loss</td><td>4.84605</td></tr><tr><td>iteration</td><td>1500</td></tr><tr><td>lr_decoder</td><td>6e-05</td></tr><tr><td>lr_encoder</td><td>6e-05</td></tr></table><br/></div></div>"
            ]
          },
          "metadata": {}
        },
        {
          "output_type": "display_data",
          "data": {
            "text/plain": [
              "<IPython.core.display.HTML object>"
            ],
            "text/html": [
              " View run <strong style=\"color:#cdcd00\">visionary-sweep-9</strong> at: <a href='https://wandb.ai/nikhildinesharora-nyu/hpml-hw3-chatbot/runs/3fjx898m' target=\"_blank\">https://wandb.ai/nikhildinesharora-nyu/hpml-hw3-chatbot/runs/3fjx898m</a><br> View project at: <a href='https://wandb.ai/nikhildinesharora-nyu/hpml-hw3-chatbot' target=\"_blank\">https://wandb.ai/nikhildinesharora-nyu/hpml-hw3-chatbot</a><br>Synced 5 W&B file(s), 0 media file(s), 0 artifact file(s) and 1 other file(s)"
            ]
          },
          "metadata": {}
        },
        {
          "output_type": "display_data",
          "data": {
            "text/plain": [
              "<IPython.core.display.HTML object>"
            ],
            "text/html": [
              "Find logs at: <code>./wandb/run-20251024_233021-3fjx898m/logs</code>"
            ]
          },
          "metadata": {}
        },
        {
          "output_type": "stream",
          "name": "stderr",
          "text": [
            "\u001b[34m\u001b[1mwandb\u001b[0m: Sweep Agent: Waiting for job.\n",
            "\u001b[34m\u001b[1mwandb\u001b[0m: Job received.\n",
            "\u001b[34m\u001b[1mwandb\u001b[0m: Agent Starting Run: 25p9bfcm with config:\n",
            "\u001b[34m\u001b[1mwandb\u001b[0m: \tclip: 25\n",
            "\u001b[34m\u001b[1mwandb\u001b[0m: \tdecoder_learning_ratio: 5\n",
            "\u001b[34m\u001b[1mwandb\u001b[0m: \tlearning_rate: 0.0005\n",
            "\u001b[34m\u001b[1mwandb\u001b[0m: \toptimizer: sgd\n",
            "\u001b[34m\u001b[1mwandb\u001b[0m: \tteacher_forcing_ratio: 1\n"
          ]
        },
        {
          "output_type": "display_data",
          "data": {
            "text/plain": [
              "<IPython.core.display.HTML object>"
            ],
            "text/html": [
              "Ignoring project 'hpml-hw3-chatbot' when running a sweep."
            ]
          },
          "metadata": {}
        },
        {
          "output_type": "display_data",
          "data": {
            "text/plain": [
              "<IPython.core.display.HTML object>"
            ],
            "text/html": []
          },
          "metadata": {}
        },
        {
          "output_type": "display_data",
          "data": {
            "text/plain": [
              "<IPython.core.display.HTML object>"
            ],
            "text/html": [
              "Tracking run with wandb version 0.22.2"
            ]
          },
          "metadata": {}
        },
        {
          "output_type": "display_data",
          "data": {
            "text/plain": [
              "<IPython.core.display.HTML object>"
            ],
            "text/html": [
              "Run data is saved locally in <code>/content/wandb/run-20251024_233143-25p9bfcm</code>"
            ]
          },
          "metadata": {}
        },
        {
          "output_type": "display_data",
          "data": {
            "text/plain": [
              "<IPython.core.display.HTML object>"
            ],
            "text/html": [
              "Syncing run <strong><a href='https://wandb.ai/nikhildinesharora-nyu/hpml-hw3-chatbot/runs/25p9bfcm' target=\"_blank\">classic-sweep-10</a></strong> to <a href='https://wandb.ai/nikhildinesharora-nyu/hpml-hw3-chatbot' target=\"_blank\">Weights & Biases</a> (<a href='https://wandb.me/developer-guide' target=\"_blank\">docs</a>)<br>Sweep page: <a href='https://wandb.ai/nikhildinesharora-nyu/hpml-hw3-chatbot/sweeps/ze7oudki' target=\"_blank\">https://wandb.ai/nikhildinesharora-nyu/hpml-hw3-chatbot/sweeps/ze7oudki</a>"
            ]
          },
          "metadata": {}
        },
        {
          "output_type": "display_data",
          "data": {
            "text/plain": [
              "<IPython.core.display.HTML object>"
            ],
            "text/html": [
              " View project at <a href='https://wandb.ai/nikhildinesharora-nyu/hpml-hw3-chatbot' target=\"_blank\">https://wandb.ai/nikhildinesharora-nyu/hpml-hw3-chatbot</a>"
            ]
          },
          "metadata": {}
        },
        {
          "output_type": "display_data",
          "data": {
            "text/plain": [
              "<IPython.core.display.HTML object>"
            ],
            "text/html": [
              " View sweep at <a href='https://wandb.ai/nikhildinesharora-nyu/hpml-hw3-chatbot/sweeps/ze7oudki' target=\"_blank\">https://wandb.ai/nikhildinesharora-nyu/hpml-hw3-chatbot/sweeps/ze7oudki</a>"
            ]
          },
          "metadata": {}
        },
        {
          "output_type": "display_data",
          "data": {
            "text/plain": [
              "<IPython.core.display.HTML object>"
            ],
            "text/html": [
              " View run at <a href='https://wandb.ai/nikhildinesharora-nyu/hpml-hw3-chatbot/runs/25p9bfcm' target=\"_blank\">https://wandb.ai/nikhildinesharora-nyu/hpml-hw3-chatbot/runs/25p9bfcm</a>"
            ]
          },
          "metadata": {}
        },
        {
          "output_type": "stream",
          "name": "stdout",
          "text": [
            "[INFO] Layers: enc=2, dec=2, lr=0.0005, opt=sgd\n",
            "Initializing ...\n",
            "Training...\n",
            "Iteration: 100; Percent complete: 6.7%; Average loss: 6.4214; Time: 0.1m\n",
            "Iteration: 200; Percent complete: 13.3%; Average loss: 4.8465; Time: 0.1m\n",
            "Iteration: 300; Percent complete: 20.0%; Average loss: 4.6405; Time: 0.2m\n",
            "Iteration: 400; Percent complete: 26.7%; Average loss: 4.5166; Time: 0.2m\n",
            "Iteration: 500; Percent complete: 33.3%; Average loss: 4.4305; Time: 0.3m\n",
            "Iteration: 600; Percent complete: 40.0%; Average loss: 4.3446; Time: 0.4m\n",
            "Iteration: 700; Percent complete: 46.7%; Average loss: 4.3218; Time: 0.4m\n",
            "Iteration: 800; Percent complete: 53.3%; Average loss: 4.2889; Time: 0.5m\n",
            "Iteration: 900; Percent complete: 60.0%; Average loss: 4.3108; Time: 0.6m\n",
            "Iteration: 1000; Percent complete: 66.7%; Average loss: 4.2488; Time: 0.6m\n",
            "Iteration: 1100; Percent complete: 73.3%; Average loss: 4.2407; Time: 0.7m\n",
            "Iteration: 1200; Percent complete: 80.0%; Average loss: 4.2089; Time: 0.7m\n",
            "Iteration: 1300; Percent complete: 86.7%; Average loss: 4.1695; Time: 0.8m\n",
            "Iteration: 1400; Percent complete: 93.3%; Average loss: 4.1615; Time: 0.9m\n",
            "Iteration: 1500; Percent complete: 100.0%; Average loss: 4.1690; Time: 0.9m\n",
            "[EVAL] BLEU: 0.1748, Perplexity: 64.17\n",
            "[SAVED] Model checkpoint saved to checkpoints/best_model_classic-sweep-10.pth\n"
          ]
        },
        {
          "output_type": "display_data",
          "data": {
            "text/plain": [
              "<IPython.core.display.HTML object>"
            ],
            "text/html": []
          },
          "metadata": {}
        },
        {
          "output_type": "display_data",
          "data": {
            "text/plain": [
              "<IPython.core.display.HTML object>"
            ],
            "text/html": [
              "<br>    <style><br>        .wandb-row {<br>            display: flex;<br>            flex-direction: row;<br>            flex-wrap: wrap;<br>            justify-content: flex-start;<br>            width: 100%;<br>        }<br>        .wandb-col {<br>            display: flex;<br>            flex-direction: column;<br>            flex-basis: 100%;<br>            flex: 1;<br>            padding: 10px;<br>        }<br>    </style><br><div class=\"wandb-row\"><div class=\"wandb-col\"><h3>Run history:</h3><br/><table class=\"wandb\"><tr><td>BLEU</td><td>▁</td></tr><tr><td>Perplexity</td><td>▁</td></tr><tr><td>avg_loss</td><td>█▃▂▂▂▂▁▁▁▁▁▁▁▁▁</td></tr><tr><td>final_avg_loss</td><td>▁</td></tr><tr><td>iteration</td><td>▁▁▂▃▃▃▄▅▅▅▆▇▇▇█</td></tr><tr><td>lr_decoder</td><td>████▄▄▄▄▄▂▂▂▂▂▁</td></tr><tr><td>lr_encoder</td><td>████▄▄▄▄▄▂▂▂▂▂▁</td></tr></table><br/></div><div class=\"wandb-col\"><h3>Run summary:</h3><br/><table class=\"wandb\"><tr><td>BLEU</td><td>0.17477</td></tr><tr><td>Perplexity</td><td>64.17086</td></tr><tr><td>avg_loss</td><td>4.16901</td></tr><tr><td>final_avg_loss</td><td>4.16155</td></tr><tr><td>final_loss</td><td>4.16155</td></tr><tr><td>iteration</td><td>1500</td></tr><tr><td>lr_decoder</td><td>0.00031</td></tr><tr><td>lr_encoder</td><td>6e-05</td></tr></table><br/></div></div>"
            ]
          },
          "metadata": {}
        },
        {
          "output_type": "display_data",
          "data": {
            "text/plain": [
              "<IPython.core.display.HTML object>"
            ],
            "text/html": [
              " View run <strong style=\"color:#cdcd00\">classic-sweep-10</strong> at: <a href='https://wandb.ai/nikhildinesharora-nyu/hpml-hw3-chatbot/runs/25p9bfcm' target=\"_blank\">https://wandb.ai/nikhildinesharora-nyu/hpml-hw3-chatbot/runs/25p9bfcm</a><br> View project at: <a href='https://wandb.ai/nikhildinesharora-nyu/hpml-hw3-chatbot' target=\"_blank\">https://wandb.ai/nikhildinesharora-nyu/hpml-hw3-chatbot</a><br>Synced 5 W&B file(s), 0 media file(s), 0 artifact file(s) and 1 other file(s)"
            ]
          },
          "metadata": {}
        },
        {
          "output_type": "display_data",
          "data": {
            "text/plain": [
              "<IPython.core.display.HTML object>"
            ],
            "text/html": [
              "Find logs at: <code>./wandb/run-20251024_233143-25p9bfcm/logs</code>"
            ]
          },
          "metadata": {}
        }
      ]
    },
    {
      "cell_type": "code",
      "source": [
        "import torch\n",
        "from torch.profiler import profile, record_function, ProfilerActivity\n",
        "\n",
        "batch_size = 32\n",
        "max_length = 10\n",
        "encoder.eval()\n",
        "decoder.eval()\n",
        "\n",
        "print(\"Profiling encoder-decoder forward pass...\")\n",
        "\n",
        "sample_input = torch.randint(0, voc.num_words, (max_length, batch_size), device=device)\n",
        "input_lengths = torch.full((batch_size,), max_length, dtype=torch.long).cpu()\n",
        "\n",
        "with profile(\n",
        "    activities=[ProfilerActivity.CPU, ProfilerActivity.CUDA],\n",
        "    record_shapes=True,\n",
        "    profile_memory=True,\n",
        "    with_stack=True,\n",
        "    on_trace_ready=torch.profiler.tensorboard_trace_handler(\"./logdir\")  # Saves trace for Chrome/TensorBoard\n",
        ") as prof:\n",
        "    with record_function(\"model_inference\"):\n",
        "        encoder_outputs, encoder_hidden = encoder(sample_input, input_lengths)\n",
        "        decoder_hidden = encoder_hidden[:decoder.n_layers]\n",
        "        decoder_input = torch.LongTensor([[SOS_token for _ in range(batch_size)]]).to(device)\n",
        "        decoder_output, decoder_hidden = decoder(decoder_input, decoder_hidden, encoder_outputs)\n",
        "\n",
        "print(prof.key_averages().table(sort_by=\"cuda_time_total\", row_limit=20))\n",
        "print(\"Trace saved. View it in Chrome or TensorBoard.\")"
      ],
      "metadata": {
        "colab": {
          "base_uri": "https://localhost:8080/"
        },
        "id": "xcOTLItKW5sM",
        "outputId": "eaca3fd0-2c93-44b0-f18a-330c7b83ac51"
      },
      "execution_count": 20,
      "outputs": [
        {
          "output_type": "stream",
          "name": "stdout",
          "text": [
            "Profiling encoder-decoder forward pass...\n",
            "-------------------------------------------------------  ------------  ------------  ------------  ------------  ------------  ------------  ------------  ------------  ------------  ------------  ------------  ------------  ------------  ------------  \n",
            "                                                   Name    Self CPU %      Self CPU   CPU total %     CPU total  CPU time avg     Self CUDA   Self CUDA %    CUDA total  CUDA time avg       CPU Mem  Self CPU Mem      CUDA Mem  Self CUDA Mem    # of Calls  \n",
            "-------------------------------------------------------  ------------  ------------  ------------  ------------  ------------  ------------  ------------  ------------  ------------  ------------  ------------  ------------  ------------  ------------  \n",
            "                                        model_inference         0.00%       0.000us         0.00%       0.000us       0.000us      21.342ms       744.82%      21.342ms       2.371ms           0 B           0 B           0 B           0 B             9  \n",
            "                                        model_inference        32.70%       3.328ms        92.57%       9.422ms       9.422ms       0.000us         0.00%       2.865ms       2.865ms          80 B        -512 B       2.68 MB      -2.27 MB             1  \n",
            "                                              aten::gru         2.50%     254.243us        35.31%       3.594ms       1.797ms       0.000us         0.00%       2.627ms       1.314ms           0 B           0 B     864.00 KB           0 B             2  \n",
            "                                       aten::_cudnn_rnn         9.86%       1.003ms        31.93%       3.251ms       1.625ms       2.627ms        91.69%       2.627ms       1.314ms           0 B           0 B     864.00 KB     -63.47 MB             2  \n",
            "                         volta_sgemm_32x32_sliced1x4_tn         0.00%       0.000us         0.00%       0.000us       0.000us       1.664ms        58.07%       1.664ms      37.814us           0 B           0 B           0 B           0 B            44  \n",
            "                                  volta_sgemm_128x64_tn         0.00%       0.000us         0.00%       0.000us       0.000us     712.814us        24.88%     712.814us     178.204us           0 B           0 B           0 B           0 B             4  \n",
            "void elemWiseRNNcell<float, float, float, (cudnnRNNM...         0.00%       0.000us         0.00%       0.000us       0.000us     250.559us         8.74%     250.559us       5.966us           0 B           0 B           0 B           0 B            42  \n",
            "                                           aten::linear         0.15%      14.998us         1.91%     194.370us      97.185us       0.000us         0.00%     142.780us      71.390us           0 B           0 B    1011.50 KB           0 B             2  \n",
            "                                            aten::addmm         1.09%     110.954us         1.46%     148.607us      74.303us     142.780us         4.98%     142.780us      71.390us           0 B           0 B    1011.50 KB    1011.50 KB             2  \n",
            "                                  volta_sgemm_128x32_tn         0.00%       0.000us         0.00%       0.000us       0.000us     116.957us         4.08%     116.957us     116.957us           0 B           0 B           0 B           0 B             1  \n",
            "                                          aten::softmax         0.10%       9.861us         1.86%     189.268us      94.634us       0.000us         0.00%      24.735us      12.368us           0 B           0 B     981.00 KB           0 B             2  \n",
            "                                         aten::_softmax         0.55%      56.462us         1.76%     179.407us      89.703us      20.351us         0.71%      24.735us      12.368us           0 B           0 B     981.00 KB     979.50 KB             2  \n",
            "                         volta_sgemm_64x32_sliced1x4_tn         0.00%       0.000us         0.00%       0.000us       0.000us      20.511us         0.72%      20.511us      20.511us           0 B           0 B           0 B           0 B             1  \n",
            "void at::native::(anonymous namespace)::cunn_SoftMax...         0.00%       0.000us         0.00%       0.000us       0.000us      16.447us         0.57%      16.447us      16.447us           0 B           0 B           0 B           0 B             1  \n",
            "                                            aten::copy_         0.50%      51.248us         1.46%     148.489us      49.496us      13.696us         0.48%      13.696us       4.565us           0 B           0 B           0 B           0 B             3  \n",
            "                         Memcpy DtoD (Device -> Device)         0.00%       0.000us         0.00%       0.000us       0.000us      13.087us         0.46%      13.087us       6.544us           0 B           0 B           0 B           0 B             2  \n",
            "                             aten::_pad_packed_sequence         0.29%      29.779us         1.76%     179.005us     179.005us       0.000us         0.00%      12.576us      12.576us         256 B           0 B     640.00 KB           0 B             1  \n",
            "                                        aten::embedding         0.96%      97.267us        10.86%       1.105ms     552.474us       0.000us         0.00%      11.616us       5.808us           0 B           0 B     352.00 KB           0 B             2  \n",
            "                                     aten::index_select         1.10%     112.381us         9.61%     977.846us     488.923us       0.000us         0.00%      11.616us       5.808us           0 B           0 B     352.00 KB           0 B             2  \n",
            "                                           aten::gather         0.67%      68.070us         1.34%     136.508us      68.254us      11.616us         0.41%      11.616us       5.808us           0 B           0 B           0 B           0 B             2  \n",
            "-------------------------------------------------------  ------------  ------------  ------------  ------------  ------------  ------------  ------------  ------------  ------------  ------------  ------------  ------------  ------------  ------------  \n",
            "Self CPU time total: 10.179ms\n",
            "Self CUDA time total: 2.865ms\n",
            "\n",
            "Trace saved. View it in Chrome or TensorBoard.\n"
          ]
        }
      ]
    },
    {
      "cell_type": "code",
      "source": [
        "# TorchScript Conversion & Evaluation\n",
        "import torch\n",
        "import torch.nn as nn\n",
        "\n",
        "encoder.eval()\n",
        "decoder.eval()\n",
        "\n",
        "print(\"Converting models to TorchScript...\")\n",
        "\n",
        "# Dummy input for tracing\n",
        "batch_size = 4\n",
        "max_length = 10\n",
        "sample_input = torch.randint(0, voc.num_words, (max_length, batch_size), device=device)\n",
        "input_lengths = torch.full((batch_size,), max_length, dtype=torch.long).cpu()\n",
        "hidden = torch.zeros(encoder.n_layers, batch_size, encoder.hidden_size, device=device)\n",
        "\n",
        "# TorchScript Conversion\n",
        "traced_encoder = torch.jit.trace(encoder, (sample_input, input_lengths))\n",
        "traced_decoder = torch.jit.trace(\n",
        "    decoder,\n",
        "    (\n",
        "        torch.LongTensor([[SOS_token for _ in range(batch_size)]]).to(device),\n",
        "        hidden[:decoder.n_layers],\n",
        "        torch.zeros(max_length, batch_size, encoder.hidden_size, device=device),\n",
        "    )\n",
        ")\n",
        "\n",
        "print(\"Encoder and Decoder converted to TorchScript.\")\n",
        "\n",
        "# Print Graphs\n",
        "print(\"\\n=== TorchScript Encoder Graph ===\")\n",
        "print(traced_encoder.graph)\n",
        "\n",
        "print(\"\\n=== TorchScript Decoder Graph ===\")\n",
        "print(traced_decoder.graph)\n",
        "\n",
        "# Evaluate TorchScript Models\n",
        "with torch.no_grad():\n",
        "    enc_out, enc_hidden = traced_encoder(sample_input, input_lengths)\n",
        "    dec_input = torch.LongTensor([[SOS_token for _ in range(batch_size)]]).to(device)\n",
        "    dec_hidden = enc_hidden[:decoder.n_layers]\n",
        "    dec_out, _ = traced_decoder(dec_input, dec_hidden, enc_out)\n",
        "\n",
        "print(\"\\nTorchScript model evaluation complete.\")\n",
        "print(\"Decoder output shape:\", dec_out.shape)\n",
        "\n",
        "# Compare with the original PyTorch model\n",
        "enc_out_ref, enc_hidden_ref = encoder(sample_input, input_lengths)\n",
        "dec_out_ref, _ = decoder(dec_input, dec_hidden, enc_out_ref)\n",
        "\n",
        "diff = torch.mean(torch.abs(dec_out - dec_out_ref)).item()\n",
        "print(f\"Average absolute difference vs. original model: {diff:.6f}\")\n",
        "\n",
        "# Save Serialized Models\n",
        "os.makedirs(\"torchscript_models\", exist_ok=True)\n",
        "encoder_path = \"torchscript_models/traced_encoder.pt\"\n",
        "decoder_path = \"torchscript_models/traced_decoder.pt\"\n",
        "traced_encoder.save(encoder_path)\n",
        "traced_decoder.save(decoder_path)\n",
        "print(f\"TorchScript models saved to {encoder_path} and {decoder_path}\")\n"
      ],
      "metadata": {
        "id": "PNvd4bxcuKTu",
        "colab": {
          "base_uri": "https://localhost:8080/"
        },
        "outputId": "d709d332-e195-4fa8-bb68-6f1d38f0d0d3"
      },
      "execution_count": 21,
      "outputs": [
        {
          "output_type": "stream",
          "name": "stdout",
          "text": [
            "Converting models to TorchScript...\n",
            "Encoder and Decoder converted to TorchScript.\n",
            "\n",
            "=== TorchScript Encoder Graph ===\n",
            "graph(%self.1 : __torch__.EncoderRNN,\n",
            "      %input_seq : Long(10, 4, strides=[4, 1], requires_grad=0, device=cuda:0),\n",
            "      %input_lengths : Long(4, strides=[1], requires_grad=0, device=cpu)):\n",
            "  %gru : __torch__.torch.nn.modules.rnn.GRU = prim::GetAttr[name=\"gru\"](%self.1)\n",
            "  %embedding : __torch__.torch.nn.modules.sparse.Embedding = prim::GetAttr[name=\"embedding\"](%self.1)\n",
            "  %152 : Tensor = prim::CallMethod[name=\"forward\"](%embedding, %input_seq)\n",
            "  %32 : int = prim::Constant[value=4]() # /usr/local/lib/python3.12/dist-packages/torch/nn/utils/rnn.py:322:0\n",
            "  %33 : bool = prim::Constant[value=0]() # /usr/local/lib/python3.12/dist-packages/torch/nn/utils/rnn.py:322:0\n",
            "  %34 : bool = prim::Constant[value=0]() # /usr/local/lib/python3.12/dist-packages/torch/nn/utils/rnn.py:322:0\n",
            "  %35 : NoneType = prim::Constant()\n",
            "  %lengths : Long(4, strides=[1], requires_grad=0, device=cpu) = aten::to(%input_lengths, %32, %33, %34, %35) # /usr/local/lib/python3.12/dist-packages/torch/nn/utils/rnn.py:322:0\n",
            "  %37 : bool = prim::Constant[value=0]() # /usr/local/lib/python3.12/dist-packages/torch/nn/utils/rnn.py:332:0\n",
            "  %input : Float(40, 256, strides=[256, 1], requires_grad=1, device=cuda:0), %batch_sizes : Long(10, strides=[1], requires_grad=0, device=cpu) = aten::_pack_padded_sequence(%152, %lengths, %37) # /usr/local/lib/python3.12/dist-packages/torch/nn/utils/rnn.py:332:0\n",
            "  %153 : (Tensor, Tensor) = prim::CallMethod[name=\"forward\"](%gru, %batch_sizes, %input)\n",
            "  %150 : Float(40, 512, strides=[512, 1], requires_grad=1, device=cuda:0), %151 : Float(4, 4, 256, strides=[1024, 256, 1], requires_grad=1, device=cuda:0) = prim::TupleUnpack(%153)\n",
            "  %83 : int = prim::Constant[value=0]() # /usr/local/lib/python3.12/dist-packages/torch/nn/utils/rnn.py:391:0\n",
            "  %84 : int = aten::size(%batch_sizes, %83) # /usr/local/lib/python3.12/dist-packages/torch/nn/utils/rnn.py:391:0\n",
            "  %max_seq_length : Long(device=cpu) = prim::NumToTensor(%84)\n",
            "  %86 : int = aten::Int(%max_seq_length)\n",
            "  %87 : bool = prim::Constant[value=0]() # /usr/local/lib/python3.12/dist-packages/torch/nn/utils/rnn.py:400:0\n",
            "  %88 : float = prim::Constant[value=0.]() # /usr/local/lib/python3.12/dist-packages/torch/nn/utils/rnn.py:400:0\n",
            "  %outputs : Float(10, 4, 512, strides=[2048, 512, 1], requires_grad=1, device=cuda:0), %90 : Long(4, strides=[1], requires_grad=0, device=cpu) = aten::_pad_packed_sequence(%150, %batch_sizes, %87, %88, %86) # /usr/local/lib/python3.12/dist-packages/torch/nn/utils/rnn.py:400:0\n",
            "  %91 : int = prim::Constant[value=0]() # /tmp/ipython-input-2666902013.py:27:0\n",
            "  %92 : int = prim::Constant[value=0]() # /tmp/ipython-input-2666902013.py:27:0\n",
            "  %93 : int = prim::Constant[value=9223372036854775807]() # /tmp/ipython-input-2666902013.py:27:0\n",
            "  %94 : int = prim::Constant[value=1]() # /tmp/ipython-input-2666902013.py:27:0\n",
            "  %95 : Float(10, 4, 512, strides=[2048, 512, 1], requires_grad=1, device=cuda:0) = aten::slice(%outputs, %91, %92, %93, %94) # /tmp/ipython-input-2666902013.py:27:0\n",
            "  %96 : int = prim::Constant[value=1]() # /tmp/ipython-input-2666902013.py:27:0\n",
            "  %97 : int = prim::Constant[value=0]() # /tmp/ipython-input-2666902013.py:27:0\n",
            "  %98 : int = prim::Constant[value=9223372036854775807]() # /tmp/ipython-input-2666902013.py:27:0\n",
            "  %99 : int = prim::Constant[value=1]() # /tmp/ipython-input-2666902013.py:27:0\n",
            "  %100 : Float(10, 4, 512, strides=[2048, 512, 1], requires_grad=1, device=cuda:0) = aten::slice(%95, %96, %97, %98, %99) # /tmp/ipython-input-2666902013.py:27:0\n",
            "  %101 : int = prim::Constant[value=2]() # /tmp/ipython-input-2666902013.py:27:0\n",
            "  %102 : int = prim::Constant[value=0]() # /tmp/ipython-input-2666902013.py:27:0\n",
            "  %103 : int = prim::Constant[value=256]() # /tmp/ipython-input-2666902013.py:27:0\n",
            "  %104 : int = prim::Constant[value=1]() # /tmp/ipython-input-2666902013.py:27:0\n",
            "  %105 : Float(10, 4, 256, strides=[2048, 512, 1], requires_grad=1, device=cuda:0) = aten::slice(%100, %101, %102, %103, %104) # /tmp/ipython-input-2666902013.py:27:0\n",
            "  %106 : int = prim::Constant[value=0]() # /tmp/ipython-input-2666902013.py:27:0\n",
            "  %107 : int = prim::Constant[value=0]() # /tmp/ipython-input-2666902013.py:27:0\n",
            "  %108 : int = prim::Constant[value=9223372036854775807]() # /tmp/ipython-input-2666902013.py:27:0\n",
            "  %109 : int = prim::Constant[value=1]() # /tmp/ipython-input-2666902013.py:27:0\n",
            "  %110 : Float(10, 4, 512, strides=[2048, 512, 1], requires_grad=1, device=cuda:0) = aten::slice(%outputs, %106, %107, %108, %109) # /tmp/ipython-input-2666902013.py:27:0\n",
            "  %111 : int = prim::Constant[value=1]() # /tmp/ipython-input-2666902013.py:27:0\n",
            "  %112 : int = prim::Constant[value=0]() # /tmp/ipython-input-2666902013.py:27:0\n",
            "  %113 : int = prim::Constant[value=9223372036854775807]() # /tmp/ipython-input-2666902013.py:27:0\n",
            "  %114 : int = prim::Constant[value=1]() # /tmp/ipython-input-2666902013.py:27:0\n",
            "  %115 : Float(10, 4, 512, strides=[2048, 512, 1], requires_grad=1, device=cuda:0) = aten::slice(%110, %111, %112, %113, %114) # /tmp/ipython-input-2666902013.py:27:0\n",
            "  %116 : int = prim::Constant[value=2]() # /tmp/ipython-input-2666902013.py:27:0\n",
            "  %117 : int = prim::Constant[value=256]() # /tmp/ipython-input-2666902013.py:27:0\n",
            "  %118 : int = prim::Constant[value=9223372036854775807]() # /tmp/ipython-input-2666902013.py:27:0\n",
            "  %119 : int = prim::Constant[value=1]() # /tmp/ipython-input-2666902013.py:27:0\n",
            "  %120 : Float(10, 4, 256, strides=[2048, 512, 1], requires_grad=1, device=cuda:0) = aten::slice(%115, %116, %117, %118, %119) # /tmp/ipython-input-2666902013.py:27:0\n",
            "  %121 : int = prim::Constant[value=1]() # /tmp/ipython-input-2666902013.py:27:0\n",
            "  %122 : Float(10, 4, 256, strides=[1024, 256, 1], requires_grad=1, device=cuda:0) = aten::add(%105, %120, %121) # /tmp/ipython-input-2666902013.py:27:0\n",
            "  %123 : (Float(10, 4, 256, strides=[1024, 256, 1], requires_grad=1, device=cuda:0), Float(4, 4, 256, strides=[1024, 256, 1], requires_grad=1, device=cuda:0)) = prim::TupleConstruct(%122, %151)\n",
            "  return (%123)\n",
            "\n",
            "\n",
            "=== TorchScript Decoder Graph ===\n",
            "graph(%self.1 : __torch__.LuongAttnDecoderRNN,\n",
            "      %input_step : Long(1, 4, strides=[4, 1], requires_grad=0, device=cuda:0),\n",
            "      %last_hidden : Float(2, 4, 256, strides=[1024, 256, 1], requires_grad=0, device=cuda:0),\n",
            "      %encoder_outputs : Float(10, 4, 256, strides=[1024, 256, 1], requires_grad=0, device=cuda:0)):\n",
            "  %out : __torch__.torch.nn.modules.linear.___torch_mangle_5.Linear = prim::GetAttr[name=\"out\"](%self.1)\n",
            "  %concat : __torch__.torch.nn.modules.linear.Linear = prim::GetAttr[name=\"concat\"](%self.1)\n",
            "  %attn : __torch__.Attn = prim::GetAttr[name=\"attn\"](%self.1)\n",
            "  %gru : __torch__.torch.nn.modules.rnn.___torch_mangle_4.GRU = prim::GetAttr[name=\"gru\"](%self.1)\n",
            "  %embedding_dropout : __torch__.torch.nn.modules.dropout.Dropout = prim::GetAttr[name=\"embedding_dropout\"](%self.1)\n",
            "  %embedding : __torch__.torch.nn.modules.sparse.___torch_mangle_3.Embedding = prim::GetAttr[name=\"embedding\"](%self.1)\n",
            "  %144 : Tensor = prim::CallMethod[name=\"forward\"](%embedding, %input_step)\n",
            "  %145 : Tensor = prim::CallMethod[name=\"forward\"](%embedding_dropout, %144)\n",
            "  %146 : (Tensor, Tensor) = prim::CallMethod[name=\"forward\"](%gru, %145, %last_hidden)\n",
            "  %142 : Float(1, 4, 256, strides=[1024, 256, 1], requires_grad=1, device=cuda:0), %143 : Float(2, 4, 256, strides=[1024, 256, 1], requires_grad=1, device=cuda:0) = prim::TupleUnpack(%146)\n",
            "  %147 : Tensor = prim::CallMethod[name=\"forward\"](%attn, %142, %encoder_outputs)\n",
            "  %90 : int = prim::Constant[value=0]() # /tmp/ipython-input-1031391285.py:37:0\n",
            "  %91 : int = prim::Constant[value=1]() # /tmp/ipython-input-1031391285.py:37:0\n",
            "  %92 : Float(4, 10, 256, strides=[256, 1024, 1], requires_grad=0, device=cuda:0) = aten::transpose(%encoder_outputs, %90, %91) # /tmp/ipython-input-1031391285.py:37:0\n",
            "  %context.1 : Float(4, 1, 256, strides=[256, 256, 1], requires_grad=1, device=cuda:0) = aten::bmm(%147, %92) # /tmp/ipython-input-1031391285.py:37:0\n",
            "  %94 : int = prim::Constant[value=0]() # /tmp/ipython-input-1031391285.py:40:0\n",
            "  %rnn_output : Float(4, 256, strides=[256, 1], requires_grad=1, device=cuda:0) = aten::squeeze(%142, %94) # /tmp/ipython-input-1031391285.py:40:0\n",
            "  %96 : int = prim::Constant[value=1]() # /tmp/ipython-input-1031391285.py:41:0\n",
            "  %context : Float(4, 256, strides=[256, 1], requires_grad=1, device=cuda:0) = aten::squeeze(%context.1, %96) # /tmp/ipython-input-1031391285.py:41:0\n",
            "  %98 : Tensor[] = prim::ListConstruct(%rnn_output, %context)\n",
            "  %99 : int = prim::Constant[value=1]() # /tmp/ipython-input-1031391285.py:42:0\n",
            "  %input.7 : Float(4, 512, strides=[512, 1], requires_grad=1, device=cuda:0) = aten::cat(%98, %99) # /tmp/ipython-input-1031391285.py:42:0\n",
            "  %148 : Tensor = prim::CallMethod[name=\"forward\"](%concat, %input.7)\n",
            "  %input.9 : Float(4, 256, strides=[256, 1], requires_grad=1, device=cuda:0) = aten::tanh(%148) # /tmp/ipython-input-1031391285.py:43:0\n",
            "  %149 : Tensor = prim::CallMethod[name=\"forward\"](%out, %input.9)\n",
            "  %104 : int = prim::Constant[value=1]() # /usr/local/lib/python3.12/dist-packages/torch/nn/functional.py:2137:0\n",
            "  %105 : NoneType = prim::Constant()\n",
            "  %106 : Float(4, 7836, strides=[7836, 1], requires_grad=1, device=cuda:0) = aten::softmax(%149, %104, %105) # /usr/local/lib/python3.12/dist-packages/torch/nn/functional.py:2137:0\n",
            "  %107 : (Float(4, 7836, strides=[7836, 1], requires_grad=1, device=cuda:0), Float(2, 4, 256, strides=[1024, 256, 1], requires_grad=1, device=cuda:0)) = prim::TupleConstruct(%106, %143)\n",
            "  return (%107)\n",
            "\n",
            "\n",
            "TorchScript model evaluation complete.\n",
            "Decoder output shape: torch.Size([4, 7836])\n",
            "Average absolute difference vs. original model: 0.000000\n",
            "TorchScript models saved to torchscript_models/traced_encoder.pt and torchscript_models/traced_decoder.pt\n"
          ]
        }
      ]
    }
  ],
  "metadata": {
    "kernelspec": {
      "display_name": "Python 3",
      "name": "python3"
    },
    "language_info": {
      "codemirror_mode": {
        "name": "ipython",
        "version": 3
      },
      "file_extension": ".py",
      "mimetype": "text/x-python",
      "name": "python",
      "nbconvert_exporter": "python",
      "pygments_lexer": "ipython3",
      "version": "3.10.12"
    },
    "colab": {
      "provenance": [],
      "gpuType": "T4",
      "include_colab_link": true
    },
    "accelerator": "GPU"
  },
  "nbformat": 4,
  "nbformat_minor": 0
}